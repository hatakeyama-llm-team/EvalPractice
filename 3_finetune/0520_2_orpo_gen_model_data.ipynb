{
 "cells": [
  {
   "cell_type": "code",
   "execution_count": 6,
   "metadata": {},
   "outputs": [],
   "source": [
    "from transformers import AutoTokenizer\n",
    "from vllm import SamplingParams\n",
    "import string\n",
    "from vllm import LLM\n",
    "from datasets import load_dataset\n",
    "from tqdm import tqdm\n",
    "import random\n",
    "from datetime import datetime\n",
    "import json\n",
    "import pandas as pd\n",
    "\n",
    "random.seed(42)\n",
    "\n",
    "model_name = \"hatakeyama-llm-team/tanuki_inst_0515test\"\n",
    "n_batch = 10000\n",
    "current_time_no_symbols = datetime.now().strftime(\n",
    "    \"%Y-%m-%d %H:%M:%S\").replace(\"-\", \"\").replace(\":\", \"\").replace(\" \", \"\")\n",
    "out_path = f\"data/0520orpo_model/model_{current_time_no_symbols}.jsonl\"\n",
    "\n",
    "n_jobs=8\n",
    "job_id=0"
   ]
  },
  {
   "cell_type": "code",
   "execution_count": 2,
   "metadata": {},
   "outputs": [],
   "source": [
    "df=pd.read_parquet(\"data/0520orpo/code_all_10000000000.parquet\")\n",
    "records=df.to_dict(orient=\"records\")"
   ]
  },
  {
   "cell_type": "code",
   "execution_count": null,
   "metadata": {},
   "outputs": [],
   "source": [
    "print(\"init models...\")\n",
    "llm = LLM(model=model_name, trust_remote_code=True)\n",
    "\n",
    "# %%\n",
    "tokenizer = AutoTokenizer.from_pretrained(model_name)\n",
    "\n",
    "\n",
    "# プロンプトテンプレートの準備\n",
    "random.shuffle(records)\n",
    "\n",
    "#jobで分割\n",
    "job_size=int(len(records)/n_jobs)\n",
    "records=records[job_id*job_size:(job_id+1)*job_size]\n",
    "\n",
    "cnt = 0\n",
    "for i in tqdm(range(int(len(records)/n_batch))):\n",
    "    # プロンプトの準備\n",
    "    sampled_records = records[cnt*n_batch:(cnt+1)*n_batch]\n",
    "\n",
    "    prompts = []\n",
    "    for record in sampled_records:\n",
    "        prompts.append(tokenizer.encode(record[\"prompt\"])[:-1])\n",
    "\n",
    "    # 推論の実行\n",
    "    outputs = llm.generate(\n",
    "        # prompts,\n",
    "        prompt_token_ids=prompts,\n",
    "        sampling_params=SamplingParams(\n",
    "            temperature=0.1,\n",
    "            max_tokens=512,\n",
    "        )\n",
    "    )\n",
    "    for i, output in enumerate(outputs):\n",
    "        sampled_records[i][\"model_answer\"] = output.outputs[0].text\n",
    "\n",
    "        #模範解答と同じ場合は分かりませんにする\n",
    "        #if sampled_records[i][\"model_answer\"] == sampled_records[i][\"answer\"]:\n",
    "        #    sampled_records[i][\"model_answer\"] = \"分かりません\"\n",
    "    with open(out_path, \"a\") as f:\n",
    "        for record in sampled_records:\n",
    "            record.pop(\"prompt\")\n",
    "            f.write(json.dumps(record, ensure_ascii=False))\n",
    "            f.write(\"\\n\")\n",
    "\n",
    "    cnt += 1\n",
    "\n"
   ]
  }
 ],
 "metadata": {
  "kernelspec": {
   "display_name": "llmeval",
   "language": "python",
   "name": "python3"
  },
  "language_info": {
   "codemirror_mode": {
    "name": "ipython",
    "version": 3
   },
   "file_extension": ".py",
   "mimetype": "text/x-python",
   "name": "python",
   "nbconvert_exporter": "python",
   "pygments_lexer": "ipython3",
   "version": "3.11.8"
  }
 },
 "nbformat": 4,
 "nbformat_minor": 2
}
