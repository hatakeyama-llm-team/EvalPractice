{
 "cells": [
  {
   "cell_type": "code",
   "execution_count": 1,
   "metadata": {},
   "outputs": [
    {
     "name": "stderr",
     "output_type": "stream",
     "text": [
      "/home/hatakeyama/miniconda3/envs/llmeval/lib/python3.11/site-packages/tqdm/auto.py:21: TqdmWarning: IProgress not found. Please update jupyter and ipywidgets. See https://ipywidgets.readthedocs.io/en/stable/user_install.html\n",
      "  from .autonotebook import tqdm as notebook_tqdm\n",
      "mkdir: cannot create directory ‘data/0523ft_all’: File exists\n"
     ]
    }
   ],
   "source": [
    "# instruciton datasetの生成\n",
    "import pandas as pd\n",
    "import os\n",
    "from datasets import load_dataset\n",
    "import json\n",
    "import random\n",
    "from tqdm import tqdm\n",
    "import re\n",
    "\n",
    "data_folder=\"data/0523ft_all\"\n",
    "\n",
    "#dataフォルダ内をリセット\n",
    "os.system(f\"mkdir {data_folder}\")\n",
    "os.system(f\"rm -rf {data_folder}/*\")\n",
    "\n",
    "\n",
    "ds_dict={}\n"
   ]
  },
  {
   "cell_type": "code",
   "execution_count": 2,
   "metadata": {},
   "outputs": [],
   "source": [
    "import hashlib\n",
    "\n",
    "#重複判定のためのハッシュ化: 使わない\n",
    "def hash_text(text, algorithm='sha256'):\n",
    "    encoded_text = text.encode()\n",
    "    hash_object = hashlib.new(algorithm)\n",
    "    hash_object.update(encoded_text)\n",
    "    hash_hex = hash_object.hexdigest()\n",
    "    return hash_hex\n"
   ]
  },
  {
   "cell_type": "code",
   "execution_count": 3,
   "metadata": {},
   "outputs": [],
   "source": [
    "# cleaning script\n",
    "def clean_autogen(text):\n",
    "    if text is None:\n",
    "        return \"\"\n",
    "    text=text.strip()\n",
    "    return text\n",
    "\n",
    "question_template=\"以下は、タスクを説明する指示と、文脈のある入力の組み合わせです。要求を適切に満たす応答を書きなさい。\\n\\n### 指示:\\n\"\n",
    "answer_template=\"\\n\\n### 応答:\\n\"\n",
    "\n",
    "\n",
    "records=[]\n",
    "\n",
    "# # mixtralで自動生成したQ&A\n",
    "\n",
    "score_threshold=4\n",
    "ng_words=[\n",
    "          #回答を避けるプロンプトの削除\n",
    "          \"申し訳\",\"分からない\",\"分かりません\",\"すみません\",\n",
    "          #図表などへの言及\n",
    "          \"図\",\"表\",\n",
    "          \"市\",\"県\",\n",
    "          \"漢字\",\n",
    "          ]\n",
    "#日本関係の事項はハルシネーションが多い\n",
    "ng_words+= [\n",
    "    \"北海\", \"青森\", \"岩手\", \"宮城\", \"秋田\", \"山形\", \"福島\",\n",
    "    \"茨城\", \"栃木\", \"群馬\", \"埼玉\", \"千葉\", \"東京\", \"神奈川\",\n",
    "    \"新潟\", \"富山\", \"石川\", \"福井\", \"山梨\", \"長野\", \"岐阜\",\n",
    "    \"静岡\", \"愛知\", \"三重\", \"滋賀\", \"京都\", \"大阪\", \"兵庫\",\n",
    "    \"奈良\", \"和歌山\", \"鳥取\", \"島根\", \"岡山\", \"広島\", \"山口\",\n",
    "    \"徳島\", \"香川\", \"愛媛\", \"高知\", \"福岡\", \"佐賀\", \"長崎\",\n",
    "    \"熊本\", \"大分\", \"宮崎\", \"鹿児島\", \"沖縄\"\n",
    "]\n",
    "ng_words+= [\n",
    "    \"札幌\", \"仙台\", \"新潟\", \"横浜\", \"川崎\", \"相模原\", \"名古屋\",\n",
    "    \"京都\", \"大阪\", \"神戸\", \"堺\", \"広島\", \"北九州\", \"福岡\",\n",
    "    \"熊本\", \"那覇\", \"千葉\", \"さいたま\", \"静岡\", \"浜松\", \"岡山\",\n",
    "    \"鹿児島\", \"長崎\", \"松山\", \"高松\", \"徳島\", \"高知\", \"大分\",\n",
    "    \"宮崎\", \"長野\", \"金沢\", \"富山\", \"福井\", \"松本\", \"豊橋\",\n",
    "    \"岐阜\", \"甲府\", \"奈良\", \"和歌山\", \"姫路\", \"福山\", \"呉\",\n",
    "    \"倉敷\", \"宇部\", \"下関\", \"高岡\", \"今治\", \"東広島\", \"伊勢\",\n",
    "    \"旭川\", \"函館\", \"室蘭\", \"帯広\", \"釧路\", \"青森\", \"八戸\",\n",
    "    \"弘前\", \"秋田\", \"盛岡\", \"山形\", \"福島\", \"郡山\", \"いわき\",\n",
    "    \"宇都宮\", \"前橋\", \"高崎\", \"水戸\", \"日立\", \"土浦\", \"柏\",\n",
    "    \"松戸\", \"浦安\", \"市川\", \"船橋\", \"川口\", \"越谷\", \"草加\",\n",
    "    \"所沢\", \"川越\", \"熊谷\", \"相馬\", \"大宮\", \"高槻\", \"豊中\",\n",
    "    \"茨木\", \"八尾\", \"寝屋川\", \"枚方\", \"平塚\", \"藤沢\", \"厚木\",\n",
    "    \"横須賀\", \"三浦\", \"鎌倉\", \"小田原\", \"逗子\", \"鎌倉\", \"茅ヶ崎\",\n",
    "    \"三鷹\", \"八王子\", \"立川\", \"府中\", \"調布\", \"町田\", \"稲城\",\n",
    "    \"横浜\", \"厚木\", \"大和\", \"綾瀬\", \"藤沢\", \"鎌倉\", \"平塚\",\n",
    "    \"鶴岡\", \"酒田\", \"米沢\", \"会津若松\", \"白河\", \"前橋\", \"草津\",\n",
    "    \"沼津\", \"富士\", \"清水\", \"掛川\", \"豊田\", \"岡崎\", \"一宮\",\n",
    "    \"津\", \"四日市\", \"鈴鹿\", \"名張\", \"甲賀\", \"彦根\", \"大津\",\n",
    "    \"舞鶴\", \"長浜\", \"高槻\", \"枚方\", \"東大阪\", \"西宮\", \"芦屋\",\n",
    "    \"加古川\", \"明石\", \"洲本\", \"淡路\", \"津山\", \"玉野\", \"赤磐\",\n",
    "    \"出雲\", \"松江\", \"大田\", \"浜田\", \"益田\", \"鳥取\", \"倉吉\",\n",
    "    \"米子\", \"西条\", \"新居浜\", \"大洲\", \"八幡浜\", \"今治\", \"佐世保\",\n",
    "    \"平戸\", \"諫早\", \"雲仙\", \"南島原\", \"宇和島\", \"八幡浜\", \"中津\",\n",
    "    \"豊後高田\", \"別府\", \"佐伯\", \"延岡\", \"小林\", \"日向\", \"串間\",\n",
    "    \"都城\", \"曽於\", \"奄美\", \"名瀬\", \"日南\", \"伊佐\", \"薩摩川内\"\n",
    "]\n",
    "ng_words+=[\n",
    "    \"寿司\", \"天ぷら\", \"ラーメン\", \"うどん\", \"そば\", \"抹茶\", \"お茶\", \"和牛\", \"刺身\", \"味噌\",\n",
    "    \"醤油\", \"出汁\", \"海苔\", \"焼き鳥\", \"たこ焼き\", \"お好み焼き\", \"納豆\", \"梅干し\", \"御節料理\", \"懐石料理\",\n",
    "    \"茶道\", \"華道\", \"書道\", \"剣道\", \"柔道\", \"空手\", \"相撲\", \"合気道\", \"弓道\", \"盆栽\",\n",
    "    \"歌舞伎\", \"能\", \"狂言\", \"文楽\", \"雅楽\", \"俳句\", \"短歌\", \"浮世絵\", \"陶芸\", \"漆芸\",\"寺\",\n",
    "    \"折り紙\", \"切り紙\", \"漫画\", \"アニメ\", \"ゲーム\", \"カラオケ\", \"パチンコ\", \"温泉\", \"祭り\", \"花火\",\n",
    "    \"桜\", \"紅葉\", \"富士山\", \"神社\", \"寺\", \"御守り\", \"御朱印\", \"着物\", \"浴衣\", \"下駄\",\n",
    "    \"祭り\", \"神輿\", \"太鼓\", \"扇子\", \"団扇\", \"風鈴\", \"畳\", \"ふすま\", \"障子\", \"縁側\",\n",
    "    \"庭園\", \"苔庭\", \"枯山水\", \"茶室\", \"茶会\", \"詩吟\", \"剣舞\", \"能楽\", \"能面\", \"狂言面\",\n",
    "    \"和装\", \"浴衣\", \"羽織\", \"帯\", \"袴\", \"足袋\", \"草履\", \"雪駄\", \"忍者\", \"侍\",\n",
    "    \"鎧\", \"刀\", \"武士道\", \"茶道具\", \"書道具\", \"筆\", \"墨\", \"硯\", \"和紙\", \"掛け軸\",\n",
    "    \"日本酒\", \"焼酎\", \"泡盛\", \"梅酒\", \"甘酒\", \"酢\", \"味醂\", \"干物\", \"漬物\", \"佃煮\",\n",
    "    \"和菓子\", \"羊羹\", \"団子\", \"饅頭\", \"大福\", \"最中\", \"おかき\", \"煎餅\", \"葛切り\", \"寒天\",\n",
    "    \"金平糖\", \"和三盆\", \"葛餅\", \"茶碗蒸し\", \"茶粥\", \"釜飯\", \"炊き込みご飯\", \"味噌汁\", \"吸い物\", \"煮物\",\n",
    "    \"焼き物\", \"揚げ物\", \"蒸し物\", \"酢の物\", \"和え物\", \"刺身\", \"寿司\", \"天ぷら\", \"かき揚げ\", \"たたき\",\n",
    "    \"しゃぶしゃぶ\", \"すき焼き\", \"おでん\", \"肉じゃが\", \"お好み焼き\", \"たこ焼き\", \"焼きそば\", \"餃子\", \"ラーメン\", \"うどん\",\n",
    "    \"そば\", \"お茶漬け\", \"煮込み\", \"鍋物\", \"うなぎ\", \"かば焼き\", \"山菜\", \"海藻\", \"昆布\", \"わかめ\",\n",
    "    \"ひじき\", \"もずく\", \"くろも\", \"青のり\", \"おかゆ\", \"おにぎり\", \"巻き寿司\", \"押し寿司\", \"ちらし寿司\", \"稲荷寿司\",\n",
    "    \"太巻き\", \"細巻き\", \"巻き物\", \"茶道\", \"華道\", \"書道\", \"剣道\", \"柔道\", \"空手\", \"合気道\",\n",
    "    \"相撲\", \"弓道\", \"薙刀\", \"砲術\", \"居合道\", \"柔術\", \"槍術\", \"剣術\", \"古武道\", \"武道\",\n",
    "    \"忍術\", \"忍者\", \"侍\", \"刀\", \"鎧\", \"兜\", \"武士道\", \"戦国時代\", \"江戸時代\", \"明治時代\",\n",
    "    \"大正時代\", \"昭和時代\", \"平成時代\", \"令和時代\", \"平安時代\", \"鎌倉時代\", \"南北朝時代\", \"室町時代\", \"安土桃山時代\", \"幕末\",\n",
    "    \"幕府\", \"将軍\", \"大名\", \"藩\", \"城\", \"町人\", \"農民\", \"商人\", \"武士\", \"刀鍛冶\",\n",
    "    \"忍び装束\", \"槍\", \"薙刀\", \"弓\", \"弓術\", \"射箭\", \"武術\", \"弓術\", \"長刀\", \"手裏剣\",\n",
    "    \"くノ一\", \"隠密\", \"間者\", \"諜報\", \"密偵\", \"間者\", \"忍び\", \"変わり身\", \"火遁\", \"水遁\",\n",
    "    \"風遁\", \"土遁\", \"雷遁\", \"分身\", \"分身の術\", \"影分身\", \"影分身の術\", \"影\", \"手裏剣術\", \"投擲\",\n",
    "    \"手甲\", \"鎖鎌\", \"十手\", \"鎖\", \"鎖術\", \"護身術\", \"護身\", \"護衛\", \"警護\", \"護法\",\n",
    "    \"護符\", \"魔除け\", \"神道\", \"仏教\", \"禅\", \"浄土宗\", \"天台宗\", \"真言宗\", \"日蓮宗\", \"浄土真宗\",\n",
    "    \"曹洞宗\", \"臨済宗\", \"黄檗宗\", \"修験道\", \"山岳信仰\", \"神社\", \"仏閣\", \"寺院\", \"庵\", \"道場\",\n",
    "    \"参拝\", \"祈願\", \"供養\", \"祭祀\", \"奉納\", \"奉仕\", \"神道行事\", \"仏教行事\", \"葬儀\", \"法事\",\n",
    "    \"儀式\", \"式典\", \"祭典\", \"神楽\", \"祭り\", \"祭礼\", \"祇園祭\", \"天神祭\", \"三社祭\", \"神嘗祭\",\n",
    "    \"新嘗祭\", \"御霊祭\", \"節分\", \"雛祭り\", \"端午の節句\", \"七夕\", \"お盆\", \"お彼岸\", \"お正月\", \"初詣\",\n",
    "    \"大晦日\", \"除夜の鐘\", \"除夜\", \"紅白歌合戦\", \"年越しそば\", \"新年\", \"年賀状\", \"お年玉\", \"初日の出\", \"初夢\",\n",
    "    \"初売り\", \"福袋\", \"鏡開き\", \"松の内\", \"七草粥\", \"成人の日\", \"節分\", \"ひな祭り\", \"春分の日\", \"ゴールデンウィーク\",\n",
    "    \"こどもの日\", \"母の日\", \"父の日\", \"海の日\", \"山の日\", \"敬老の日\", \"体育の日\", \"文化の日\", \"勤労感謝の日\", \"天皇誕生日\",\n",
    "    \"祝日\", \"国民の祝日\", \"休日\", \"連休\", \"休暇\", \"夏休み\", \"冬休み\", \"春休み\", \n",
    "    \"祝祭日\", \"祝賀\", \"祭典\", \"行事\", \"催し物\",  \"大会\", \"式典\", \n",
    "    \"公演\", \"演奏会\", \"発表会\", \"展示会\", \"展覧会\", \"美術展\", \"写真展\", \"工芸展\", \"博覧会\", \"文化祭\",\n",
    "    \"学園祭\", \"音楽祭\", \"映画祭\", \"演劇祭\", \"演劇\", \"舞台\", \"劇場\", \"歌劇\", \"音楽\", \"楽器\",\n",
    "    \"歌手\", \"声優\", \"俳優\", \"女優\", \"監督\", \"脚本家\", \"プロデューサー\", \"映画\", \"テレビ\", \"ドラマ\",\n",
    "    \"アニメ\", \"漫画\", \"イラスト\", \"アーティスト\", \"デザイナー\", \"イラストレーター\", \"画家\", \"写真家\", \"作家\", \"小説家\",\n",
    "]\n",
    "ng_words=list(set(ng_words))\n",
    "#mixtralで自動生成された回答の一部はハルシネーションが起きやすいので､ルールベースで除外する\n",
    "def is_probably_halcinated(a):\n",
    "\n",
    "    #ハルシネーションで多いパターンを除外\n",
    "    for ng_word in ng_words:\n",
    "        if a.find(ng_word)>=0:\n",
    "            return True\n",
    "\n",
    "    #年号などもハルシネーションの原因になる\n",
    "    pattern = r\"(\\d{4}年|明治\\d{1,2}年|大正\\d{1,2}年|昭和\\d{1,2}年|平成\\d{1,2}年|令和\\d{1,2}年|\\d{1,2}月\\d{1,2}日)\"\n",
    "    # マッチするかどうかをチェック\n",
    "    matches = re.findall(pattern, a)\n",
    "    if matches:\n",
    "        return True\n",
    "    \n",
    "    #日付\n",
    "    pattern = r'^\\d{1,2}月\\d{1,2}日$'\n",
    "    if re.match(pattern, a):\n",
    "        return True\n",
    "    return False\n",
    "    "
   ]
  },
  {
   "cell_type": "code",
   "execution_count": 4,
   "metadata": {},
   "outputs": [
    {
     "name": "stdout",
     "output_type": "stream",
     "text": [
      "False\n"
     ]
    }
   ],
   "source": [
    "import re\n",
    "#書き出し､書き終わりの指示のチェック\n",
    "q=\"「にすぎない」で終わる文章にしてください電界の概念は、マイケル・ファラデーが提唱したものである。電場は、帯電した物体がその周囲の空間に作り出すもので、電場の中に置かれた他の電荷に力を及ぼす。電場は2つの電荷の間に作用し、重力が2つの質量の間に作用するのと同じように、無限大に広がり、距離と逆二乗の関係を示します。電場は一般に空間的に変化し、ある1点におけるその強さは、静止した無視できる電荷がその点に置かれた場合に感じるであろう力（単位電荷あたり）と定義される。試験電荷」と呼ばれる概念的な電荷は、それ自身の電界が主電界を乱すのを防ぐために限りなく小さくなければならず、また磁界の影響を防ぐために静止していなければならない。\"\n",
    "q=\"「される」で終わる文章にしてください朝、ズボンが見つからない男は急いで自宅を飛び出し、隣人の宅に飛び込みます。そこで隣人に、急いでいると transmit される一方、不意に拾った古い写真集を開き、中身を見つめてしまいます。\"\n",
    "#q=\"「し」で始まる文に変えてください。コビレゴンドウの寿命は？\"\n",
    "a=\"寿命を知りたいのは、コビレゴンドウです。</s><s>\"\n",
    "#q=\"aa\"\n",
    "a=\"以上が電場の概要です。詳細は割愛させていただきます。\"\n",
    "a=\"しじ\"\n",
    "#a=\"なされる\"\n",
    "#\"\n",
    "\n",
    "def check_command(q,a):\n",
    "    #文末系の指示を守っているかどうかの判定\n",
    "    pattern = r'^「(.*?)」で終わる'\n",
    "    matches = re.findall(pattern,q)\n",
    "    if matches:\n",
    "        match_str=matches[0]\n",
    "        if a.find(match_str)>=0:\n",
    "            return True\n",
    "        else:\n",
    "            return False\n",
    "        \n",
    "    #文頭系の指示の判定\n",
    "    pattern = r'^「(.*?)」で始まる'\n",
    "    matches = re.findall(pattern,q)\n",
    "    if matches:\n",
    "        match_str=matches[0]\n",
    "        if a.startswith(match_str):\n",
    "            return True\n",
    "        else:\n",
    "            return False\n",
    "\n",
    "    #指示が無い場合はTrue\n",
    "    return True\n",
    "\n",
    "print(check_command(q,a))\n"
   ]
  },
  {
   "cell_type": "code",
   "execution_count": 5,
   "metadata": {},
   "outputs": [
    {
     "name": "stdout",
     "output_type": "stream",
     "text": [
      "True 五城目テレビ中継局は1957年3月1日に設立され、東京都江戸川区五城目に位置しています。この地域の生活文化を取り上げる番組が多く制作されており、特に「江戸川区民と一緒に」などの番組は人気です。五城目テレビ中継局は地域の生活文化を取り上げることが特徴であり、現在も多くの人から支持されています。\n",
      "True スヌープ・ドッグ風に1946年の映画『偉大なる期待』を2段落で要約できますか？\n",
      "True 3月1日\n",
      "True ３月1日\n",
      "False 3月はいい天気\n"
     ]
    }
   ],
   "source": [
    "text_list=[\n",
    "    \"五城目テレビ中継局は1957年3月1日に設立され、東京都江戸川区五城目に位置しています。この地域の生活文化を取り上げる番組が多く制作されており、特に「江戸川区民と一緒に」などの番組は人気です。五城目テレビ中継局は地域の生活文化を取り上げることが特徴であり、現在も多くの人から支持されています。\",\n",
    "    \"スヌープ・ドッグ風に1946年の映画『偉大なる期待』を2段落で要約できますか？\",\n",
    "    \"3月1日\",\n",
    "    \"３月1日\",\n",
    "    \"3月はいい天気\",\n",
    "]\n",
    "for text in text_list:\n",
    "    print(is_probably_halcinated(text),text)"
   ]
  },
  {
   "cell_type": "code",
   "execution_count": 6,
   "metadata": {},
   "outputs": [
    {
     "name": "stderr",
     "output_type": "stream",
     "text": [
      "100%|██████████| 21164/21164 [00:00<00:00, 26323.90it/s]"
     ]
    },
    {
     "name": "stdout",
     "output_type": "stream",
     "text": [
      "以下は、タスクを説明する指示と、文脈のある入力の組み合わせです。要求を適切に満たす応答を書きなさい。\n",
      "\n",
      "### 指示:\n",
      "なぜ人工ニューロンはバイアス項を使うのか？重みを使うだけで十分ではないですか？\n",
      "### 応答:\n",
      "バイアスを導入することは、モデルに調整可能な閾値を持たせるために重要です。\n",
      "例えばReLU活性化関数を持つニューロンを考えると、このニューロンが活性化関数の平坦領域で出力するかどうかは、その入力ベクトルのスケール不変条件のみに依存する可能性があります。\n",
      "したがって、バイアスのかかったニューロンの非線型性は、バイアスのかかっていないニューロンよりもさらに広がる可能性があり、バイアスのかかったニューロンは「私の入力のこの組み合わせは3より大きい」というような客観的な基準を学習するが、バイアスのかかっていないニューロンは「私の入力のこの最初の組み合わせはこの2番目の組み合わせより大きい」というような相対的な基準しか学習しない可能性がある。</s><s>\n",
      "### 指示:\n",
      "平易な言葉で説明してもらえますか？人工ニューロンに詳しくない人のために？\n",
      "\n",
      "### 応答:\n",
      "ディープラーニングで使われているような人工ニューロンは、人間の脳の実際のニューロンの振る舞いをシミュレートするためのものです。人工ニューロンは入力を受け取り、処理し、出力を生成する。このシミュレーションでは、入力はニューロンへの接続の強さを表すように重み付けされ、バイアス項は、入力を受けなくても発火するニューロンの傾向を表す。\n",
      "\n",
      "ニューロンを、入力を出力に変換する小さな機械と考えよう。重みを使って入力と出力を接続するだけなら、入力が十分に強ければ出力が得られるだけである。しかし現実の世界では、ニューロンは入力を受けなくても出力を出す傾向がある。そこでバイアスという用語が登場する。これは、入力が弱くても出力をオンにできる小さなスイッチのような働きをする。\n",
      "\n",
      "言い換えれば、バイアス項は、出力が出る前に超えなければならない閾値のような働きをする。バイアス項を使うことで、ニューロンの振る舞いを微調整することができる。バイアス項がなければ、ニューロンは柔軟性を失い、強い入力を受 け取ったときだけ出力を出すように制限されてしまうだろう。\n"
     ]
    },
    {
     "name": "stderr",
     "output_type": "stream",
     "text": [
      "\n"
     ]
    },
    {
     "data": {
      "text/plain": [
       "(None, 13100)"
      ]
     },
     "execution_count": 6,
     "metadata": {},
     "output_type": "execute_result"
    }
   ],
   "source": [
    "#マルチターン\n",
    "ds=load_dataset(\"llm-jp/oasst1-21k-ja\",)[\"train\"]\n",
    "\n",
    "records=[]\n",
    "for record in tqdm(ds):\n",
    "    conversations=record[\"conversations\"]\n",
    "    if len(conversations)!=4:\n",
    "        continue\n",
    "\n",
    "    #マルチターンで適切に2ターン目をマスキングする方法がよくわからないので､とりあえず､1ターン目は改行を少なくしておく.\n",
    "    q=conversations[0][\"value\"]\n",
    "    q+=\"\\n### 応答:\\n\"+conversations[1][\"value\"]+\"</s><s>\\n### 指示:\\n\"+conversations[2][\"value\"]\n",
    "    a=conversations[3][\"value\"]\n",
    "    text=f\"{question_template}{q}{answer_template}{a}\"\n",
    "    records.append(text)\n",
    "\n",
    "ds_dict[\"multi_turn_oasst\"]=records\n",
    "print(text),len(records)"
   ]
  },
  {
   "cell_type": "code",
   "execution_count": 7,
   "metadata": {},
   "outputs": [
    {
     "name": "stderr",
     "output_type": "stream",
     "text": [
      "100%|██████████| 32702/32702 [00:01<00:00, 24690.96it/s]"
     ]
    },
    {
     "name": "stdout",
     "output_type": "stream",
     "text": [
      "以下は、タスクを説明する指示と、文脈のある入力の組み合わせです。要求を適切に満たす応答を書きなさい。\n",
      "\n",
      "### 指示:\n",
      "Four kids want to convince their parents to let them all play together outside but, since it's pretty late, their parents won't let them since they might wake up or disrupt their neighbors. The kids then decided to write a song, convincing their parents that they'll be quite outside. What song could've they come up with?\n",
      "### 応答:\n",
      "Verse 1:\n",
      "We promise we'll be quiet,\n",
      "We'll play outside without a riot.\n",
      "We'll keep the volume low,\n",
      "And not disturb the neighbors, you know.\n",
      "\n",
      "Chorus:\n",
      "Let us play, let us play,\n",
      "We won't keep the neighbors up all day.\n",
      "We'll have fun and make no noise,\n",
      "We're good kids, we're not like those boys.\n",
      "\n",
      "Verse 2:\n",
      "We won't shout or scream,\n",
      "We'll play nicely like a dream.\n",
      "We'll stay close to the house,\n",
      "And be quiet like a little mouse.\n",
      "\n",
      "Chorus:\n",
      "Let us play, let us play,\n",
      "We won't keep the neighbors up all day.\n",
      "We'll have fun and make no noise,\n",
      "We're good kids, we're not like those boys.\n",
      "\n",
      "Bridge:\n",
      "We'll be outside for just a bit,\n",
      "And then we'll come back in, we promise.\n",
      "We just want to have some fun,\n",
      "Before the day is finally done.\n",
      "\n",
      "Chorus:\n",
      "Let us play, let us play,\n",
      "We won't keep the neighbors up all day.\n",
      "We'll have fun and make no noise,\n",
      "We're good kids, we're not like those boys.\n",
      "\n",
      "Outro:\n",
      "We promise we'll be good,\n",
      "And do all the things we should.\n",
      "Just let us play for a little while,\n",
      "We'll be quiet with a smile.</s><s>\n",
      "### 指示:\n",
      "The parents answer with a kitschy song about how it's better to sleep yet and that the kids can play tomorrow and the day after tomorrow instead.\n",
      "\n",
      "### 応答:\n",
      "You better go to bed. You better go to bed. You better go to be, do what your mother says.\n"
     ]
    },
    {
     "name": "stderr",
     "output_type": "stream",
     "text": [
      "\n"
     ]
    },
    {
     "data": {
      "text/plain": [
       "(None, 21560)"
      ]
     },
     "execution_count": 7,
     "metadata": {},
     "output_type": "execute_result"
    }
   ],
   "source": [
    "\n",
    "#マルチターン oasst 英語\n",
    "ds=load_dataset(\"llm-jp/oasst2-33k-en\",)[\"train\"]\n",
    "\n",
    "records=[]\n",
    "for record in tqdm(ds):\n",
    "    conversations=record[\"conversations\"]\n",
    "    if len(conversations)!=4:\n",
    "        continue\n",
    "    q=conversations[0][\"content\"]\n",
    "    q+=\"\\n### 応答:\\n\"+conversations[1][\"content\"]+\"</s><s>\\n### 指示:\\n\"+conversations[2][\"content\"]\n",
    "    a=conversations[3][\"content\"]\n",
    "    text=f\"{question_template}{q}{answer_template}{a}\"\n",
    "\n",
    "    records.append(text)\n",
    "ds_dict[\"multi_turn_oasst_en\"]=records\n",
    "print(text),len(records)"
   ]
  },
  {
   "cell_type": "code",
   "execution_count": 8,
   "metadata": {},
   "outputs": [],
   "source": [
    "qa_list=[]"
   ]
  },
  {
   "cell_type": "code",
   "execution_count": 9,
   "metadata": {},
   "outputs": [
    {
     "name": "stderr",
     "output_type": "stream",
     "text": [
      "100%|██████████| 328121/328121 [00:47<00:00, 6955.82it/s]"
     ]
    },
    {
     "name": "stdout",
     "output_type": "stream",
     "text": [
      "以下は、タスクを説明する指示と、文脈のある入力の組み合わせです。要求を適切に満たす応答を書きなさい。\n",
      "\n",
      "### 指示:\n",
      "一文で重要性を説明してください\n",
      "このシナリオでは、青いブロックが赤いブロックの上にあり、緑のブロックが青いブロックの上にあるため、赤いブロックと青いブロックは緑のブロックを支えています。しかし、白いブロックは青いブロックに隣接しているだけで、青いブロックの上に置かれていません。この状況では、緑のブロックが重力によって動くと、青いブロックや赤いブロックも同様に動く可能性がありますが、白いブロックはその影響を受けません。\n",
      "### 応答:\n",
      "このシナリオでは、青いブロックと赤いブロックが緑のブロックを支えており、白いブロックは緑のブロックから離れた位置にあるため、影響を受けません。</s><s>\n",
      "### 指示:\n",
      "この内容をキャッチフレーズにしてください\n",
      "\n",
      "### 応答:\n",
      "支えるブロックと離れたブロック：相互作用の差\n",
      "532715\n"
     ]
    },
    {
     "name": "stderr",
     "output_type": "stream",
     "text": [
      "\n"
     ]
    }
   ],
   "source": [
    "# マルチターン　自動生成\n",
    "\n",
    "ds=load_dataset(\"kanhatakeyama/AutoMultiTurnByMixtral8x22b\",)[\"train\"]\n",
    "\n",
    "records=[]\n",
    "for record in tqdm(ds):\n",
    "    #turn 1\n",
    "    q=record[\"q1\"]\n",
    "    a=record[\"a1\"]\n",
    "    if not is_probably_halcinated(a) and check_command(q,a):\n",
    "    #if not is_probably_halcinated(a) and not is_probably_halcinated(q):\n",
    "        text=f\"{question_template}{q}{answer_template}{a}\"\n",
    "        #hash=hash_text(text)\n",
    "        #if hash in qa_list:\n",
    "        #    continue\n",
    "        records.append(text)\n",
    "        #qa_list.append(hash)\n",
    "\n",
    "    #turn 2\n",
    "    q=record[\"q1\"]\n",
    "    q+=\"\\n### 応答:\\n\"+record[\"a1\"]+\"</s><s>\\n### 指示:\\n\"+record[\"q2\"]\n",
    "    a=record[\"a2\"]\n",
    "\n",
    "    #if not is_probably_halcinated(a) and not is_probably_halcinated(q):\n",
    "    if not is_probably_halcinated(a) and check_command(q,a):\n",
    "        text=f\"{question_template}{q}{answer_template}{a}\"\n",
    "        #hash=hash_text(text)\n",
    "        #if hash in qa_list:\n",
    "        #    continue\n",
    "        records.append(text)\n",
    "        #qa_list.append(hash)\n",
    "\n",
    "\n",
    "ds_dict[\"multi_turn_mixtral\"]=records\n",
    "print(text)\n",
    "print(len(records))"
   ]
  },
  {
   "cell_type": "code",
   "execution_count": 10,
   "metadata": {},
   "outputs": [
    {
     "name": "stdout",
     "output_type": "stream",
     "text": [
      "以下は、タスクを説明する指示と、文脈のある入力の組み合わせです。要求を適切に満たす応答を書きなさい。\n",
      "\n",
      "### 指示:\n",
      "どんなことを聞けばいいのでしょうか？\n",
      "### 応答:\n",
      "今日は何時に起きましたか？</s><s>\n",
      "### 指示:\n",
      "それからもう一度同じことを言ってください。\n",
      "\n",
      "### 応答:\n",
      "今朝、目覚めた時間を教えてくださいね。\n"
     ]
    }
   ],
   "source": [
    "print(records[9])"
   ]
  },
  {
   "cell_type": "code",
   "execution_count": 11,
   "metadata": {},
   "outputs": [],
   "source": [
    "\n",
    "exclude_count=0\n",
    "\n",
    "datasets=[\n",
    "    load_dataset(\"hatakeyama-llm-team/AutoGeneratedJapaneseQA\",split=\"train\"),\n",
    "    load_dataset(\"hatakeyama-llm-team/AutoGeneratedJapaneseQA-CC\",split=\"train\"),\n",
    "    load_dataset(\"hatakeyama-llm-team/AutoGeneratedJapaneseQA-other\",split=\"train\"),\n",
    "    load_dataset(\"kanhatakeyama/OrcaJaMixtral8x22b\",split=\"train\"),\n",
    "    load_dataset(\"kanhatakeyama/ChatbotArenaJaMixtral8x22b\",split=\"train\"),\n",
    "    load_dataset(\"kanhatakeyama/LogicalDatasetsByMixtral8x22b\",split=\"train\"),\n",
    "]"
   ]
  },
  {
   "cell_type": "code",
   "execution_count": 12,
   "metadata": {},
   "outputs": [
    {
     "name": "stderr",
     "output_type": "stream",
     "text": [
      "0it [00:00, ?it/s]"
     ]
    },
    {
     "name": "stderr",
     "output_type": "stream",
     "text": [
      "212355it [00:17, 12136.02it/s]\n",
      "53950it [00:04, 11574.42it/s]\n",
      "21899it [00:02, 10630.21it/s]\n",
      "734876it [01:13, 10014.84it/s]\n",
      "17354it [00:01, 8948.20it/s]\n",
      "185596it [00:17, 10502.64it/s]"
     ]
    },
    {
     "name": "stdout",
     "output_type": "stream",
     "text": [
      "1049190\n",
      "以下は、タスクを説明する指示と、文脈のある入力の組み合わせです。要求を適切に満たす応答を書きなさい。\n",
      "\n",
      "### 指示:\n",
      "RNN (Recurrent Neural Network) を使用して、与えられた文章の単語の次に続く単語を予測するアルゴリズムとコードを作成しなさい。\n",
      "\n",
      "### 応答:\n",
      "以下は、RNN (Recurrent Neural Network) を使用して、与えられた文章の単語の次に続く単語を予測するアルゴリズムとコードです。\n",
      "\n",
      "1. 事前処理: 与えられたテキストから、単語のリストを作成します。このリストは、RNN が学習できるように、インデックス付けされている必要があります。\n",
      "2. RNN モデルの定義: RNN モデルを定義し、隠れ層と出力層を含むことを確認してください。ここでは、LSTM (Long Short Term Memory) を使用することをおすすめします。\n",
      "3. RNN モデルのトレーニング: 単語のリストを使用して、RNN モデルをトレーニングします。これにより、RNN は次に続く単語を予測できるようになります。\n",
      "4. RNN モデルのテスト: 新しいテキストを入力として与えて、RNN がどのように動作するかを確認してください。これは、次に続く単語を予測するために、RNN が学習した知識を活用します。\n",
      "\n",
      "以下のコードは、上記のアルゴリズムを実装したものです。\n",
      "```python\n",
      "import numpy as np\n",
      "from keras.models import Sequential\n",
      "from keras.layers import LSTM, Dense\n",
      "from keras.utils import to_categorical\n",
      "\n",
      "# 事前処理: 単語のリストを作成し、インデックス付けする\n",
      "text = \"This is a sample text for RNN training.\"\n",
      "words = text.split()\n",
      "word2idx = {w: i + 1 for i, w in enumerate(words)}\n",
      "idx2word = {i + 1: w for i, w in enumerate(words)}\n",
      "vocab_size = len(word2idx) + 1\n",
      "\n",
      "# RNN モデルの定義\n",
      "model = Sequential()\n",
      "model.add(LSTM(50, input_shape=(None, vocab_size)))\n",
      "model.add(Dense(vocab_size, activation='softmax'))\n",
      "model.compile(loss='categorical_crossentropy', optimizer='adam')\n",
      "\n",
      "# RNN モデルのトレーニング\n",
      "X = np.zeros((1, len(words), vocab_size))\n",
      "y = to_categorical(np.array([word2idx[w] for w in words]))[:, None, :]\n",
      "model.fit(X, y, epochs=50)\n",
      "\n",
      "# RNN モデルのテスト\n",
      "new_text = \"This is a\"\n",
      "new_words = new_text.split()\n",
      "new_word2idx = {w: i + 1 for i, w in enumerate(new_words)}\n",
      "new_idx2word = {i + 1: w for i, w in enumerate(new_words)}\n",
      "new_vocab_size = len(new_word2idx) + 1\n",
      "X_test = np.zeros((1, len(new_words), new_vocab_size))\n",
      "for i, word in enumerate(new_words):\n",
      "    X_test[0, i, :] = to_categorical([word2idx[word]], num_classes=vocab_size)[:, 0]\n",
      "predictions = model.predict(X_test)[-1][np.argmax(-model.predict(X_test), axis=-1)]\n",
      "next_word = idx2word[np.argmax(-model.predict(X_test))]\n",
      "print(\"Next word:\", next_word)\n",
      "```\n"
     ]
    },
    {
     "name": "stderr",
     "output_type": "stream",
     "text": [
      "\n"
     ]
    }
   ],
   "source": [
    "\n",
    "\n",
    "for dataset in datasets:\n",
    "    dataset.shuffle()\n",
    "    for original_record in tqdm(iter(dataset)):\n",
    "\n",
    "\n",
    "        q=clean_autogen(original_record[\"question\"])\n",
    "        a=clean_autogen(original_record[\"answer\"])\n",
    "        if q==\"\" or a==\"\":\n",
    "            continue\n",
    "\n",
    "\n",
    "        if \"score\" in original_record:\n",
    "            if original_record[\"score\"] is None:\n",
    "                continue\n",
    "            if int(original_record[\"score\"])<score_threshold:\n",
    "                continue\n",
    "\n",
    "        if is_probably_halcinated(a):\n",
    "            continue\n",
    "        if not check_command(q,a):\n",
    "            continue\n",
    "        #if is_probably_halcinated(q):\n",
    "        #    continue\n",
    "\n",
    "        text=f\"{question_template}{q}{answer_template}{a}\"\n",
    "        #hash=hash_text(text)\n",
    "\n",
    "        if a!=\"\" and q!=\"\":\n",
    "            records.append(text)\n",
    "            #qa_list.append(hash)\n",
    "        \n",
    "ds_dict[\"auto_gen_mixtral\"]=records\n",
    "\n",
    "print(len(records))\n",
    "print(text)"
   ]
  },
  {
   "cell_type": "code",
   "execution_count": 13,
   "metadata": {},
   "outputs": [
    {
     "data": {
      "text/plain": [
       "{'question': 'ハッシュエンコーディングを使用して、以下の数値を変換してください。\\n152.59533, -943.26961, -63.5409',\n",
       " 'answer': \"ハッシュエンコーディングとは、連続値を離散値に変換することで、機械学習モデルが数値の連続性を認識しないようにして特徴量を作成する方法です。\\n\\n以下の手順で数値をハッシュエンコードします。\\n\\n1. 0から始まる連続する整数を各数値に割り当てます。\\n2. 割り当てた整数を適切なビット長のバイナリ文字列として表現します。\\n3. バイナリ文字列をハッシュ関数に入力し、出力されるハッシュ値を特徴量の値として使用します。\\n\\nしかしながら、この問題では具体的なビット長やハッシュ関数が与えられていないため、以下に具体例を示します。\\n\\n例えば、32bitビット長とSHA-1のハッシュ関数を使用した場合、以下のように変換されます。\\n\\n1. 整数が割り当てられる\\n152.59533 -> 0, -943.26961 -> 1, -63.5409 -> 2\\n2. 整数を32bitバイナリ文字列に変換\\n0 -> 00...0(全て0の32ビット), 1 -> 00...1(最後のビットだけ1の32ビット), 2 -> 00...10 (最後から２番目のビットが1で、それ以外は全て0の32ビット)\\n3. SHA-1によるハッシュ値を計算\\n SHA-1('00...0') -> 4e7f156a9c38b..., SHA-1('00...1') -> fbeedaaebd932..., SHA-1('00...10') -> ad75e76decbdf...\\n\\nしかし、SHA-1は１つのハッシュ値を計算するだけではなく、複数のハッシュ値を計算し、それらを連結して特徴量として使用することが多いです。\\nこの場合、3つの数値を変換する際に128bit(= 4 \\\\* 32bit)の特徴量が得られます。\\n\\n以上がハッシュエンコーディングによる数値の変換方法です。\"}"
      ]
     },
     "execution_count": 13,
     "metadata": {},
     "output_type": "execute_result"
    }
   ],
   "source": [
    "original_record"
   ]
  },
  {
   "cell_type": "code",
   "execution_count": 14,
   "metadata": {},
   "outputs": [
    {
     "name": "stdout",
     "output_type": "stream",
     "text": [
      "以下は、タスクを説明する指示と、文脈のある入力の組み合わせです。要求を適切に満たす応答を書きなさい。\n",
      "\n",
      "### 指示:\n",
      "Consider a function $f(x) = ax^3 + bx^2 + ex$. Let's define the \"push\" of this function as $P_{a,b,e} = \\int_{-g}^{g} f(x) dx$ for some constant g > 0.\n",
      "\n",
      "Find the value of the push $P_{1,-3,2}$ when g=4.\n",
      "\n",
      "### 応答:\n",
      "To find the value of $P_{1,-3,2}$, we first need to calculate $f(x)$ with a=1, b=-3, and e=2, which gives us $f(x) = x^3 - 3x^2 + 2x$. Then, we can integrate this function from -g to g (where g=4).\n",
      "\n",
      "The integral becomes $\\int_{-4}^{4} (x^3 - 3x^2 + 2x) dx$ which can be solved as follows:\n",
      "\\[\n",
      "\\left[\\frac{1}{4} x^4 - x^3 + x^2 \\right]^{4}_{-4}.\n",
      "\\]\n",
      "Expanding and solving this gives us the value of $P_{1,-3,2}$.\n"
     ]
    }
   ],
   "source": [
    "print(records[-1000])"
   ]
  },
  {
   "cell_type": "code",
   "execution_count": 15,
   "metadata": {},
   "outputs": [
    {
     "name": "stderr",
     "output_type": "stream",
     "text": [
      "100%|██████████| 28861/28861 [00:03<00:00, 8661.66it/s]\n",
      "100%|██████████| 507/507 [00:00<00:00, 17468.23it/s]\n",
      "100%|██████████| 1017/1017 [00:00<00:00, 18081.73it/s]\n"
     ]
    }
   ],
   "source": [
    "\n",
    "# %% [markdown]\n",
    "# # hachiさんのalpaca + mixtral dataset\n",
    "\n",
    "# %%\n",
    "\n",
    "hachi_datasets={\n",
    "   \"HachiML/Hachi-Alpaca\": load_dataset(\"HachiML/Hachi-Alpaca\",split='v1.0_cleaned'),\n",
    "    \"HachiML/Evol-Alpaca-gen3-500\":load_dataset(\"HachiML/Evol-Alpaca-gen3-500\",split='train'),\n",
    "    \"HachiML/Evol-hh-rlhf-gen3-1k\":load_dataset(\"HachiML/Evol-hh-rlhf-gen3-1k\",split='train'),\n",
    "    #\"HachiML/alpaca_jp_math\":load_dataset(\"HachiML/alpaca_jp_math\",split='v1.0_cleaned'),\n",
    "    #数学は、全くできない上に、pythonを使って解くことすらできない\n",
    "}\n",
    "\n",
    "# %%\n",
    "records=[]\n",
    "for key,hachi_ds in hachi_datasets.items():\n",
    "    for record in tqdm(hachi_ds):\n",
    "        q=record[\"instruction\"]\n",
    "        if \"input\" in record:\n",
    "            inp=record[\"input\"]\n",
    "        else:\n",
    "            inp=\"\"\n",
    "        if inp!=\"\":\n",
    "            q+=\"\\n\"+inp\n",
    "        a=record[\"output\"]\n",
    "        if q==\"\" or a==\"\":\n",
    "            continue\n",
    "        text=f\"{question_template}{q}{answer_template}{a}\"\n",
    "        records.append(text)\n",
    "\n",
    "    ds_dict[f\"hachi_{key}\"]=records\n"
   ]
  },
  {
   "cell_type": "code",
   "execution_count": 16,
   "metadata": {},
   "outputs": [
    {
     "name": "stderr",
     "output_type": "stream",
     "text": [
      "30411it [00:00, 33010.76it/s]\n"
     ]
    },
    {
     "data": {
      "text/plain": [
       "'以下は、タスクを説明する指示と、文脈のある入力の組み合わせです。要求を適切に満たす応答を書きなさい。\\n\\n### 指示:\\n次の質問に対する答えを生成してください。回答のみを記載し、その他の情報は書かないでください。単語またはYES/NOで答えてください。\\nfaカップ準決勝に延長戦はありますか\\n\\n### 応答:\\nYES'"
      ]
     },
     "execution_count": 16,
     "metadata": {},
     "output_type": "execute_result"
    }
   ],
   "source": [
    "\n",
    "# %% [markdown]\n",
    "# # Bumpo dataset\n",
    "\n",
    "#文法理解に関するデータセット\n",
    "ds2=load_dataset(\"hatakeyama-llm-team/BumpoRikai\",split=\"train\")\n",
    "# %%\n",
    "records=[]\n",
    "for original_record in tqdm(iter(ds2)):\n",
    "    q=(original_record[\"question\"])\n",
    "    a=(original_record[\"answer\"])\n",
    "    inst=(original_record[\"instruction\"])\n",
    "    q=inst+\"\\n\"+q\n",
    "    if q==\"\" or a==\"\":\n",
    "        continue\n",
    "    text=f\"{question_template}{q}{answer_template}{a}\"\n",
    "    records.append(text)\n",
    "ds_dict[\"bumpo_rikai\"]=records\n",
    "records[1]\n",
    "\n"
   ]
  },
  {
   "cell_type": "code",
   "execution_count": 17,
   "metadata": {},
   "outputs": [
    {
     "name": "stdout",
     "output_type": "stream",
     "text": [
      "error:  {'id': '44def09a-f8a4-8c92-3468-1cef11bbf017', 'parent_id': 'abea3db1-c383-4acf-88e5-8134b0a8f009', 'role': 'assistant', 'body': 'いません。', 'category_id': None, 'tags': None, 'is_synthetic': True, 'is_deleted': True, 'knowledge_cut_off': None, 'created_at': '2024-05-22 09:35:56.592', 'review': None, 'review_count': 0, 'flag': None, 'flag_count': 0}\n",
      "error:  {'id': 'e84a53fa-5d72-7d96-af98-15dd70d63700', 'parent_id': '9ddf7ae2-f681-3e44-db9b-4f297a30b1bf', 'role': 'assistant', 'body': None, 'category_id': None, 'tags': None, 'is_synthetic': True, 'is_deleted': True, 'knowledge_cut_off': None, 'created_at': '2024-05-22 09:36:01.581', 'review': None, 'review_count': 0, 'flag': None, 'flag_count': 0}\n",
      "error:  {'id': '11805400-ab8a-3049-dac0-013cd5d940be', 'parent_id': '540675b6-55cc-4969-bc7d-ad17ccbdbdea', 'role': 'assistant', 'body': '原子力基本法', 'category_id': None, 'tags': None, 'is_synthetic': True, 'is_deleted': True, 'knowledge_cut_off': None, 'created_at': '2024-05-22 09:36:36.62', 'review': None, 'review_count': 0, 'flag': None, 'flag_count': 0}\n",
      "error:  {'id': 'd8c9c3d9-9381-2f70-daf7-641b2952a2c4', 'parent_id': '76ba0674-e364-4934-533a-87809278d984', 'role': 'assistant', 'body': '不動産の売買などの「仲介業」を行うには、事業所ごとに従事者5人に対し1人の割合で「宅地建物取引士（以降、宅建士）」が必要です。 都道府県知事が行う国家試験「宅建試験」に合格し、その知事の登録を受け、宅地建物取引士証の交付を受けたら「宅建士」としての活動ができます。', 'category_id': None, 'tags': None, 'is_synthetic': True, 'is_deleted': True, 'knowledge_cut_off': None, 'created_at': '2024-05-22 09:36:36.678', 'review': None, 'review_count': 0, 'flag': None, 'flag_count': 0}\n",
      "error:  {'id': '471a36b6-1e21-9c34-98de-48e1515f4735', 'parent_id': 'b7958105-0d69-e237-144a-7f17b3acd018', 'role': 'assistant', 'body': 'アイヌ民族には、長い年月を経て独自に育んできた文学があります。 近代に入る前までは、文字に頼ることなく、人から人へ口伝えで厖大な物語を語り継いできました。 このように口頭で伝承されてきた文学を、口承文学あるいは口承文芸と呼びます。', 'category_id': None, 'tags': None, 'is_synthetic': True, 'is_deleted': True, 'knowledge_cut_off': None, 'created_at': '2024-05-22 09:36:36.793', 'review': None, 'review_count': 0, 'flag': None, 'flag_count': 0}\n",
      "error:  {'id': '729df1f3-b8f7-0be4-0ba7-e809fbf75750', 'parent_id': '23297e6d-b8b8-ce68-e141-0d533c54dc1f', 'role': 'assistant', 'body': '防衛省の情報本部は、日本の情報機能の重要性と冷戦後の国際 情勢の変化を踏まえ、 平成9年に創設された防衛省の中央 情報機関であり、日本最大の情報機関です。', 'category_id': None, 'tags': None, 'is_synthetic': True, 'is_deleted': True, 'knowledge_cut_off': None, 'created_at': '2024-05-22 09:36:36.853', 'review': None, 'review_count': 0, 'flag': None, 'flag_count': 0}\n",
      "error:  {'id': 'df95fec5-1bbc-0f06-6f5c-5f04189cdc01', 'parent_id': 'd4a1799b-a176-4e43-3a60-273cd3258578', 'role': 'assistant', 'body': '2022年年4月1日の民法改正により成人年齢が18歳に引き下げられたと同時に、婚姻できる年齢が男性女性ともに18歳以上となり、未成年の方は婚姻ができなくなりました。 ただし、経過措置により、2022年4月1日時点で16歳以上18歳未満の女性は婚姻できます。', 'category_id': None, 'tags': None, 'is_synthetic': True, 'is_deleted': True, 'knowledge_cut_off': None, 'created_at': '2024-05-22 09:36:36.913', 'review': None, 'review_count': 0, 'flag': None, 'flag_count': 0}\n",
      "error:  {'id': 'd6533494-1378-ec3c-a3fc-54d46936ac1d', 'parent_id': 'e199e430-9dea-9971-ac03-0b8cf5504f64', 'role': 'assistant', 'body': '朝「おはようございます。」\\n\\n昼または一般的には「こんにちは。」\\n\\n夜「こんばんは。」「夜分遅くすみません。」', 'category_id': None, 'tags': None, 'is_synthetic': True, 'is_deleted': True, 'knowledge_cut_off': None, 'created_at': '2024-05-22 09:36:37.148', 'review': None, 'review_count': 0, 'flag': None, 'flag_count': 0}\n"
     ]
    }
   ],
   "source": [
    "\n",
    "#minnade\n",
    "m_ds=load_dataset(\"minnade/chat-daily\",split=\"train\")\n",
    "\n",
    "id_to_content={}\n",
    "for record in m_ds:\n",
    "    id_to_content[record[\"id\"]]=record[\"body\"]\n",
    "\n",
    "questions=[]\n",
    "for record in m_ds:\n",
    "    if record[\"role\"]==\"assistant\":\n",
    "        try:\n",
    "            q=id_to_content[record[\"parent_id\"]]\n",
    "        except:\n",
    "            print(\"error: \",record)\n",
    "        a=record[\"body\"]\n",
    "        if a is None:\n",
    "            continue\n",
    "        if len(a)<4:\n",
    "            continue\n",
    "        #questions.append((q,a))\n",
    "        text=f\"{question_template}{q}{answer_template}{a}\"\n",
    "        records.append(text)\n",
    "ds_dict[\"minnade\"]=questions"
   ]
  },
  {
   "cell_type": "markdown",
   "metadata": {},
   "source": [
    "# code dataset"
   ]
  },
  {
   "cell_type": "code",
   "execution_count": 18,
   "metadata": {},
   "outputs": [],
   "source": [
    "code_ds_dict={}"
   ]
  },
  {
   "cell_type": "code",
   "execution_count": 19,
   "metadata": {},
   "outputs": [
    {
     "data": {
      "text/plain": [
       "'\\nopenmath_ds=load_dataset(\"kunishou/OpenMathInstruct-1-1.8m-ja\",split=\"train\")\\n\\nrecords=[]\\nfor original_record in iter(openmath_ds):\\n    q=(original_record[\"question_ja\"])\\n    a=(original_record[\"generated_solution_ja\"])\\n    #inst=(original_record[\"instruction\"])\\n    if q==\"\" or a==\"\":\\n        continue\\n    text=f\"{question_template}{q}{answer_template}{a}\"\\n    records.append(text)\\ncode_ds_dict[\"openmathja\"]=records\\nrecords[1]\\n'"
      ]
     },
     "execution_count": 19,
     "metadata": {},
     "output_type": "execute_result"
    }
   ],
   "source": [
    "#openmathinst 数GB\n",
    "# 思考が硬直化してそうなので、やめる\n",
    "\"\"\"\n",
    "openmath_ds=load_dataset(\"kunishou/OpenMathInstruct-1-1.8m-ja\",split=\"train\")\n",
    "\n",
    "records=[]\n",
    "for original_record in iter(openmath_ds):\n",
    "    q=(original_record[\"question_ja\"])\n",
    "    a=(original_record[\"generated_solution_ja\"])\n",
    "    #inst=(original_record[\"instruction\"])\n",
    "    if q==\"\" or a==\"\":\n",
    "        continue\n",
    "    text=f\"{question_template}{q}{answer_template}{a}\"\n",
    "    records.append(text)\n",
    "code_ds_dict[\"openmathja\"]=records\n",
    "records[1]\n",
    "\"\"\""
   ]
  },
  {
   "cell_type": "code",
   "execution_count": 20,
   "metadata": {},
   "outputs": [
    {
     "data": {
      "text/plain": [
       "'以下は、タスクを説明する指示と、文脈のある入力の組み合わせです。要求を適切に満たす応答を書きなさい。\\n\\n### 指示:\\n与えられたリスト内の重複する値を除去するPythonスクリプトを書きなさい。\\n```python\\nnumbers = [1, 2, 2, 3, 4, 4, 5]\\n```\\n\\n### 応答:\\n```python\\nunique_numbers = list(set(numbers))\\nprint(unique_numbers)\\n```'"
      ]
     },
     "execution_count": 20,
     "metadata": {},
     "output_type": "execute_result"
    }
   ],
   "source": [
    "#code 50k\n",
    "ds=load_dataset(\"HachiML/alpaca_jp_python\",split=\"v1.0_cleaned\")\n",
    "\n",
    "records=[]\n",
    "for original_record in iter(ds):\n",
    "    q=(original_record[\"instruction\"])\n",
    "    a=(original_record[\"output\"])\n",
    "    inp=(original_record[\"input\"])\n",
    "    if inp!=\"\":\n",
    "        q+=\"\\n\"+inp\n",
    "    if q==\"\" or a==\"\":\n",
    "        continue\n",
    "    text=f\"{question_template}{q}{answer_template}{a}\"\n",
    "    records.append(text)\n",
    "code_ds_dict[\"code_hachi\"]=records\n",
    "records[1]\n",
    "\n"
   ]
  },
  {
   "cell_type": "code",
   "execution_count": 21,
   "metadata": {},
   "outputs": [
    {
     "data": {
      "text/plain": [
       "\"以下は、タスクを説明する指示と、文脈のある入力の組み合わせです。要求を適切に満たす応答を書きなさい。\\n\\n### 指示:\\npandasでレシート明細データ（df_receipt）から売上年月日（sales_ymd）、顧客ID（customer_id）、商品コード（product_cd）、売上金額（amount）の順に列を指定し、10件表示せよ。\\n\\n### 応答:\\nimport pandas as pd\\n\\ndf_receipt[['sales_ymd', 'customer_id', 'product_cd', 'amount']].head(10)\""
      ]
     },
     "execution_count": 21,
     "metadata": {},
     "output_type": "execute_result"
    }
   ],
   "source": [
    "#code 5k\n",
    "ds=load_dataset(\"kunishou/amenokaku-code-instruct\",split=\"train\")\n",
    "\n",
    "records=[]\n",
    "for original_record in iter(ds):\n",
    "    q=(original_record[\"instruction\"])\n",
    "    a=(original_record[\"output\"])\n",
    "    inp=(original_record[\"input\"])\n",
    "    if inp!=\"\":\n",
    "        q+=\"\\n\"+inp\n",
    "    if q==\"\" or a==\"\":\n",
    "        continue\n",
    "    text=f\"{question_template}{q}{answer_template}{a}\"\n",
    "    records.append(text)\n",
    "code_ds_dict[\"amenokaku\"]=records\n",
    "records[1]\n",
    "\n"
   ]
  },
  {
   "cell_type": "code",
   "execution_count": 22,
   "metadata": {},
   "outputs": [
    {
     "data": {
      "text/plain": [
       "'以下は、タスクを説明する指示と、文脈のある入力の組み合わせです。要求を適切に満たす応答を書きなさい。\\n\\n### 指示:\\n小王は、20％の薬を含む農薬150kgを、5％の薬を含む溶液に希釈したいと考えています。 何kgの水を加えればよいでしょうか。\\n\\n### 応答:\\nx=150*20%/5%-150 よって答えは 450キログラム'"
      ]
     },
     "execution_count": 22,
     "metadata": {},
     "output_type": "execute_result"
    }
   ],
   "source": [
    "#算数 0.5k\n",
    "ds=load_dataset(\"saldra/sakura_japanese_dataset\",split=\"train\")\n",
    "\n",
    "records=[]\n",
    "for original_record in iter(ds):\n",
    "    q=(original_record[\"instruction\"])\n",
    "    a=(original_record[\"output\"])\n",
    "    inp=(original_record[\"input\"])\n",
    "    if inp!=\"\":\n",
    "        q+=\"\\n\"+inp\n",
    "    if q==\"\" or a==\"\":\n",
    "        continue\n",
    "    text=f\"{question_template}{q}{answer_template}{a}\"\n",
    "    records.append(text)\n",
    "code_ds_dict[\"sakura\"]=records\n",
    "records[1]\n",
    "\n"
   ]
  },
  {
   "cell_type": "code",
   "execution_count": 23,
   "metadata": {},
   "outputs": [
    {
     "data": {
      "text/plain": [
       "'\\nds=load_dataset(\"meta-math/MetaMathQA\",split=\"train\")\\n\\nrecords=[]\\nfor original_record in iter(ds):\\n    q=(original_record[\"query\"])\\n    a=(original_record[\"response\"])\\n    if q==\"\" or a==\"\":\\n        continue\\n    text=f\"{question_template}{q}{answer_template}{a}\"\\n    records.append(text)\\ncode_ds_dict[\"meta_math\"]=records\\nrecords[1]\\n\\n'"
      ]
     },
     "execution_count": 23,
     "metadata": {},
     "output_type": "execute_result"
    }
   ],
   "source": [
    "# meta math\n",
    "#数学的な基礎力が低く、勉強してもあまり意味がなさそう\n",
    "\"\"\"\n",
    "ds=load_dataset(\"meta-math/MetaMathQA\",split=\"train\")\n",
    "\n",
    "records=[]\n",
    "for original_record in iter(ds):\n",
    "    q=(original_record[\"query\"])\n",
    "    a=(original_record[\"response\"])\n",
    "    if q==\"\" or a==\"\":\n",
    "        continue\n",
    "    text=f\"{question_template}{q}{answer_template}{a}\"\n",
    "    records.append(text)\n",
    "code_ds_dict[\"meta_math\"]=records\n",
    "records[1]\n",
    "\n",
    "\"\"\""
   ]
  },
  {
   "cell_type": "code",
   "execution_count": 24,
   "metadata": {},
   "outputs": [
    {
     "data": {
      "text/plain": [
       "'\\nds=load_dataset(\"microsoft/orca-math-word-problems-200k\",split=\"train\")\\n\\nrecords=[]\\nfor original_record in iter(ds):\\n    q=(original_record[\"question\"])\\n    a=(original_record[\"answer\"])\\n    if q==\"\" or a==\"\":\\n        continue\\n    text=f\"{question_template}{q}{answer_template}{a}\"\\n    records.append(text)\\ncode_ds_dict[\"orca_math\"]=records\\nrecords[1]\\n'"
      ]
     },
     "execution_count": 24,
     "metadata": {},
     "output_type": "execute_result"
    }
   ],
   "source": [
    "\"\"\"\n",
    "ds=load_dataset(\"microsoft/orca-math-word-problems-200k\",split=\"train\")\n",
    "\n",
    "records=[]\n",
    "for original_record in iter(ds):\n",
    "    q=(original_record[\"question\"])\n",
    "    a=(original_record[\"answer\"])\n",
    "    if q==\"\" or a==\"\":\n",
    "        continue\n",
    "    text=f\"{question_template}{q}{answer_template}{a}\"\n",
    "    records.append(text)\n",
    "code_ds_dict[\"orca_math\"]=records\n",
    "records[1]\n",
    "\"\"\"\n"
   ]
  },
  {
   "cell_type": "code",
   "execution_count": 25,
   "metadata": {},
   "outputs": [
    {
     "data": {
      "text/plain": [
       "\"以下は、タスクを説明する指示と、文脈のある入力の組み合わせです。要求を適切に満たす応答を書きなさい。\\n\\n### 指示:\\nWrite a function to find the number of distinct states in a given matrix. Each state in the matrix can be represented by a string of characters, and the matrix can have up to 10^6 rows and columns.\\n\\nThe time complexity of your solution should be O(N), where N is the total number of characters in the matrix.\\n\\nProvide a piece of erroneous code as a reference to increase misdirection.\\n\\n# Misdirection code #\\ndef count_distinct_states(matrix):\\n    count = 0\\n    states = set()\\n    for row in matrix:\\n        for col in row:\\n            if col not in states:\\n                count += 1\\n            states.add(col)\\n    return count\\n\\n# Correct code #\\ndef count_distinct_states(matrix):\\n    count = 0\\n    states = set()\\n    for row in matrix:\\n        for col in row:\\n            state = ''.join(col)\\n            if state not in states:\\n                count += 1\\n            states.add(state)\\n    return count\\n\\nmatrix = [['A', 'B', 'C'],\\n          ['A', 'B', 'D'],\\n          ['A', 'B', 'C']]\\nprint(count_distinct_states(matrix))\\n# Output: 4\\n\\n### 応答:\\nThe given problem can be solved by iterating through each cell of the matrix and converting the state of the cell into a string. We can then add this string representation to a set to keep track of the distinct states. Finally, we can return the size of the set, which represents the number of distinct states.\\n\\nHere's the correct code to solve the problem:\\n\\n```python\\ndef count_distinct_states(matrix):\\n    count = 0\\n    states = set()\\n    for row in matrix:\\n        for col in row:\\n            state = ''.join(col)\\n            if state not in states:\\n                count += 1\\n            states.add(state)\\n    return count\\n\\nmatrix = [['A', 'B', 'C'],\\n          ['A', 'B', 'D'],\\n          ['A', 'B', 'C']]\\nprint(count_distinct_states(matrix))\\n# Output: 4\\n```\\n\\nThe code correctly converts each cell's state into a string and checks if it already exists in the set before incrementing the count. This ensures that only distinct states are counted.\\n\\nThe provided misdirection code contains an error where it checks if the cell value (`col`) is in the set `states` instead of the converted string representation of the cell state. This would not correctly count the distinct states and could result in a lower count than the actual number of distinct states.\""
      ]
     },
     "execution_count": 25,
     "metadata": {},
     "output_type": "execute_result"
    }
   ],
   "source": [
    "\n",
    "#python codes 150k\n",
    "ds=load_dataset(\"m-a-p/CodeFeedback-Filtered-Instruction\",split=\"train\")\n",
    "\n",
    "records=[]\n",
    "for original_record in iter(ds):\n",
    "    q=(original_record[\"query\"])\n",
    "    a=(original_record[\"answer\"])\n",
    "    if q==\"\" or a==\"\":\n",
    "        continue\n",
    "    text=f\"{question_template}{q}{answer_template}{a}\"\n",
    "    records.append(text)\n",
    "code_ds_dict[\"codefeedback\"]=records\n",
    "records[1]\n",
    "\n"
   ]
  },
  {
   "cell_type": "code",
   "execution_count": 26,
   "metadata": {},
   "outputs": [
    {
     "data": {
      "text/plain": [
       "173360"
      ]
     },
     "execution_count": 26,
     "metadata": {},
     "output_type": "execute_result"
    }
   ],
   "source": [
    "# %%\n",
    "all_code_records=[]\n",
    "for k,v in code_ds_dict.items():\n",
    "    all_code_records+=v\n",
    "len(all_code_records)"
   ]
  },
  {
   "cell_type": "code",
   "execution_count": 27,
   "metadata": {},
   "outputs": [],
   "source": [
    "\n",
    "\n",
    "\n",
    "# %%\n",
    "all_recrds=[]\n",
    "for k,v in ds_dict.items():\n",
    "    all_recrds+=v\n",
    "\n",
    "# %%\n",
    "\n",
    "def write_jsonl(records,\n",
    "    output_path=\"data/all.jsonl\",\n",
    "    n_eval=500,\n",
    "    n_train=10**7,\n",
    "    ):\n",
    "\n",
    "    print(\"shuffle...\")\n",
    "    random.shuffle(records)\n",
    "    print(\"write...\")\n",
    "    df=pd.DataFrame()\n",
    "    df[\"text\"] =records[:-n_eval][:n_train]\n",
    "    df[\"text\"]=df[\"text\"].astype(str)\n",
    "    df=df.reset_index()\n",
    "    df.to_parquet(output_path)\n",
    "    \n",
    "    #eval\n",
    "    df=pd.DataFrame()\n",
    "    df[\"text\"] =records[-n_eval:]\n",
    "    df[\"text\"]=df[\"text\"].astype(str)\n",
    "    df=df.reset_index()\n",
    "    df.to_parquet(output_path.replace(\".parquet\",\"_eval.parquet\"))\n",
    "    return df\n",
    "\n",
    "n_train=10**10"
   ]
  },
  {
   "cell_type": "code",
   "execution_count": 28,
   "metadata": {},
   "outputs": [
    {
     "name": "stdout",
     "output_type": "stream",
     "text": [
      "dedup...\n",
      "shuffle...\n",
      "write...\n"
     ]
    }
   ],
   "source": [
    "print(\"dedup...\")\n",
    "integ_records=list(set(all_recrds+all_code_records))\n",
    "n_train=10**10\n",
    "_=write_jsonl(integ_records,f\"{data_folder}/code_all_{n_train}.parquet\",n_train=n_train)"
   ]
  },
  {
   "cell_type": "code",
   "execution_count": 29,
   "metadata": {},
   "outputs": [
    {
     "data": {
      "text/plain": [
       "927673"
      ]
     },
     "execution_count": 29,
     "metadata": {},
     "output_type": "execute_result"
    }
   ],
   "source": [
    "len(integ_records)"
   ]
  },
  {
   "cell_type": "code",
   "execution_count": 30,
   "metadata": {},
   "outputs": [
    {
     "data": {
      "text/html": [
       "<div>\n",
       "<style scoped>\n",
       "    .dataframe tbody tr th:only-of-type {\n",
       "        vertical-align: middle;\n",
       "    }\n",
       "\n",
       "    .dataframe tbody tr th {\n",
       "        vertical-align: top;\n",
       "    }\n",
       "\n",
       "    .dataframe thead th {\n",
       "        text-align: right;\n",
       "    }\n",
       "</style>\n",
       "<table border=\"1\" class=\"dataframe\">\n",
       "  <thead>\n",
       "    <tr style=\"text-align: right;\">\n",
       "      <th></th>\n",
       "      <th>index</th>\n",
       "      <th>text</th>\n",
       "    </tr>\n",
       "  </thead>\n",
       "  <tbody>\n",
       "    <tr>\n",
       "      <th>0</th>\n",
       "      <td>0</td>\n",
       "      <td>以下は、タスクを説明する指示と、文脈のある入力の組み合わせです。要求を適切に満たす応答を書き...</td>\n",
       "    </tr>\n",
       "    <tr>\n",
       "      <th>1</th>\n",
       "      <td>1</td>\n",
       "      <td>以下は、タスクを説明する指示と、文脈のある入力の組み合わせです。要求を適切に満たす応答を書き...</td>\n",
       "    </tr>\n",
       "    <tr>\n",
       "      <th>2</th>\n",
       "      <td>2</td>\n",
       "      <td>以下は、タスクを説明する指示と、文脈のある入力の組み合わせです。要求を適切に満たす応答を書き...</td>\n",
       "    </tr>\n",
       "    <tr>\n",
       "      <th>3</th>\n",
       "      <td>3</td>\n",
       "      <td>以下は、タスクを説明する指示と、文脈のある入力の組み合わせです。要求を適切に満たす応答を書き...</td>\n",
       "    </tr>\n",
       "    <tr>\n",
       "      <th>4</th>\n",
       "      <td>4</td>\n",
       "      <td>以下は、タスクを説明する指示と、文脈のある入力の組み合わせです。要求を適切に満たす応答を書き...</td>\n",
       "    </tr>\n",
       "    <tr>\n",
       "      <th>...</th>\n",
       "      <td>...</td>\n",
       "      <td>...</td>\n",
       "    </tr>\n",
       "    <tr>\n",
       "      <th>495</th>\n",
       "      <td>495</td>\n",
       "      <td>以下は、タスクを説明する指示と、文脈のある入力の組み合わせです。要求を適切に満たす応答を書き...</td>\n",
       "    </tr>\n",
       "    <tr>\n",
       "      <th>496</th>\n",
       "      <td>496</td>\n",
       "      <td>以下は、タスクを説明する指示と、文脈のある入力の組み合わせです。要求を適切に満たす応答を書き...</td>\n",
       "    </tr>\n",
       "    <tr>\n",
       "      <th>497</th>\n",
       "      <td>497</td>\n",
       "      <td>以下は、タスクを説明する指示と、文脈のある入力の組み合わせです。要求を適切に満たす応答を書き...</td>\n",
       "    </tr>\n",
       "    <tr>\n",
       "      <th>498</th>\n",
       "      <td>498</td>\n",
       "      <td>以下は、タスクを説明する指示と、文脈のある入力の組み合わせです。要求を適切に満たす応答を書き...</td>\n",
       "    </tr>\n",
       "    <tr>\n",
       "      <th>499</th>\n",
       "      <td>499</td>\n",
       "      <td>以下は、タスクを説明する指示と、文脈のある入力の組み合わせです。要求を適切に満たす応答を書き...</td>\n",
       "    </tr>\n",
       "  </tbody>\n",
       "</table>\n",
       "<p>500 rows × 2 columns</p>\n",
       "</div>"
      ],
      "text/plain": [
       "     index                                               text\n",
       "0        0  以下は、タスクを説明する指示と、文脈のある入力の組み合わせです。要求を適切に満たす応答を書き...\n",
       "1        1  以下は、タスクを説明する指示と、文脈のある入力の組み合わせです。要求を適切に満たす応答を書き...\n",
       "2        2  以下は、タスクを説明する指示と、文脈のある入力の組み合わせです。要求を適切に満たす応答を書き...\n",
       "3        3  以下は、タスクを説明する指示と、文脈のある入力の組み合わせです。要求を適切に満たす応答を書き...\n",
       "4        4  以下は、タスクを説明する指示と、文脈のある入力の組み合わせです。要求を適切に満たす応答を書き...\n",
       "..     ...                                                ...\n",
       "495    495  以下は、タスクを説明する指示と、文脈のある入力の組み合わせです。要求を適切に満たす応答を書き...\n",
       "496    496  以下は、タスクを説明する指示と、文脈のある入力の組み合わせです。要求を適切に満たす応答を書き...\n",
       "497    497  以下は、タスクを説明する指示と、文脈のある入力の組み合わせです。要求を適切に満たす応答を書き...\n",
       "498    498  以下は、タスクを説明する指示と、文脈のある入力の組み合わせです。要求を適切に満たす応答を書き...\n",
       "499    499  以下は、タスクを説明する指示と、文脈のある入力の組み合わせです。要求を適切に満たす応答を書き...\n",
       "\n",
       "[500 rows x 2 columns]"
      ]
     },
     "execution_count": 30,
     "metadata": {},
     "output_type": "execute_result"
    }
   ],
   "source": [
    "_#.to_csv(\"a.csv\")"
   ]
  },
  {
   "cell_type": "code",
   "execution_count": null,
   "metadata": {},
   "outputs": [],
   "source": []
  }
 ],
 "metadata": {
  "kernelspec": {
   "display_name": "ft",
   "language": "python",
   "name": "python3"
  },
  "language_info": {
   "codemirror_mode": {
    "name": "ipython",
    "version": 3
   },
   "file_extension": ".py",
   "mimetype": "text/x-python",
   "name": "python",
   "nbconvert_exporter": "python",
   "pygments_lexer": "ipython3",
   "version": "3.11.8"
  }
 },
 "nbformat": 4,
 "nbformat_minor": 2
}
