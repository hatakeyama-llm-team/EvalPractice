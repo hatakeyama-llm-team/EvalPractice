{
 "cells": [
  {
   "cell_type": "code",
   "execution_count": 1,
   "metadata": {},
   "outputs": [
    {
     "name": "stderr",
     "output_type": "stream",
     "text": [
      "/home/hatakeyama/miniconda3/envs/llmeval/lib/python3.11/site-packages/tqdm/auto.py:21: TqdmWarning: IProgress not found. Please update jupyter and ipywidgets. See https://ipywidgets.readthedocs.io/en/stable/user_install.html\n",
      "  from .autonotebook import tqdm as notebook_tqdm\n",
      "mkdir: cannot create directory ‘data/0516code’: File exists\n"
     ]
    }
   ],
   "source": [
    "# instruciton datasetの生成\n",
    "\n",
    "import pandas as pd\n",
    "import os\n",
    "from datasets import load_dataset\n",
    "import json\n",
    "import random\n",
    "from tqdm import tqdm\n",
    "\n",
    "data_folder=\"data/0516code\"\n",
    "\n",
    "#dataフォルダ内をリセット\n",
    "os.system(f\"mkdir {data_folder}\")\n",
    "os.system(f\"rm -rf {data_folder}/*\")\n",
    "\n",
    "\n",
    "ds_dict={}\n",
    "\n",
    "def clean_autogen(text):\n",
    "    if text is None:\n",
    "        return \"\"\n",
    "    text=text.strip()\n",
    "    return text\n",
    "\n",
    "question_template=\"以下は、タスクを説明する指示と、文脈のある入力の組み合わせです。要求を適切に満たす応答を書きなさい。\\n\\n### 指示:\\n\"\n",
    "answer_template=\"\\n\\n### 応答:\\n\"\n",
    "\n",
    "#!pip install rapidfuzz\n",
    "#from rapidfuzz.process import cdist\n",
    "\n",
    "jmt_bench_df=pd.read_csv(\"reference_data/jmtbench.csv\")\n",
    "bench_questions=jmt_bench_df[\"問い\"].tolist()\n",
    "\n",
    "def check_jmt_similarity(q,bench_questions):\n",
    "    return 1  #一度チェックして問題ないなら、チェックしない\n",
    "    scores = cdist([q], bench_questions,workers=1)\n",
    "    score=max(scores[0])\n",
    "    return score\n",
    "\n",
    "\n",
    "records=[]\n",
    "\n",
    "# # mixtralで自動生成したQ&A\n",
    "\n",
    "score_threshold=4\n",
    "sim_threshold=80\n",
    "\n",
    "\n",
    "ng_words=[\n",
    "          #回答を避けるプロンプトの削除\n",
    "          \"申し訳\",\"分からない\",\"分かりません\",\"すみません\",\n",
    "          #図表などへの言及\n",
    "          \"図\",\"表\",\n",
    "          #日本関係の事項はハルシネーションが多いので消す\n",
    "          \"日本\",\"京都\",\"東京\",\"寿司\", \n",
    "          ]\n"
   ]
  },
  {
   "cell_type": "code",
   "execution_count": 5,
   "metadata": {},
   "outputs": [],
   "source": [
    "#マルチターン\n",
    "ds=load_dataset(\"llm-jp/oasst1-21k-ja\",)[\"train\"]\n"
   ]
  },
  {
   "cell_type": "code",
   "execution_count": 18,
   "metadata": {},
   "outputs": [
    {
     "name": "stdout",
     "output_type": "stream",
     "text": [
      "以下は、タスクを説明する指示と、文脈のある入力の組み合わせです。要求を適切に満たす応答を書きなさい。\n",
      "\n",
      "### 指示:\n",
      "なぜ人工ニューロンはバイアス項を使うのか？重みを使うだけで十分ではないですか？\n",
      "### 応答:\n",
      "バイアスを導入することは、モデルに調整可能な閾値を持たせるために重要です。\n",
      "例えばReLU活性化関数を持つニューロンを考えると、このニューロンが活性化関数の平坦領域で出力するかどうかは、その入力ベクトルのスケール不変条件のみに依存する可能性があります。\n",
      "したがって、バイアスのかかったニューロンの非線型性は、バイアスのかかっていないニューロンよりもさらに広がる可能性があり、バイアスのかかったニューロンは「私の入力のこの組み合わせは3より大きい」というような客観的な基準を学習するが、バイアスのかかっていないニューロンは「私の入力のこの最初の組み合わせはこの2番目の組み合わせより大きい」というような相対的な基準しか学習しない可能性がある。\n",
      "### 指示:\n",
      "平易な言葉で説明してもらえますか？人工ニューロンに詳しくない人のために？\n",
      "\n",
      "### 応答:\n",
      "ディープラーニングで使われているような人工ニューロンは、人間の脳の実際のニューロンの振る舞いをシミュレートするためのものです。人工ニューロンは入力を受け取り、処理し、出力を生成する。このシミュレーションでは、入力はニューロンへの接続の強さを表すように重み付けされ、バイアス項は、入力を受けなくても発火するニューロンの傾向を表す。\n",
      "\n",
      "ニューロンを、入力を出力に変換する小さな機械と考えよう。重みを使って入力と出力を接続するだけなら、入力が十分に強ければ出力が得られるだけである。しかし現実の世界では、ニューロンは入力を受けなくても出力を出す傾向がある。そこでバイアスという用語が登場する。これは、入力が弱くても出力をオンにできる小さなスイッチのような働きをする。\n",
      "\n",
      "言い換えれば、バイアス項は、出力が出る前に超えなければならない閾値のような働きをする。バイアス項を使うことで、ニューロンの振る舞いを微調整することができる。バイアス項がなければ、ニューロンは柔軟性を失い、強い入力を受 け取ったときだけ出力を出すように制限されてしまうだろう。\n"
     ]
    },
    {
     "data": {
      "text/plain": [
       "(None, 13100)"
      ]
     },
     "execution_count": 18,
     "metadata": {},
     "output_type": "execute_result"
    }
   ],
   "source": [
    "records=[]\n",
    "for record in ds:\n",
    "    conversations=record[\"conversations\"]\n",
    "    if len(conversations)!=4:\n",
    "        continue\n",
    "    q=conversations[0][\"value\"]\n",
    "    q+=\"\\n### 応答:\\n\"+conversations[1][\"value\"]+\"\\n### 指示:\\n\"+conversations[2][\"value\"]\n",
    "    a=conversations[3][\"value\"]\n",
    "    text=f\"{question_template}{q}{answer_template}{a}\"\n",
    "    records.append(text)\n",
    "ds_dict[\"multi_turn_oasst\"]=records\n",
    "print(text),len(records)"
   ]
  },
  {
   "cell_type": "code",
   "execution_count": 16,
   "metadata": {},
   "outputs": [
    {
     "data": {
      "text/plain": [
       "[{'from': 'human',\n",
       "  'value': 'リヴァプール・フットボール・クラブのスコア結果を、先月分のみ取得できますか？試合、日付、結果を一行ずつ表示できますか？\\nこれに関する情報源として、ウェブサイトwww.bbc.co.uk/football。もしそれがあなたにとって有益であれば、他の情報源でもかまいません。'},\n",
       " {'from': 'gpt',\n",
       "  'value': '1月29日（日\\nFAカップ\\n第4回戦\\nブライトン＆ホーム・アルビオン 2-1 リヴァプール\\n\\n1月21日（土\\nプレミアリーグ\\nリバプール 0 - 0 チェルシー\\n\\n1月17日（火\\nFAカップ\\nウォルバーハンプトン・ワンダラーズ 0 - 0 リヴァプール\\n1月14日（土\\nプレミアリーグ\\nブライトン＆ホーヴ・アルビオン 3 - 0 リバプール\\n\\n1月7日（土\\nFAカップ\\nリバプール 2 - 2 ウルヴァーハンプトン・ワンダラーズ\\n\\n1月2日（月\\nプレミアリーグ\\nブレントフォード 3-1 リバプール\\n\\nデータは https://www.bbc.com/sport/football/teams/liverpool/scores-fixtures/2023-01 より引用'}]"
      ]
     },
     "execution_count": 16,
     "metadata": {},
     "output_type": "execute_result"
    }
   ],
   "source": [
    "conversations"
   ]
  },
  {
   "cell_type": "code",
   "execution_count": null,
   "metadata": {},
   "outputs": [],
   "source": [
    "\n",
    "exclude_count=0\n",
    "\n",
    "datasets=[\n",
    "    load_dataset(\"hatakeyama-llm-team/AutoGeneratedJapaneseQA\",split=\"train\"),\n",
    "    load_dataset(\"kanhatakeyama/OrcaJaMixtral8x22b\",split=\"train\"),\n",
    "    load_dataset(\"kanhatakeyama/ChatbotArenaJaMixtral8x22b\",split=\"train\"),\n",
    "\n",
    "]\n",
    "for dataset in datasets:\n",
    "    for original_record in tqdm(iter(dataset)):\n",
    "        q=clean_autogen(original_record[\"question\"])\n",
    "        a=clean_autogen(original_record[\"answer\"])\n",
    "        if q==\"\" or a==\"\":\n",
    "            continue\n",
    "\n",
    "        if \"score\" in original_record:\n",
    "            if original_record[\"score\"] is None:\n",
    "                continue\n",
    "            if int(original_record[\"score\"])<score_threshold:\n",
    "                continue\n",
    "\n",
    "        if check_jmt_similarity(q,bench_questions)>sim_threshold:\n",
    "            print(\"too similar to jmt bench\",q)\n",
    "            continue\n",
    "\n",
    "        exclude_flag=False\n",
    "\n",
    "        #回答しないパターンのrecordを除外\n",
    "        for ng_word in ng_words:\n",
    "            if a.find(ng_word)>=0 or q.find(ng_word)>=0:\n",
    "                #print(\"excluded:\",a)\n",
    "                exclude_flag=True\n",
    "                exclude_count+=1\n",
    "                continue\n",
    "\n",
    "        if exclude_flag:\n",
    "            continue\n",
    "        #if len(a)<10:\n",
    "        #    print(\"too short answer\",a)\n",
    "        #    continue\n",
    "\n",
    "        text=f\"{question_template}{q}{answer_template}{a}\"\n",
    "        if a!=\"\":\n",
    "            records.append(text)\n",
    "\n",
    "\n",
    "ds_dict[\"auto_gen_mixtral\"]=records\n"
   ]
  },
  {
   "cell_type": "code",
   "execution_count": null,
   "metadata": {},
   "outputs": [],
   "source": [
    "\n",
    "# %% [markdown]\n",
    "# # hachiさんのalpaca + mixtral dataset\n",
    "\n",
    "# %%\n",
    "\n",
    "hachi_datasets=[\n",
    "    load_dataset(\"HachiML/Hachi-Alpaca\",split='v1.0_cleaned'),\n",
    "    load_dataset(\"HachiML/Evol-Alpaca-gen3-500\",split='train'),\n",
    "]\n",
    "\n",
    "# %%\n",
    "records=[]\n",
    "for hachi_ds in hachi_datasets:\n",
    "    for record in tqdm(hachi_ds):\n",
    "        q=record[\"instruction\"]\n",
    "        if \"input\" in record:\n",
    "            inp=record[\"input\"]\n",
    "        else:\n",
    "            inp=\"\"\n",
    "        if inp!=\"\":\n",
    "            q+=\"\\n\"+inp\n",
    "        a=record[\"output\"]\n",
    "        if q==\"\" or a==\"\":\n",
    "            continue\n",
    "        text=f\"{question_template}{q}{answer_template}{a}\"\n",
    "        records.append(text)\n",
    "        \n",
    "\n",
    "    ds_dict[\"hachi_alpaca\"]=records\n"
   ]
  },
  {
   "cell_type": "code",
   "execution_count": null,
   "metadata": {},
   "outputs": [],
   "source": [
    "\n",
    "# %% [markdown]\n",
    "# # Bumpo dataset\n",
    "\n",
    "#文法理解に関するデータセット\n",
    "ds2=load_dataset(\"hatakeyama-llm-team/BumpoRikai\",split=\"train\")\n",
    "# %%\n",
    "records=[]\n",
    "for original_record in iter(ds2):\n",
    "    q=(original_record[\"question\"])\n",
    "    a=(original_record[\"answer\"])\n",
    "    inst=(original_record[\"instruction\"])\n",
    "    if q==\"\" or a==\"\":\n",
    "        continue\n",
    "    text=f\"{question_template}{q}{answer_template}{a}\"\n",
    "    records.append(text)\n",
    "ds_dict[\"bumpo_rikai\"]=records\n",
    "records[1]\n",
    "\n"
   ]
  },
  {
   "cell_type": "code",
   "execution_count": null,
   "metadata": {},
   "outputs": [],
   "source": [
    "\n",
    "#minnade\n",
    "m_ds=load_dataset(\"minnade/chat-daily\",split=\"train\")\n",
    "\n",
    "id_to_content={}\n",
    "for record in m_ds:\n",
    "    id_to_content[record[\"id\"]]=record[\"body\"]\n",
    "\n",
    "questions=[]\n",
    "for record in m_ds:\n",
    "    if record[\"role\"]==\"assistant\":\n",
    "        q=id_to_content[record[\"parent_id\"]]\n",
    "        a=record[\"body\"]\n",
    "        if a is None:\n",
    "            continue\n",
    "        if len(a)<4:\n",
    "            continue\n",
    "        #questions.append((q,a))\n",
    "        text=f\"{question_template}{q}{answer_template}{a}\"\n",
    "        questions.append(text)\n",
    "\n",
    "ds_dict[\"minnade\"]=questions"
   ]
  },
  {
   "cell_type": "code",
   "execution_count": null,
   "metadata": {},
   "outputs": [],
   "source": [
    "\n",
    "\n",
    "# %%\n",
    "all_recrds=[]\n",
    "for k,v in ds_dict.items():\n",
    "    all_recrds+=v\n",
    "\n",
    "# %%\n",
    "\n",
    "def write_jsonl(records,\n",
    "    output_path=\"data/all.jsonl\",\n",
    "    n_eval=500,\n",
    "    n_train=10**7,\n",
    "    ):\n",
    "\n",
    "    random.shuffle(records)\n",
    "    df=pd.DataFrame()\n",
    "    df[\"text\"] =records[:-n_eval][:n_train]\n",
    "    df[\"text\"]=df[\"text\"].astype(str)\n",
    "    df=df.reset_index()\n",
    "    df.to_parquet(output_path)\n",
    "    \n",
    "    #eval\n",
    "    df=pd.DataFrame()\n",
    "    df[\"text\"] =records[-n_eval:]\n",
    "    df[\"text\"]=df[\"text\"].astype(str)\n",
    "    df=df.reset_index()\n",
    "    df.to_parquet(output_path.replace(\".parquet\",\"_eval.parquet\"))\n",
    "    return df"
   ]
  },
  {
   "cell_type": "code",
   "execution_count": null,
   "metadata": {},
   "outputs": [],
   "source": [
    "n_train=10**10\n",
    "df=write_jsonl(all_recrds,f\"{data_folder}/all_{n_train}.parquet\",n_train=n_train)"
   ]
  },
  {
   "cell_type": "markdown",
   "metadata": {},
   "source": [
    "# code dataset"
   ]
  },
  {
   "cell_type": "code",
   "execution_count": null,
   "metadata": {},
   "outputs": [],
   "source": [
    "\n",
    "def count_half_width_ratio(text):\n",
    "    # 全文字数\n",
    "    total_chars = len(text)\n",
    "    # 半角文字数\n",
    "    half_width_chars = sum(1 for char in text if ord(char) < 128)\n",
    "    \n",
    "    # 半角文字の割合を計算\n",
    "    if total_chars == 0:\n",
    "        return 0  # 文字列が空の場合は0を返す\n",
    "    return half_width_chars / total_chars * 100\n",
    "code_keywords=[\n",
    "    \"Python\",\"python\",\"code\",\"コード\",\"JSON\",\"Java\",\"XML\",\"csv\",\"CSV\",\"def\",\"list\",\"html\",\"HTML\",\n",
    "    \"プログラム\",\"スクリプト\",\"script\",\"Script\"\n",
    "]\n",
    "code_records=[]\n",
    "\n",
    "for record in all_recrds:\n",
    "    for keyword in code_keywords:\n",
    "        if record.find(keyword)>=0:\n",
    "            if count_half_width_ratio(record)>12:\n",
    "                code_records.append(record)\n",
    "                break\n",
    "\n",
    "len(code_records)\n"
   ]
  },
  {
   "cell_type": "code",
   "execution_count": null,
   "metadata": {},
   "outputs": [],
   "source": [
    "code_ds_dict={}"
   ]
  },
  {
   "cell_type": "code",
   "execution_count": null,
   "metadata": {},
   "outputs": [],
   "source": [
    "#openmathinst\n",
    "openmath_ds=load_dataset(\"kunishou/OpenMathInstruct-1-1.8m-ja\",split=\"train\")"
   ]
  },
  {
   "cell_type": "code",
   "execution_count": null,
   "metadata": {},
   "outputs": [],
   "source": [
    "records=[]\n",
    "for original_record in iter(openmath_ds):\n",
    "    q=(original_record[\"question_ja\"])\n",
    "    a=(original_record[\"generated_solution_ja\"])\n",
    "    #inst=(original_record[\"instruction\"])\n",
    "    if q==\"\" or a==\"\":\n",
    "        continue\n",
    "    text=f\"{question_template}{q}{answer_template}{a}\"\n",
    "    records.append(text)\n",
    "code_ds_dict[\"openmathja\"]=records\n",
    "records[1]\n",
    "\n"
   ]
  },
  {
   "cell_type": "code",
   "execution_count": null,
   "metadata": {},
   "outputs": [],
   "source": [
    "\n",
    "ds=load_dataset(\"HachiML/alpaca_jp_python\",split=\"v0.2\")\n",
    "\n",
    "records=[]\n",
    "for original_record in iter(ds):\n",
    "    q=(original_record[\"instruction\"])\n",
    "    a=(original_record[\"output\"])\n",
    "    inp=(original_record[\"input\"])\n",
    "    if inp!=\"\":\n",
    "        q+=\"\\n\"+inp\n",
    "    if q==\"\" or a==\"\":\n",
    "        continue\n",
    "    text=f\"{question_template}{q}{answer_template}{a}\"\n",
    "    records.append(text)\n",
    "code_ds_dict[\"code_hachi\"]=records\n",
    "records[1]\n",
    "\n"
   ]
  },
  {
   "cell_type": "code",
   "execution_count": null,
   "metadata": {},
   "outputs": [],
   "source": [
    "ds=load_dataset(\"kunishou/amenokaku-code-instruct\",split=\"train\")\n",
    "\n",
    "records=[]\n",
    "for original_record in iter(ds):\n",
    "    q=(original_record[\"instruction\"])\n",
    "    a=(original_record[\"output\"])\n",
    "    inp=(original_record[\"input\"])\n",
    "    if inp!=\"\":\n",
    "        q+=\"\\n\"+inp\n",
    "    if q==\"\" or a==\"\":\n",
    "        continue\n",
    "    text=f\"{question_template}{q}{answer_template}{a}\"\n",
    "    records.append(text)\n",
    "code_ds_dict[\"amenokaku\"]=records\n",
    "records[1]\n",
    "\n"
   ]
  },
  {
   "cell_type": "code",
   "execution_count": null,
   "metadata": {},
   "outputs": [],
   "source": [
    "\n",
    "ds=load_dataset(\"https://huggingface.co/datasets/saldra/sakura_japanese_dataset\",split=\"train\")\n",
    "\n",
    "records=[]\n",
    "for original_record in iter(ds):\n",
    "    q=(original_record[\"instruction\"])\n",
    "    a=(original_record[\"output\"])\n",
    "    inp=(original_record[\"input\"])\n",
    "    if inp!=\"\":\n",
    "        q+=\"\\n\"+inp\n",
    "    if q==\"\" or a==\"\":\n",
    "        continue\n",
    "    text=f\"{question_template}{q}{answer_template}{a}\"\n",
    "    records.append(text)\n",
    "code_ds_dict[\"sakura\"]=records\n",
    "records[1]\n",
    "\n"
   ]
  },
  {
   "cell_type": "code",
   "execution_count": null,
   "metadata": {},
   "outputs": [],
   "source": [
    "# meta math\n",
    "\n",
    "ds=load_dataset(\"meta-math/MetaMathQA\",split=\"train\")\n",
    "\n",
    "records=[]\n",
    "for original_record in iter(ds):\n",
    "    q=(original_record[\"query\"])\n",
    "    a=(original_record[\"response\"])\n",
    "    if q==\"\" or a==\"\":\n",
    "        continue\n",
    "    text=f\"{question_template}{q}{answer_template}{a}\"\n",
    "    records.append(text)\n",
    "code_ds_dict[\"meta_math\"]=records\n",
    "records[1]\n",
    "\n"
   ]
  },
  {
   "cell_type": "code",
   "execution_count": null,
   "metadata": {},
   "outputs": [],
   "source": [
    "\n",
    "ds=load_dataset(\"microsoft/orca-math-word-problems-200k\",split=\"train\")\n",
    "\n",
    "records=[]\n",
    "for original_record in iter(ds):\n",
    "    q=(original_record[\"question\"])\n",
    "    a=(original_record[\"answer\"])\n",
    "    if q==\"\" or a==\"\":\n",
    "        continue\n",
    "    text=f\"{question_template}{q}{answer_template}{a}\"\n",
    "    records.append(text)\n",
    "code_ds_dict[\"orca_math\"]=records\n",
    "records[1]\n",
    "\n"
   ]
  },
  {
   "cell_type": "code",
   "execution_count": null,
   "metadata": {},
   "outputs": [],
   "source": [
    "\n",
    "\n",
    "ds=load_dataset(\"m-a-p/CodeFeedback-Filtered-Instruction\",split=\"train\")\n",
    "\n",
    "records=[]\n",
    "for original_record in iter(ds):\n",
    "    q=(original_record[\"query\"])\n",
    "    a=(original_record[\"answer\"])\n",
    "    if q==\"\" or a==\"\":\n",
    "        continue\n",
    "    text=f\"{question_template}{q}{answer_template}{a}\"\n",
    "    records.append(text)\n",
    "code_ds_dict[\"codefeedback\"]=records\n",
    "records[1]\n",
    "\n"
   ]
  },
  {
   "cell_type": "code",
   "execution_count": null,
   "metadata": {},
   "outputs": [],
   "source": [
    "# %%\n",
    "all_code_records=[]\n",
    "for k,v in code_ds_dict.items():\n",
    "    all_code_records+=v\n",
    "all_code_records+=code_records\n",
    "len(all_code_records)"
   ]
  },
  {
   "cell_type": "code",
   "execution_count": null,
   "metadata": {},
   "outputs": [],
   "source": [
    "n_train=10**10\n",
    "_=write_jsonl(all_code_records,f\"{data_folder}/code_{n_train}.parquet\",n_train=n_train)"
   ]
  },
  {
   "cell_type": "code",
   "execution_count": null,
   "metadata": {},
   "outputs": [],
   "source": [
    "\n",
    "n_train=10**10\n",
    "_=write_jsonl(all_recrds+all_code_records,f\"{data_folder}/code_all_{n_train}.parquet\",n_train=n_train)"
   ]
  },
  {
   "cell_type": "code",
   "execution_count": null,
   "metadata": {},
   "outputs": [],
   "source": []
  }
 ],
 "metadata": {
  "kernelspec": {
   "display_name": "ft",
   "language": "python",
   "name": "python3"
  },
  "language_info": {
   "codemirror_mode": {
    "name": "ipython",
    "version": 3
   },
   "file_extension": ".py",
   "mimetype": "text/x-python",
   "name": "python",
   "nbconvert_exporter": "python",
   "pygments_lexer": "ipython3",
   "version": "3.11.8"
  }
 },
 "nbformat": 4,
 "nbformat_minor": 2
}
