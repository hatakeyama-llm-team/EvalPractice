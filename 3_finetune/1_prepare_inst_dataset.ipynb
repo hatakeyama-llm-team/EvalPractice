{
 "cells": [
  {
   "cell_type": "code",
   "execution_count": 4,
   "metadata": {},
   "outputs": [],
   "source": [
    "# instruciton datasetを今回のSFT形式に変換する"
   ]
  },
  {
   "cell_type": "code",
   "execution_count": 5,
   "metadata": {},
   "outputs": [],
   "source": [
    "from datasets import load_dataset\n",
    "import json"
   ]
  },
  {
   "cell_type": "markdown",
   "metadata": {},
   "source": [
    "# ichikara"
   ]
  },
  {
   "cell_type": "code",
   "execution_count": 6,
   "metadata": {},
   "outputs": [],
   "source": [
    "# 理研のichikara dataset (CC-NC-NDライセンス)\n",
    "dataset=load_dataset(\"p1atdev/ichikara-instruction\",'20231221-003')[\"train\"]"
   ]
  },
  {
   "cell_type": "code",
   "execution_count": 7,
   "metadata": {},
   "outputs": [
    {
     "name": "stdout",
     "output_type": "stream",
     "text": [
      "1899\n"
     ]
    }
   ],
   "source": [
    "print(len(dataset))"
   ]
  },
  {
   "cell_type": "code",
   "execution_count": 8,
   "metadata": {},
   "outputs": [],
   "source": [
    "\"\"\"\n",
    "本番はこっち｡\n",
    "以下は、タスクを説明する指示と、文脈のある入力の組み合わせです。要求を適切に満たす応答を書きなさい\n",
    "\"\"\"\n",
    "\n",
    "question_template=\"### 指示：以下の質問に答えなさい。 ### 質問：\"\n",
    "question_template=\"以下は、タスクを説明する指示と、文脈のある入力の組み合わせです。要求を適切に満たす応答を書きなさい｡ ### 質問：\"\n",
    "answer_template=\" ### 回答：\""
   ]
  },
  {
   "cell_type": "code",
   "execution_count": 9,
   "metadata": {},
   "outputs": [],
   "source": [
    "n_instructions=1500\n",
    "ichikara_list=[]\n",
    "\n",
    "for n_instructions in [1500]:\n",
    "    output_path=f\"data/ichikara_{n_instructions}.jsonl\"\n",
    "    with open(output_path,\"w\") as f:\n",
    "        f.write(\"\")\n",
    "    loader=iter(dataset)\n",
    "    for i in range(n_instructions):\n",
    "        original_record=next(loader)\n",
    "        q=original_record[\"text\"]\n",
    "        a=original_record[\"output\"]\n",
    "        text=f\"{question_template}{q}{answer_template}{a}\"\n",
    "        with open(output_path,\"a\") as f:\n",
    "            line=json.dumps({\"text\":text},ensure_ascii=False)\n",
    "            f.write(line+\"\\n\")\n",
    "\n",
    "        ichikara_list.append(line)\n",
    "\n",
    "ichikara_list=list(set(ichikara_list))"
   ]
  },
  {
   "cell_type": "markdown",
   "metadata": {},
   "source": [
    "# dolly"
   ]
  },
  {
   "cell_type": "code",
   "execution_count": 10,
   "metadata": {},
   "outputs": [],
   "source": [
    "d_dataset=load_dataset(\"kunishou/databricks-dolly-15k-ja\")[\"train\"]"
   ]
  },
  {
   "cell_type": "code",
   "execution_count": 11,
   "metadata": {},
   "outputs": [
    {
     "data": {
      "text/plain": [
       "{'input': 'ヴァージン・オーストラリア航空（Virgin Australia Airlines Pty Ltd）はオーストラリアを拠点とするヴァージン・ブランドを冠する最大の船団規模を持つ航空会社です。2000年8月31日に、ヴァージン・ブルー空港として、2機の航空機、1つの空路を運行してサービスを開始しました。2001年9月のアンセット・オーストラリア空港の崩壊後、オーストラリアの国内市場で急速に地位を確立しました。その後はブリスベン、メルボルン、シドニーをハブとして、オーストラリア国内の32都市に直接乗り入れるまでに成長しました。',\n",
       " 'instruction': 'ヴァージン・オーストラリア航空はいつから運航を開始したのですか？',\n",
       " 'output': 'ヴァージン・オーストラリア航空は、2000年8月31日にヴァージン・ブルー航空として、2機の航空機で単一路線の運航を開始しました。',\n",
       " 'index': '0',\n",
       " 'category': 'closed_qa'}"
      ]
     },
     "execution_count": 11,
     "metadata": {},
     "output_type": "execute_result"
    }
   ],
   "source": [
    "d_dataset[0]"
   ]
  },
  {
   "cell_type": "code",
   "execution_count": 12,
   "metadata": {},
   "outputs": [],
   "source": [
    "question_template2=\"### 指示：以下の質問に答えなさい。\"\n",
    "question_template2=\"以下は、タスクを説明する指示と、文脈のある入力の組み合わせです。要求を適切に満たす応答を書きなさい｡\"\n",
    "dolly_list=[]\n",
    "for n_instructions in [10000]:\n",
    "    output_path=f\"data/dolly{n_instructions}.jsonl\"\n",
    "    with open(output_path,\"w\") as f:\n",
    "        f.write(\"\")\n",
    "    loader=iter(d_dataset)\n",
    "    for i in range(n_instructions):\n",
    "        original_record=next(loader)\n",
    "        if \"input\" in original_record:\n",
    "            inp=original_record[\"input\"]\n",
    "        else:\n",
    "            inp=\"\"\n",
    "        q=original_record[\"instruction\"]\n",
    "        a=original_record[\"output\"]\n",
    "        if inp==\"\":\n",
    "            text=f\"{question_template}{q}{answer_template}{a}\"\n",
    "        else:\n",
    "            text=f\"{question_template2}{inp} ### 質問：{q}{answer_template}{a}\"\n",
    "        with open(output_path,\"a\") as f:\n",
    "            line=json.dumps({\"text\":text},ensure_ascii=False)\n",
    "            f.write(line+\"\\n\")\n",
    "            dolly_list.append(line)\n",
    "\n",
    "dolly_list=list(set(dolly_list))"
   ]
  },
  {
   "cell_type": "markdown",
   "metadata": {},
   "source": [
    "# oasst"
   ]
  },
  {
   "cell_type": "code",
   "execution_count": 13,
   "metadata": {},
   "outputs": [],
   "source": [
    "oasst = load_dataset(\"kunishou/oasst1-chat-44k-ja\")[\"train\"]"
   ]
  },
  {
   "cell_type": "code",
   "execution_count": 14,
   "metadata": {},
   "outputs": [],
   "source": [
    "\n",
    "n_instructions=1500\n",
    "oasst_list=[]\n",
    "\n",
    "for n_instructions in [40000]:\n",
    "    output_path=f\"data/oasst{n_instructions}.jsonl\"\n",
    "    with open(output_path,\"w\") as f:\n",
    "        f.write(\"\")\n",
    "    loader=iter(oasst)\n",
    "    for i in range(n_instructions):\n",
    "        original_record=next(loader)[\"conversations\"]\n",
    "        q2=\"\"\n",
    "        a2=\"\"\n",
    "        q=original_record[0][\"value\"]\n",
    "        a=original_record[1][\"value\"]\n",
    "\n",
    "        if len(original_record)==4:\n",
    "            q2=original_record[2][\"value\"]\n",
    "            a2=original_record[3][\"value\"]\n",
    "\n",
    "            text=f\"{question_template}{q}{answer_template}{a} ### 質問：{q2} ### 回答：{a2}\"\n",
    "        else:\n",
    "            text=f\"{question_template}{q}{answer_template}{a}\"\n",
    "        with open(output_path,\"a\") as f:\n",
    "            line=json.dumps({\"text\":text},ensure_ascii=False)\n",
    "            f.write(line+\"\\n\")\n",
    "\n",
    "        oasst_list.append(line)\n",
    "\n",
    "oasst_list=list(set(oasst_list))"
   ]
  },
  {
   "cell_type": "code",
   "execution_count": 16,
   "metadata": {},
   "outputs": [],
   "source": [
    "#両方\n",
    "\"\"\"\n",
    "n_ichi=1500\n",
    "n_dolly=8000\n",
    "output_path=f\"data/dolly_{n_dolly}_ichi{n_ichi}.jsonl\"\n",
    "with open(output_path,\"w\") as f:\n",
    "    f.write(\"\")\n",
    "for i in range(n_dolly):\n",
    "    with open(output_path,\"a\") as f:\n",
    "        line=json.dumps({\"text\":dolly_list[i]},ensure_ascii=False)\n",
    "        f.write(line+\"\\n\")\n",
    "for i in range(n_ichi):\n",
    "    with open(output_path,\"a\") as f:\n",
    "        line=json.dumps({\"text\":ichikara_list[i]},ensure_ascii=False)\n",
    "        f.write(line+\"\\n\")\n",
    "\n",
    "\"\"\"\n",
    "#両方\n",
    "n_ichi=1500\n",
    "n_dolly=8000\n",
    "n_oasst=35000\n",
    "output_path=f\"data/dolly_{n_dolly}_oasst_{n_oasst}_ichi{n_ichi}.jsonl\"\n",
    "with open(output_path,\"w\") as f:\n",
    "    f.write(\"\")\n",
    "\n",
    "for i in range(n_dolly):\n",
    "    with open(output_path,\"a\") as f:\n",
    "        line=json.dumps({\"text\":dolly_list[i]},ensure_ascii=False)\n",
    "        f.write(line+\"\\n\")\n",
    "for i in range(n_oasst):\n",
    "    with open(output_path,\"a\") as f:\n",
    "        line=json.dumps({\"text\":oasst_list[i]},ensure_ascii=False)\n",
    "        f.write(line+\"\\n\")\n",
    "for i in range(n_ichi):\n",
    "    with open(output_path,\"a\") as f:\n",
    "        line=json.dumps({\"text\":ichikara_list[i]},ensure_ascii=False)\n",
    "        f.write(line+\"\\n\")\n",
    "\n",
    "\n"
   ]
  },
  {
   "cell_type": "code",
   "execution_count": null,
   "metadata": {},
   "outputs": [],
   "source": []
  }
 ],
 "metadata": {
  "kernelspec": {
   "display_name": "ft",
   "language": "python",
   "name": "python3"
  },
  "language_info": {
   "codemirror_mode": {
    "name": "ipython",
    "version": 3
   },
   "file_extension": ".py",
   "mimetype": "text/x-python",
   "name": "python",
   "nbconvert_exporter": "python",
   "pygments_lexer": "ipython3",
   "version": "3.11.5"
  }
 },
 "nbformat": 4,
 "nbformat_minor": 2
}
