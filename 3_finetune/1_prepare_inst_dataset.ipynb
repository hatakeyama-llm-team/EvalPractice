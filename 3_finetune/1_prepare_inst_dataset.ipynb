{
 "cells": [
  {
   "cell_type": "code",
   "execution_count": 44,
   "metadata": {},
   "outputs": [],
   "source": [
    "# instruciton datasetを今回のSFT形式に変換する"
   ]
  },
  {
   "cell_type": "code",
   "execution_count": 13,
   "metadata": {},
   "outputs": [
    {
     "data": {
      "text/plain": [
       "0"
      ]
     },
     "execution_count": 13,
     "metadata": {},
     "output_type": "execute_result"
    }
   ],
   "source": [
    "import os\n",
    "\n",
    "#dataフォルダ内をリセット\n",
    "os.system(\"rm -rf data/*\")"
   ]
  },
  {
   "cell_type": "code",
   "execution_count": 1,
   "metadata": {},
   "outputs": [
    {
     "name": "stderr",
     "output_type": "stream",
     "text": [
      "/home/hatakeyama/miniconda3/envs/textprocess/lib/python3.12/site-packages/tqdm/auto.py:21: TqdmWarning: IProgress not found. Please update jupyter and ipywidgets. See https://ipywidgets.readthedocs.io/en/stable/user_install.html\n",
      "  from .autonotebook import tqdm as notebook_tqdm\n"
     ]
    }
   ],
   "source": [
    "from datasets import load_dataset\n",
    "import json"
   ]
  },
  {
   "cell_type": "markdown",
   "metadata": {},
   "source": [
    "# ichikara"
   ]
  },
  {
   "cell_type": "code",
   "execution_count": 15,
   "metadata": {},
   "outputs": [],
   "source": [
    "# 理研のichikara dataset (CC-NC-NDライセンス)\n",
    "dataset=load_dataset(\"p1atdev/ichikara-instruction\",'20231221-003')[\"train\"]"
   ]
  },
  {
   "cell_type": "code",
   "execution_count": 16,
   "metadata": {},
   "outputs": [
    {
     "name": "stdout",
     "output_type": "stream",
     "text": [
      "1899\n"
     ]
    }
   ],
   "source": [
    "print(len(dataset))"
   ]
  },
  {
   "cell_type": "code",
   "execution_count": 17,
   "metadata": {},
   "outputs": [],
   "source": [
    "\"\"\"\n",
    "本番はこっち｡\n",
    "以下は、タスクを説明する指示と、文脈のある入力の組み合わせです。要求を適切に満たす応答を書きなさい\n",
    "\"\"\"\n",
    "\n",
    "#question_template=\"### 指示：以下の質問に答えなさい。 ### 質問：\"\n",
    "question_template=\"以下は、タスクを説明する指示と、文脈のある入力の組み合わせです。要求を適切に満たす応答を書きなさい。\\n\\n### 指示:\\n\"\n",
    "answer_template=\"\\n### 応答:\\n\""
   ]
  },
  {
   "cell_type": "code",
   "execution_count": 19,
   "metadata": {},
   "outputs": [],
   "source": [
    "n_instructions=1500\n",
    "ichikara_list=[]\n",
    "\n",
    "for n_instructions in [1500]:\n",
    "    output_path=f\"data/ichikara_{n_instructions}.jsonl\"\n",
    "    with open(output_path,\"w\") as f:\n",
    "        f.write(\"\")\n",
    "    loader=iter(dataset)\n",
    "    for i in range(n_instructions+300):\n",
    "        original_record=next(loader)\n",
    "        q=original_record[\"text\"]\n",
    "        a=original_record[\"output\"]\n",
    "        text=f\"{question_template}{q}{answer_template}{a}\"\n",
    "\n",
    "        line=json.dumps({\"text\":text},ensure_ascii=False)\n",
    "\n",
    "        eval_prefix=\"\"\n",
    "        if i>=n_instructions:\n",
    "            eval_prefix=\".eval\"\n",
    "        else:\n",
    "            ichikara_list.append(line)\n",
    " \n",
    "        with open(output_path+eval_prefix,\"a\") as f:\n",
    "            f.write(line+\"\\n\")\n",
    "\n",
    "\n",
    "ichikara_list=list(set(ichikara_list))"
   ]
  },
  {
   "cell_type": "markdown",
   "metadata": {},
   "source": [
    "# dolly"
   ]
  },
  {
   "cell_type": "code",
   "execution_count": 20,
   "metadata": {},
   "outputs": [
    {
     "data": {
      "application/vnd.jupyter.widget-view+json": {
       "model_id": "ac015cbed49f483e9668d0c34a59403a",
       "version_major": 2,
       "version_minor": 0
      },
      "text/plain": [
       "Downloading readme:   0%|          | 0.00/355 [00:00<?, ?B/s]"
      ]
     },
     "metadata": {},
     "output_type": "display_data"
    },
    {
     "data": {
      "application/vnd.jupyter.widget-view+json": {
       "model_id": "3a7a04a3581b401195e8a9ed2f3633d2",
       "version_major": 2,
       "version_minor": 0
      },
      "text/plain": [
       "Downloading data files:   0%|          | 0/1 [00:00<?, ?it/s]"
      ]
     },
     "metadata": {},
     "output_type": "display_data"
    },
    {
     "data": {
      "application/vnd.jupyter.widget-view+json": {
       "model_id": "4eb8d85c6f6348199db5df80986dafd0",
       "version_major": 2,
       "version_minor": 0
      },
      "text/plain": [
       "Downloading data:   0%|          | 0.00/17.1M [00:00<?, ?B/s]"
      ]
     },
     "metadata": {},
     "output_type": "display_data"
    },
    {
     "data": {
      "application/vnd.jupyter.widget-view+json": {
       "model_id": "6a6d3474798b436b8eb62e16200feac7",
       "version_major": 2,
       "version_minor": 0
      },
      "text/plain": [
       "Extracting data files:   0%|          | 0/1 [00:00<?, ?it/s]"
      ]
     },
     "metadata": {},
     "output_type": "display_data"
    },
    {
     "data": {
      "application/vnd.jupyter.widget-view+json": {
       "model_id": "795379833630474db51c0002ae2f127f",
       "version_major": 2,
       "version_minor": 0
      },
      "text/plain": [
       "Generating train split: 0 examples [00:00, ? examples/s]"
      ]
     },
     "metadata": {},
     "output_type": "display_data"
    }
   ],
   "source": [
    "d_dataset=load_dataset(\"kunishou/databricks-dolly-15k-ja\")[\"train\"]"
   ]
  },
  {
   "cell_type": "code",
   "execution_count": 22,
   "metadata": {},
   "outputs": [
    {
     "data": {
      "text/plain": [
       "15015"
      ]
     },
     "execution_count": 22,
     "metadata": {},
     "output_type": "execute_result"
    }
   ],
   "source": [
    "len(d_dataset)"
   ]
  },
  {
   "cell_type": "code",
   "execution_count": 23,
   "metadata": {},
   "outputs": [],
   "source": [
    "#question_template2=\"### 指示：以下の質問に答えなさい。\"\n",
    "#question_template2=\"以下は、タスクを説明する指示と、文脈のある入力の組み合わせです。要求を適切に満たす応答を書きなさい｡\"\n",
    "#question_template2=\"以下は、タスクを説明する指示と、文脈のある入力の組み合わせです。要求を適切に満たす応答を書きなさい。\\n\\n### 質問:\\n\"\n",
    "dolly_list=[]\n",
    "for n_instructions in [14000]:\n",
    "    output_path=f\"data/dolly{n_instructions}.jsonl\"\n",
    "    with open(output_path,\"w\") as f:\n",
    "        f.write(\"\")\n",
    "    loader=iter(d_dataset)\n",
    "    for i in range(n_instructions+1000):\n",
    "        original_record=next(loader)\n",
    "        if \"input\" in original_record:\n",
    "            inp=original_record[\"input\"]\n",
    "        else:\n",
    "            inp=\"\"\n",
    "        q=original_record[\"instruction\"]\n",
    "        a=original_record[\"output\"]\n",
    "        if inp==\"\":\n",
    "            text=f\"{question_template}{q}{answer_template}{a}\"\n",
    "        else:\n",
    "            text=f\"{question_template}{q}\\n\\n### 入力:\\n{inp}\\n{answer_template}{a}\"\n",
    "        eval_prefix=\"\"\n",
    "\n",
    "        line=json.dumps({\"text\":text},ensure_ascii=False)\n",
    "        if i>=n_instructions:\n",
    "            eval_prefix=\".eval\"\n",
    "        else:\n",
    "            dolly_list.append(line)\n",
    "        with open(output_path+eval_prefix,\"a\") as f:\n",
    "            f.write(line+\"\\n\")\n",
    "\n",
    "dolly_list=list(set(dolly_list))"
   ]
  },
  {
   "cell_type": "markdown",
   "metadata": {},
   "source": [
    "# oasst"
   ]
  },
  {
   "cell_type": "code",
   "execution_count": 24,
   "metadata": {},
   "outputs": [
    {
     "data": {
      "application/vnd.jupyter.widget-view+json": {
       "model_id": "07c80c93af944897bc53f529f104be53",
       "version_major": 2,
       "version_minor": 0
      },
      "text/plain": [
       "Downloading readme:   0%|          | 0.00/743 [00:00<?, ?B/s]"
      ]
     },
     "metadata": {},
     "output_type": "display_data"
    },
    {
     "data": {
      "application/vnd.jupyter.widget-view+json": {
       "model_id": "818d92d601e047eba26d33269a4c6078",
       "version_major": 2,
       "version_minor": 0
      },
      "text/plain": [
       "Downloading data files:   0%|          | 0/1 [00:00<?, ?it/s]"
      ]
     },
     "metadata": {},
     "output_type": "display_data"
    },
    {
     "data": {
      "application/vnd.jupyter.widget-view+json": {
       "model_id": "fb527bbd81ea41b99e02a194682daf9f",
       "version_major": 2,
       "version_minor": 0
      },
      "text/plain": [
       "Downloading data:   0%|          | 0.00/79.6M [00:00<?, ?B/s]"
      ]
     },
     "metadata": {},
     "output_type": "display_data"
    },
    {
     "data": {
      "application/vnd.jupyter.widget-view+json": {
       "model_id": "22964904582e4a60a09ff2dcd3f982d1",
       "version_major": 2,
       "version_minor": 0
      },
      "text/plain": [
       "Extracting data files:   0%|          | 0/1 [00:00<?, ?it/s]"
      ]
     },
     "metadata": {},
     "output_type": "display_data"
    },
    {
     "data": {
      "application/vnd.jupyter.widget-view+json": {
       "model_id": "9331e6078dfe45078ffb68d9a1467493",
       "version_major": 2,
       "version_minor": 0
      },
      "text/plain": [
       "Generating train split: 0 examples [00:00, ? examples/s]"
      ]
     },
     "metadata": {},
     "output_type": "display_data"
    },
    {
     "data": {
      "text/plain": [
       "44042"
      ]
     },
     "execution_count": 24,
     "metadata": {},
     "output_type": "execute_result"
    }
   ],
   "source": [
    "oasst = load_dataset(\"kunishou/oasst1-chat-44k-ja\")[\"train\"]\n",
    "len(oasst)"
   ]
  },
  {
   "cell_type": "code",
   "execution_count": 25,
   "metadata": {},
   "outputs": [],
   "source": [
    "oasst_list=[]\n",
    "\n",
    "for n_instructions in [43000]:\n",
    "    output_path=f\"data/oasst{n_instructions}.jsonl\"\n",
    "    with open(output_path,\"w\") as f:\n",
    "        f.write(\"\")\n",
    "    loader=iter(oasst)\n",
    "    for i in range(n_instructions+1000):\n",
    "        original_record=next(loader)[\"conversations\"]\n",
    "        q2=\"\"\n",
    "        a2=\"\"\n",
    "        q=original_record[0][\"value\"]\n",
    "        a=original_record[1][\"value\"]\n",
    "\n",
    "        if len(original_record)==4:\n",
    "            q2=original_record[2][\"value\"]\n",
    "            a2=original_record[3][\"value\"]\n",
    "\n",
    "            text=f\"{question_template}{q}{answer_template}{a} ### 指示:\\n{q2}\\n\\n### 応答:\\n{a2}\"\n",
    "        else:\n",
    "            text=f\"{question_template}{q}{answer_template}{a}\"\n",
    "\n",
    "        eval_prefix=\"\"\n",
    "\n",
    "        line=json.dumps({\"text\":text},ensure_ascii=False)\n",
    "        if i>=n_instructions:\n",
    "            eval_prefix=\".eval\"\n",
    "        else:\n",
    "            oasst_list.append(line)\n",
    " \n",
    "        with open(output_path+eval_prefix,\"a\") as f:\n",
    "            f.write(line+\"\\n\")\n",
    "\n",
    "\n",
    "oasst_list=list(set(oasst_list))"
   ]
  },
  {
   "cell_type": "code",
   "execution_count": 27,
   "metadata": {},
   "outputs": [
    {
     "data": {
      "text/plain": [
       "(39416, 13990, 1500)"
      ]
     },
     "execution_count": 27,
     "metadata": {},
     "output_type": "execute_result"
    }
   ],
   "source": [
    "len(oasst_list),len(dolly_list),len(ichikara_list)"
   ]
  },
  {
   "cell_type": "code",
   "execution_count": 28,
   "metadata": {},
   "outputs": [],
   "source": [
    "#両方\n",
    "n_ichi=1500\n",
    "n_dolly=13500\n",
    "n_oasst=39000\n",
    "output_path=f\"data/dolly_{n_dolly}_oasst_{n_oasst}_ichi{n_ichi}.jsonl\"\n",
    "with open(output_path,\"w\") as f:\n",
    "    f.write(\"\")\n",
    "\n",
    "for i in range(n_dolly):\n",
    "    with open(output_path,\"a\") as f:\n",
    "        line=json.dumps({\"text\":dolly_list[i]},ensure_ascii=False)\n",
    "        f.write(line+\"\\n\")\n",
    "for i in range(n_oasst):\n",
    "    with open(output_path,\"a\") as f:\n",
    "        line=json.dumps({\"text\":oasst_list[i]},ensure_ascii=False)\n",
    "        f.write(line+\"\\n\")\n",
    "for i in range(n_ichi):\n",
    "    with open(output_path,\"a\") as f:\n",
    "        line=json.dumps({\"text\":ichikara_list[i]},ensure_ascii=False)\n",
    "        f.write(line+\"\\n\")\n",
    "\n",
    "\n"
   ]
  },
  {
   "cell_type": "code",
   "execution_count": 29,
   "metadata": {},
   "outputs": [],
   "source": [
    "import glob\n",
    "eval_path_list=glob.glob(\"data/*.eval\")\n",
    "eval_data=[]\n",
    "for eval_path in eval_path_list:\n",
    "    with open(eval_path) as f:\n",
    "        line=f.readline()\n",
    "        eval_data.append(line.strip())\n",
    "with open(output_path+\".eval\",\"w\") as f:\n",
    "    for line in eval_data:\n",
    "        f.write(line+\"\\n\")"
   ]
  },
  {
   "cell_type": "markdown",
   "metadata": {},
   "source": [
    "# Jaster\n",
    "- コンペでは使ってはいけないので注意"
   ]
  },
  {
   "cell_type": "code",
   "execution_count": 13,
   "metadata": {},
   "outputs": [],
   "source": [
    "import glob\n",
    "json_path_list=glob.glob(\"../4_eval/llm-leaderboard/artifacts/jaster:v3/jaster/1.1.0/evaluation/train/*.json\")\n",
    "\n",
    "#test,dev\n",
    "#json_path_list+=glob.glob(\"../4_eval/llm-leaderboard/artifacts/jaster:v3/jaster/1.1.0/evaluation/dev/*.json\")\n",
    "#json_path_list+=glob.glob(\"../4_eval/llm-leaderboard/artifacts/jaster:v3/jaster/1.1.0/evaluation/test/*.json\")"
   ]
  },
  {
   "cell_type": "code",
   "execution_count": 14,
   "metadata": {},
   "outputs": [
    {
     "data": {
      "text/plain": [
       "51"
      ]
     },
     "execution_count": 14,
     "metadata": {},
     "output_type": "execute_result"
    }
   ],
   "source": [
    "len(json_path_list)"
   ]
  },
  {
   "cell_type": "code",
   "execution_count": 15,
   "metadata": {},
   "outputs": [
    {
     "data": {
      "text/plain": [
       "178956"
      ]
     },
     "execution_count": 15,
     "metadata": {},
     "output_type": "execute_result"
    }
   ],
   "source": [
    "import random\n",
    "jaster_data_list=[]\n",
    "\n",
    "for path in json_path_list:\n",
    "    with open(path,\"r\") as f:\n",
    "        records=json.load(f)\n",
    "    instruction=records[\"instruction\"]  \n",
    "    for record in records[\"samples\"]:\n",
    "        d={\n",
    "            \"text\":instruction+\"\\n\"+record[\"input\"],\n",
    "            \"output\":record[\"output\"]\n",
    "        }\n",
    "        jaster_data_list.append(d)\n",
    "random.shuffle(jaster_data_list)\n",
    "len(jaster_data_list)"
   ]
  },
  {
   "cell_type": "code",
   "execution_count": 17,
   "metadata": {},
   "outputs": [],
   "source": [
    "import pandas as pd\n",
    "#df=pd.DataFrame(jaster_data_list)\n",
    "#df.to_csv(\"data/jaster.csv\")"
   ]
  },
  {
   "cell_type": "code",
   "execution_count": 40,
   "metadata": {},
   "outputs": [],
   "source": [
    "for n_instructions in [100,1000,2500,5000,10000,50000,140000]:\n",
    "    output_path=f\"data/jaster_{n_instructions}.jsonl\"\n",
    "    with open(output_path,\"w\") as f:\n",
    "        f.write(\"\")\n",
    "    loader=iter(jaster_data_list)\n",
    "    jaster_list=[]\n",
    "    for i in range(n_instructions+300):\n",
    "        original_record=next(loader)\n",
    "        q=original_record[\"text\"]\n",
    "        a=original_record[\"output\"]\n",
    "        text=f\"{question_template}{q}{answer_template}{a}\"\n",
    "\n",
    "        line=json.dumps({\"text\":text},ensure_ascii=False)\n",
    "\n",
    "        eval_prefix=\"\"\n",
    "        if i>=n_instructions:\n",
    "            eval_prefix=\".eval\"\n",
    "        else:\n",
    "            jaster_list.append(line)\n",
    " \n",
    "        with open(output_path+eval_prefix,\"a\") as f:\n",
    "            f.write(line+\"\\n\")"
   ]
  },
  {
   "cell_type": "code",
   "execution_count": null,
   "metadata": {},
   "outputs": [],
   "source": []
  }
 ],
 "metadata": {
  "kernelspec": {
   "display_name": "ft",
   "language": "python",
   "name": "python3"
  },
  "language_info": {
   "codemirror_mode": {
    "name": "ipython",
    "version": 3
   },
   "file_extension": ".py",
   "mimetype": "text/x-python",
   "name": "python",
   "nbconvert_exporter": "python",
   "pygments_lexer": "ipython3",
   "version": "3.12.2"
  }
 },
 "nbformat": 4,
 "nbformat_minor": 2
}
