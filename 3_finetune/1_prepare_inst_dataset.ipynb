{
 "cells": [
  {
   "cell_type": "code",
   "execution_count": 44,
   "metadata": {},
   "outputs": [],
   "source": [
    "# instruciton datasetを今回のSFT形式に変換する"
   ]
  },
  {
   "cell_type": "code",
   "execution_count": 1,
   "metadata": {},
   "outputs": [
    {
     "data": {
      "text/plain": [
       "0"
      ]
     },
     "execution_count": 1,
     "metadata": {},
     "output_type": "execute_result"
    }
   ],
   "source": [
    "import os\n",
    "\n",
    "#dataフォルダ内をリセット\n",
    "os.system(\"rm -rf data/*\")"
   ]
  },
  {
   "cell_type": "code",
   "execution_count": 2,
   "metadata": {},
   "outputs": [],
   "source": [
    "from datasets import load_dataset\n",
    "import json"
   ]
  },
  {
   "cell_type": "code",
   "execution_count": 3,
   "metadata": {},
   "outputs": [],
   "source": [
    "\"\"\"\n",
    "本番はこっち｡\n",
    "以下は、タスクを説明する指示と、文脈のある入力の組み合わせです。要求を適切に満たす応答を書きなさい\n",
    "\"\"\"\n",
    "\n",
    "#question_template=\"### 指示：以下の質問に答えなさい。 ### 質問：\"\n",
    "question_template=\"以下は、タスクを説明する指示と、文脈のある入力の組み合わせです。要求を適切に満たす応答を書きなさい。\\n\\n### 指示:\\n\"\n",
    "answer_template=\"\\n### 応答:\\n\""
   ]
  },
  {
   "cell_type": "markdown",
   "metadata": {},
   "source": [
    "# dolly"
   ]
  },
  {
   "cell_type": "code",
   "execution_count": 4,
   "metadata": {},
   "outputs": [],
   "source": [
    "d_dataset=load_dataset(\"kunishou/databricks-dolly-15k-ja\")[\"train\"]"
   ]
  },
  {
   "cell_type": "code",
   "execution_count": 5,
   "metadata": {},
   "outputs": [
    {
     "data": {
      "text/plain": [
       "15015"
      ]
     },
     "execution_count": 5,
     "metadata": {},
     "output_type": "execute_result"
    }
   ],
   "source": [
    "len(d_dataset)"
   ]
  },
  {
   "cell_type": "code",
   "execution_count": 12,
   "metadata": {},
   "outputs": [
    {
     "name": "stdout",
     "output_type": "stream",
     "text": [
      "魚の種類はどっち？イコクエイラクブカとロープ\n",
      "イコクエイラクブカ\n",
      "アリスの両親には3人の娘がいる：エイミー、ジェシー、そして三女の名前は？\n",
      "三女の名前はアリス\n",
      "「真珠の耳飾りの少女」を描いたオランダの画家は？\n",
      "フェルメール\n",
      "『左きゝの拳銃』でビリー・ザ・キッドを演じたのは？\n",
      "ポール・ニューマン\n",
      "海の怪物からアンドロメダを救ったのは誰か\n",
      "ペルセウス\n",
      "『氷と炎の歌』シリーズで、カースターク家の創始者は誰でしょう？\n",
      "カルロン・スターク\n",
      "1943年のアカデミー賞で最優秀作品賞を受賞した作品は？\n",
      "カサブランカ\n",
      "ゴルフでは、アメリカ人はアホウドリを何と呼ぶか\n",
      "ダブルイーグル\n",
      "魚の一種はどちらでしょう？シードラゴン、レッドベアード\n",
      "シードラゴン\n",
      "ルイス・ハミルトンは何回F1チャンピオンになったか？\n",
      "7回\n",
      "魚の一種はどれ？モーラモーラまたはモーラ\n",
      "モーラモーラ\n",
      "猫には9つの命がある？\n",
      "いいえ\n",
      "ケララ州で炭疽菌の症例が見つかったのはどの動物か？\n",
      "野生のイノシシ\n",
      "提供された文章から、テイラー・スウィフトがリリースした2枚目のスタジオアルバムを抽出せよ。\n",
      "フィアレス\n",
      "1991年シーズン終了時にリーグから降格したチームはどこでしょう？\n",
      "ジスボーン市\n",
      "鳥と魚はどっちだ：黒珍、黒尉鶲\n",
      "黒珍は魚、黒鶲は鳥\n",
      "コッカースパニエルとプードルのミックス犬種は？\n",
      "コッカプー\n",
      "靴ひもの先端にある小さな部品は何と呼ばれているのでしょうか？\n",
      "アグレットです。\n",
      "ブラジル、ウルグアイ、モザンビーク、アンゴラの4カ国を結ぶもの\n",
      "ポルトガルの植民地\n",
      "人類初のテクノロジーとされるのはどれ？\n",
      "火\n",
      "Sで始まる単語は次のうちどれでしょう：Snake, Towel, Table, Shower, Yam, Butterfly, Apple\n",
      "スネーク、シャワー\n",
      "ウォルター・ケーニグが『スタートレック』シリーズで演じた役柄は？\n",
      "チェコフ少尉\n",
      "ワシントン州最大の都市は？\n",
      "シアトル\n",
      "ビンゴゲームで、「2羽の小鴨」というフレーズで表される数字はどれでしょう？\n",
      "22\n",
      "フレディ・マーキュリーの本名は？\n",
      "ファロク・ブルサラ\n",
      "シェイクスピアの戯曲の中で一番長いのはどれ？\n",
      "ハムレットです。\n",
      "魚の種類はどちらでしょう？ナースまたはナースシャーク\n",
      "ナースシャーク\n",
      "イタリアンファーストが発売されたテキスト年号より抜粋\n",
      "2013\n",
      "マイケル・ジョーダンがプレーしたチームとは？\n",
      "シカゴ・ブルズ\n",
      "総座席数は何席ですか？\n",
      "150席\n",
      "「ファイナルファンタジー」シリーズについて、この段落をもとに、誰が作ったのか？\n",
      "坂口博信\n",
      "この文章から、米国と英国で最も一般的な解雇の口語的用語を特定する。結果をカンマ区切りで表示しなさい。\n",
      "首が飛ぶ\n",
      "この「Large language models」の項を踏まえて、OpenAIのGPTシリーズの最初のモデルは、いつトレーニングされたのでしょうか。\n",
      "2018.\n",
      "キルヒェンラミッツという町は、ドイツのどのあたりにあるのでしょうか？\n",
      "バイエルン\n",
      "国際ブッカー賞受賞第1作となったヒンディー語小説の名前を挙げてください。\n",
      "砂の墓\n",
      "ニックが出演している番組「New Girl」の仕事場は？\n",
      "アットザバー\n",
      "夏のオリンピックで、水泳のメダル獲得数でトップになった国はどこでしょう？\n",
      "ユーエスエー\n",
      "ジョン・イヴリンは、イングランド内戦で誰を支持したのか？\n",
      "国会側\n",
      "エミネムの『8 Mile』は、どの都市の道路にちなんで名付けられたのか？\n",
      "デトロイト\n",
      "共産党の創設者は誰ですか？\n",
      "れえにん\n",
      "リストから鳥を特定する：クィーンズベリー、カワセミ、ビショップスゲート\n",
      "カワセミ\n",
      "The Australian Chess Championshipは何回開催されるのですか？\n",
      "2年ごと\n",
      "南極大陸で見られる植生を共通に区切ってリストアップする。\n",
      "地衣類、苔。\n",
      "魚の一種はどっち？ガマズミまたはガマ\n",
      "トードフィッシュ\n",
      "このビデオゲームに関する参考文章から、ドンキーコングはいつ発売されたのか？\n",
      "1981\n",
      "ホットヨガのスタイルを挙げる。\n",
      "ビクラムです。\n",
      "バート・シンプソンの親友はどんな名前？\n",
      "ミルハウス\n",
      "チェスのルールや技であまり知られていないものは？\n",
      "アン・パサント\n",
      "スタン・ローレル、ミッキー・ルーニー、ラナ・ターナー 共通点\n",
      "8回目の結婚\n",
      "ギリシャの愛の女神は誰だったのか\n",
      "アフロディテ\n",
      "ハウスアリリオンの言葉とは？\n",
      "「敵わぬ先の杖\n",
      "エリザベス二世の時代に活躍した首相は計15人、最後の首相の名前を挙げてください。\n",
      "リズ・トラス\n",
      "リストから鳥を特定する：ブラックマンバ、ブラックライチョウ、ブラックマジック\n",
      "黒雷鳥\n",
      "魚の種類はどれ？ムツゴロウとアフロ\n",
      "マレット\n",
      "テイラー・スウィフトは何枚のアルバムをリリースしていますか？\n",
      "アルバム10枚。\n",
      "ネバダ州ワブスカについてのこのパラグラフを考えると、この町に初めて郵便局が開設されたのはいつですか？\n",
      "明治7年9月18日\n",
      "ミネソタ州北部のイタスカ湖に端を発する大河はどれか\n",
      "ミシシッピ川\n",
      "最も人口が少ない国はどこでしょう？\n",
      "モンゴル\n",
      "文章から、化学試験管の底の形状を特定する。結果をカンマ区切りで表示する。\n",
      "平底、丸底、円錐底\n",
      "ジャン・マリー・ラルフ・フェティエールは、どこの国の政治家ですか？\n",
      "ハイチ\n",
      "チェンバロには何オクターブあるのですか？\n",
      "5オクターブ\n",
      "魚の種類はどれ？ロフーまたはネイキッドモール\n",
      "ロハ\n",
      "魚の種類はどっち？タープまたはコイ\n",
      "カープ\n",
      "ハウス・ボルトンの言葉とは？\n",
      "\"刃は鋭く\"\n",
      "第27回映画俳優組合（SAG）賞の最優秀作品賞は、どの作品に贈られた？\n",
      "シカゴ7\n",
      "ワディ・アル・バナトの名前の意味は？\n",
      "女谷\n",
      "トイプードルとオールドイングリッシュシープドッグの交配は、どのような犬種になるのでしょうか？\n",
      "シープアドゥードル\n",
      "どの国がアルファベット順で最後なのか\n",
      "ジンバブエ\n",
      "平均的な人は、年間何キロ走っているのでしょうか？\n",
      "13,500\n",
      "魚類はどっち？秋刀魚とフクロウ\n",
      "秋刀魚\n",
      "世界最大の陸上動物は何でしょう？\n",
      "アフリカゾウ\n",
      "ターガリエン家の家訓とは？\n",
      "\"炎と血\"\n",
      "最も古い飛行技術は何ですか？\n",
      "熱気球\n",
      "魚類はどっち？バサまたはパンゲア\n",
      "バサ\n",
      "バラシオン家の家訓とは？\n",
      "氏神は復讐の女神\n",
      "魚類はどちらでしょう？鯛か貝か\n",
      "鯛\n",
      "カボンバは装飾として使われることもありますが、実用性もあるのはどこでしょうか？\n",
      "生け簀\n",
      "Large言語モデルに関するこれらの段落を踏まえると、2018年に訓練されたOpenAIのGPTシリーズの最初のモデルの訓練に使われたとき、BookCorpusは何語だったのでしょうか。\n",
      "9億8500万語。\n",
      "最適なデータウェアハウスとは\n",
      "レイクハウス\n",
      "魚の種類はどちらでしょう？ボガまたはボガタ\n",
      "ボガ\n",
      "アンダーソン・ピーターズ（金賞受賞者）は、90メートルの大台に乗せる投擲を行い\n",
      "90.31m\n",
      "児童文学「ツバメとアマゾネス」を書いた人\n",
      "アーサー・ランサム\n",
      "アマゾンの創業者は？\n",
      "ジェフ・ベゾス\n",
      "第二次世界大戦中、独立宣言、憲法、権利章典はどこに保管されていたのでしょうか。\n",
      "フォートノックス\n",
      "皇帝シャプール2世がポロを覚えたのは何年のことでしょう？\n",
      "西暦316年\n",
      "ヒット曲「One More Time」を作ったのはどのアーティスト？\n",
      "ダフト・パンク\n",
      "テスラのボットについてのこれらのパラグラフを考えると、そのエイリアスは何でしょうか？\n",
      "オプティマス\n",
      "ジェローム・ベティスが所属していたアメフトチームは？\n",
      "ザ・スティーラーズ\n",
      "この段落から考えると、\"Greenmantle \"は誰が書いたのでしょうか？\n",
      "ジョン・ブーチャン\n",
      "魚の種類はどっち？シスコまたはパロ・アルト\n",
      "シスコ\n",
      "分析幾何学を生み出したフランスの哲学者は？\n",
      "ルネ・デカルト\n",
      "ビール「Yuengling」の創業地は？\n",
      "ペンシルバニア\n",
      "イギリスは何と呼ばれていたのか-イギリスである前に\n",
      "アルビオン\n"
     ]
    }
   ],
   "source": [
    "#question_template2=\"### 指示：以下の質問に答えなさい。\"\n",
    "#question_template2=\"以下は、タスクを説明する指示と、文脈のある入力の組み合わせです。要求を適切に満たす応答を書きなさい｡\"\n",
    "#question_template2=\"以下は、タスクを説明する指示と、文脈のある入力の組み合わせです。要求を適切に満たす応答を書きなさい。\\n\\n### 質問:\\n\"\n",
    "dolly_list=[]\n",
    "for n_instructions in [1000]:\n",
    "    output_path=f\"data/dolly{n_instructions}.jsonl\"\n",
    "    with open(output_path,\"w\") as f:\n",
    "        f.write(\"\")\n",
    "    loader=iter(d_dataset)\n",
    "    for i in range(n_instructions+1000):\n",
    "        original_record=next(loader)\n",
    "        if \"input\" in original_record:\n",
    "            inp=original_record[\"input\"]\n",
    "        else:\n",
    "            inp=\"\"\n",
    "        q=original_record[\"instruction\"]\n",
    "        a=original_record[\"output\"]\n",
    "        if len(a)<10:\n",
    "            print(q)\n",
    "            print(a)\n",
    "        if inp==\"\":\n",
    "            text=f\"{question_template}{q}{answer_template}{a}\"\n",
    "        else:\n",
    "            text=f\"{question_template}{q}\\n\\n### 入力:\\n{inp}\\n{answer_template}{a}\"\n",
    "        eval_prefix=\"\"\n",
    "\n",
    "        line=json.dumps({\"text\":text},ensure_ascii=False)\n",
    "        if i>=n_instructions:\n",
    "            eval_prefix=\".eval\"\n",
    "        else:\n",
    "            dolly_list.append(line)\n",
    "        with open(output_path+eval_prefix,\"a\") as f:\n",
    "            f.write(line+\"\\n\")\n",
    "\n",
    "dolly_list=list(set(dolly_list))"
   ]
  },
  {
   "cell_type": "code",
   "execution_count": 8,
   "metadata": {},
   "outputs": [
    {
     "data": {
      "text/plain": [
       "'キャッチング・ファイア』『モッキングジェイ』『越境者グレゴール』『イヤー・オブ・ジャングル』『ソングバード・アンド・スネークスのバラード'"
      ]
     },
     "execution_count": 8,
     "metadata": {},
     "output_type": "execute_result"
    }
   ],
   "source": [
    "a"
   ]
  },
  {
   "cell_type": "markdown",
   "metadata": {},
   "source": [
    "# Jaster\n",
    "- コンペでは使ってはいけないので注意"
   ]
  },
  {
   "cell_type": "code",
   "execution_count": 13,
   "metadata": {},
   "outputs": [
    {
     "data": {
      "text/plain": [
       "8045"
      ]
     },
     "execution_count": 13,
     "metadata": {},
     "output_type": "execute_result"
    }
   ],
   "source": [
    "import random\n",
    "jaster_data_list=[]\n",
    "path=\"../4_eval/llm-leaderboard/artifacts/jaster:v3/jaster/1.1.0/evaluation/train/jcommonsenseqa.json\"\n",
    "with open(path,\"r\") as f:\n",
    "    records=json.load(f)\n",
    "instruction=records[\"instruction\"]  \n",
    "for record in records[\"samples\"]:\n",
    "    d={\n",
    "        \"text\":instruction+\"\\n\"+record[\"input\"],\n",
    "        \"output\":record[\"output\"]\n",
    "    }\n",
    "    jaster_data_list.append(d)\n",
    "\n",
    "random.seed(0)\n",
    "random.shuffle(jaster_data_list)\n",
    "len(jaster_data_list)"
   ]
  },
  {
   "cell_type": "code",
   "execution_count": 17,
   "metadata": {},
   "outputs": [],
   "source": [
    "import pandas as pd\n",
    "#df=pd.DataFrame(jaster_data_list)\n",
    "#df.to_csv(\"data/jaster.csv\")"
   ]
  },
  {
   "cell_type": "code",
   "execution_count": 40,
   "metadata": {},
   "outputs": [],
   "source": [
    "for n_instructions in [100,1000,2500,5000,10000,50000,140000]:\n",
    "    output_path=f\"data/jaster_{n_instructions}.jsonl\"\n",
    "    with open(output_path,\"w\") as f:\n",
    "        f.write(\"\")\n",
    "    loader=iter(jaster_data_list)\n",
    "    jaster_list=[]\n",
    "    for i in range(n_instructions+300):\n",
    "        original_record=next(loader)\n",
    "        q=original_record[\"text\"]\n",
    "        a=original_record[\"output\"]\n",
    "        text=f\"{question_template}{q}{answer_template}{a}\"\n",
    "\n",
    "        line=json.dumps({\"text\":text},ensure_ascii=False)\n",
    "\n",
    "        eval_prefix=\"\"\n",
    "        if i>=n_instructions:\n",
    "            eval_prefix=\".eval\"\n",
    "        else:\n",
    "            jaster_list.append(line)\n",
    " \n",
    "        with open(output_path+eval_prefix,\"a\") as f:\n",
    "            f.write(line+\"\\n\")"
   ]
  },
  {
   "cell_type": "code",
   "execution_count": null,
   "metadata": {},
   "outputs": [],
   "source": []
  }
 ],
 "metadata": {
  "kernelspec": {
   "display_name": "ft",
   "language": "python",
   "name": "python3"
  },
  "language_info": {
   "codemirror_mode": {
    "name": "ipython",
    "version": 3
   },
   "file_extension": ".py",
   "mimetype": "text/x-python",
   "name": "python",
   "nbconvert_exporter": "python",
   "pygments_lexer": "ipython3",
   "version": "3.11.5"
  }
 },
 "nbformat": 4,
 "nbformat_minor": 2
}
