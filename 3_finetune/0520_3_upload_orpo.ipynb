{
 "cells": [
  {
   "cell_type": "code",
   "execution_count": null,
   "metadata": {},
   "outputs": [],
   "source": [
    "import glob\n",
    "import datasets\n",
    "import json\n",
    "import pandas as pd"
   ]
  },
  {
   "cell_type": "code",
   "execution_count": null,
   "metadata": {},
   "outputs": [],
   "source": [
    "jsonl_files = glob.glob('data/0520orpo_model/*.jsonl')\n",
    "len(jsonl_files)"
   ]
  },
  {
   "cell_type": "code",
   "execution_count": null,
   "metadata": {},
   "outputs": [],
   "source": [
    "import random\n",
    "from tqdm import tqdm\n",
    "records=[]\n",
    "done_tasks=[]\n",
    "for file in jsonl_files:\n",
    "    with open(file) as f:\n",
    "        for line in tqdm(f):\n",
    "            d=json.loads(line)\n",
    "            if d[\"model_answer\"]==d[\"ref_answer\"]:\n",
    "                d[\"model_answer\"]=random.choice((\"\",\"分かりません\",\"はい\",\"いいえ\"))\n",
    "            \n",
    "            task=d[\"question\"]\n",
    "            if task in done_tasks:\n",
    "                continue\n",
    "            d[\"data_source\"]=d[\"dataset\"]\n",
    "            d.pop(\"dataset\")\n",
    "            records.append(d)\n",
    "            done_tasks.append(task)"
   ]
  },
  {
   "cell_type": "code",
   "execution_count": null,
   "metadata": {},
   "outputs": [],
   "source": [
    "records[0]"
   ]
  },
  {
   "cell_type": "code",
   "execution_count": null,
   "metadata": {},
   "outputs": [],
   "source": [
    "parquet_path=\"data/0520orpo_model/1.parquet\"\n",
    "df=pd.DataFrame(records)\n",
    "df.to_parquet(parquet_path,index=False)"
   ]
  },
  {
   "cell_type": "code",
   "execution_count": null,
   "metadata": {},
   "outputs": [],
   "source": [
    "from huggingface_hub import HfApi, logging\n",
    "hf = HfApi()\n",
    "hf.upload_file(path_or_fileobj=parquet_path,\n",
    "                path_in_repo=f\"1.parquet\",\n",
    "                repo_id='hatakeyama-llm-team/AutoPreferenceDataset',\n",
    "                  repo_type=\"dataset\")\n",
    "\n",
    "\n"
   ]
  },
  {
   "cell_type": "code",
   "execution_count": null,
   "metadata": {},
   "outputs": [],
   "source": [
    "#ds=datasets.Dataset.from_pandas(df)\n",
    "#ds.push_to_hub('hatakeyama-llm-team/AutoPreferenceDataset')"
   ]
  },
  {
   "cell_type": "code",
   "execution_count": null,
   "metadata": {},
   "outputs": [],
   "source": []
  }
 ],
 "metadata": {
  "kernelspec": {
   "display_name": "llmeval",
   "language": "python",
   "name": "python3"
  },
  "language_info": {
   "codemirror_mode": {
    "name": "ipython",
    "version": 3
   },
   "file_extension": ".py",
   "mimetype": "text/x-python",
   "name": "python",
   "nbconvert_exporter": "python",
   "pygments_lexer": "ipython3",
   "version": "3.11.8"
  }
 },
 "nbformat": 4,
 "nbformat_minor": 2
}
