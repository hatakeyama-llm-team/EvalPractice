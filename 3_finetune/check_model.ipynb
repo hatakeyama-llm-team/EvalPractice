{
 "cells": [
  {
   "cell_type": "code",
   "execution_count": null,
   "metadata": {},
   "outputs": [],
   "source": [
    "from transformers import pipeline\n",
    "from peft import PeftModel\n",
    "from transformers import AutoModelForCausalLM, AutoTokenizer, BitsAndBytesConfig\n",
    "import torch\n",
    "import os\n",
    "\n",
    "#print(torch.cuda.device_count())\n",
    "#os.environ[\"CUDA_VISIBLE_DEVICES\"] = \"2,3\"\n",
    "\n",
    "#モデル読み込み\n",
    "model_name = \"meta-llama/Llama-2-7b-chat-hf\"\n",
    "\n",
    "model_name = \"tokyotech-llm/Swallow-MS-7b-v0.1\"\n",
    "model_name = \"cyberagent/open-calm-7b\"\n",
    "\n",
    "model_name=\"Local-Novel-LLM-project/Vecteus-v1\"\n",
    "#model_name=\"nvidia/Llama3-ChatQA-1.5-8B\"\n",
    "\n",
    "model_name=\"../model/------llm-models-hf-2ja1_part_inst_all_lr_1e-5\"\n",
    "model_name=\"../X_merge/merged_models/0507test\"\n",
    "model_name=\"../../llm/models/hf/step41300\",\n",
    "model_name=\"../model/------llm-models-hf-step41300_inst_all-parquet_lr_1e-4\"\n",
    "model_name=\"../model/------llm-models-hf-step41300_inst_all-parquet_lr_1e-5\"\n",
    "tokenizer = AutoTokenizer.from_pretrained(model_name, use_fast=False)\n"
   ]
  },
  {
   "cell_type": "code",
   "execution_count": null,
   "metadata": {},
   "outputs": [],
   "source": [
    "\n",
    "tokens=[5092, 272, 1045, 2850, 327, 8,11267, 269, 564, 298, 2]\n",
    "tokenizer.decode(tokens,)"
   ]
  },
  {
   "cell_type": "code",
   "execution_count": null,
   "metadata": {},
   "outputs": [],
   "source": [
    "t_list=[\n",
    "\"\\n\\n### 応答:\\n\",\n",
    "\"\\n\\n### 応答:\\n「\",\n",
    "\"\\n\\n### 応答:\\nああ\",\n",
    "\"\\n\\n### 応答:\\naaa\",\n",
    "\"1\\n\\n### 応答:\\naaa\",\n",
    "\"あ\\n\\n### 応答:\\naaa\",\n",
    "\"」\\n\\n### 応答:\\naaa\",\n",
    "]\n",
    "t_list=[\n",
    "    \"\",\n",
    "    \"a \\n a\",\n",
    "\"a\\n   \",\n",
    "\"\\n\\n### 指示:\\n\",\n",
    "\"\\n\\n### 指示:\\n「\",\n",
    "\"\\n\\n### 指示:\\nああ\",\n",
    "\"\\n\\n### 指示:\\naaa\",\n",
    "\"1\\n\\n### 指示:\\naaa\",\n",
    "\"あ\\n\\n### 指示:\\naaa\",\n",
    "\"」\\n\\n### 指示:\\naaa\",\n",
    "]\n",
    "for t in t_list:\n",
    "    print(tokenizer.encode(t,add_special_tokens=False),tokenizer.tokenize(t))\n"
   ]
  },
  {
   "cell_type": "code",
   "execution_count": null,
   "metadata": {},
   "outputs": [],
   "source": [
    "tokenizer.encode(t)"
   ]
  },
  {
   "cell_type": "code",
   "execution_count": null,
   "metadata": {},
   "outputs": [],
   "source": [
    "model = AutoModelForCausalLM.from_pretrained(model_name, \n",
    "                                            #quantization_config=bnb_config, \n",
    "                                            device_map=\"auto\",\n",
    "                                            )\n"
   ]
  },
  {
   "cell_type": "code",
   "execution_count": null,
   "metadata": {},
   "outputs": [],
   "source": [
    "#model.load_adapter(model_path)"
   ]
  },
  {
   "cell_type": "code",
   "execution_count": null,
   "metadata": {},
   "outputs": [],
   "source": [
    "#層の表示\n",
    "for name, param in model.named_parameters():\n",
    "    print(name)\n",
    "    if \"gate\" in name:\n",
    "        print(\"***\",name)"
   ]
  },
  {
   "cell_type": "code",
   "execution_count": null,
   "metadata": {},
   "outputs": [],
   "source": [
    "def perplexity(model, tokenizer, text) -> torch.Tensor:\n",
    "    tokenized_input = tokenizer.encode(\n",
    "        text, add_special_tokens=False, return_tensors=\"pt\"\n",
    "    ).to(model.device)\n",
    "    with torch.inference_mode():\n",
    "        output = model(tokenized_input, labels=tokenized_input)\n",
    "    ppl = torch.exp(output.loss)\n",
    "    return ppl.item()\n",
    "\n"
   ]
  },
  {
   "cell_type": "code",
   "execution_count": null,
   "metadata": {},
   "outputs": [],
   "source": [
    "pipe=pipeline('text-generation',model=model,tokenizer=tokenizer, \n",
    "              max_new_tokens=50, \n",
    "              repetition_penalty=1.2,\n",
    "              temperature=0.6,\n",
    "              #repetition_penalty=1.,\n",
    "              #temperature=0.1,\n",
    "              #top_p=1.0,\n",
    "              #top_k=0.\n",
    "              )\n"
   ]
  },
  {
   "cell_type": "code",
   "execution_count": null,
   "metadata": {},
   "outputs": [],
   "source": [
    "question_template=\"以下は、タスクを説明する指示と、文脈のある入力の組み合わせです。要求を適切に満たす応答を書きなさい。\\n\\n### 指示:\\n\"\n",
    "answer_template=\"\\n\\n### 応答:\\n\"\n",
    "answer_template=\"\\n\\n### 応答:\\n\"\n",
    "\n",
    "def gen_prompt(q):\n",
    "    return f\"{question_template}{q}{answer_template}\"\n",
    "    return question_template+q+answer_template\n",
    "\n",
    "gen_prompt(\"こんにちは\")"
   ]
  },
  {
   "cell_type": "code",
   "execution_count": null,
   "metadata": {},
   "outputs": [],
   "source": [
    "questions=[\n",
    "\"こんにちは\",\n",
    "\"元気ですか?\",\n",
    "\"いい天気ですね\",\n",
    "\"明日の天気は?\",\n",
    "\"計算してください 1+1はいくつですか｡\",\n",
    "\"フィボナッチ数列を生成するpythonのコードを作成してください\",\n",
    "\"ドラえもんの友達はだれですか?\",\n",
    "\"レイリー散乱とはなんですか\",\n",
    "\"hello!\",\n",
    "\"今の天気は晴れです｡この結果をjsonで出力してください｡ \",\n",
    "\"純粋理性批判はたぬきに理解できますか?\",\n",
    "]\n",
    "#questions=[\n",
    "#    \"アスキーアートを出力して\",\n",
    "#]\n",
    "\n",
    "for question in questions:\n",
    "    #question_template=\"以下は、タスクを説明する指示と、文脈のある入力の組み合わせです。要求を適切に満たす応答を書きなさい。<SEP>指示<SEP>\"\n",
    "    #inp=f\"{question_template}{question}<SEP>応答<SEP>\"\n",
    "    inp=gen_prompt(question)\n",
    "    #inp=f\"質問: {question}回答: \"\n",
    "    print(\"--------------------\")\n",
    "    print(question)\n",
    "    res=pipe(inp)[0][\"generated_text\"][len(inp):]\n",
    "    print(res)\n",
    "    print(tokenizer.encode(res)[:4])"
   ]
  },
  {
   "cell_type": "code",
   "execution_count": null,
   "metadata": {},
   "outputs": [],
   "source": [
    "#tokenizer.piece_size = 100000\n",
    "#tokenizer.add_special_tokens({'additional_special_tokens': ['\\\\n']})\n",
    "#tokenizer.add_prefix_space=False\n",
    "inp=\"フィボナッチ数列を生成するpythonのコード\"\n",
    "\n",
    "inp=gen_prompt(\"フィボナッチ数列を生成するpythonのコードを作成してください\")\n",
    "res=pipe(inp)[0][\"generated_text\"][len(inp):]\n",
    "#tokenizer.encode(\"### 応答:\\n はい、可能です\")\n",
    "print(inp)\n",
    "print(res),tokenizer.encode(res)[:4]"
   ]
  },
  {
   "cell_type": "markdown",
   "metadata": {},
   "source": [
    "# ベンチマーク問題での応答評価"
   ]
  },
  {
   "cell_type": "code",
   "execution_count": null,
   "metadata": {},
   "outputs": [],
   "source": [
    "pipe=pipeline('text-generation',model=model,tokenizer=tokenizer, \n",
    "              max_new_tokens=50, \n",
    "              repetition_penalty=1.,\n",
    "              temperature=0.1,\n",
    "              top_p=1.0,\n",
    "              top_k=0.\n",
    "              )"
   ]
  },
  {
   "cell_type": "code",
   "execution_count": null,
   "metadata": {},
   "outputs": [],
   "source": [
    "#ベンチマーク問題への応答性の軽い評価\n",
    "import pandas as pd\n",
    "jaster_path=\"bench_data/jaster.txt\"\n",
    "with open(jaster_path,\"r\") as f:\n",
    "    input_list=f.readlines()\n",
    "\n",
    "for question in input_list:\n",
    "    #question_template=\"以下は、タスクを説明する指示と、文脈のある入力の組み合わせです。要求を適切に満たす応答を書きなさい。<SEP>指示<SEP>\"\n",
    "    #inp=f\"{question_template}{question}<SEP>応答<SEP>\"\n",
    "    inp=gen_prompt(question)\n",
    "    #inp=f\"質問: {question}回答: \"\n",
    "    print(\"--------------------\")\n",
    "    print(question)\n",
    "    print(\"出力\")\n",
    "    print(pipe(inp)[0][\"generated_text\"][len(inp):])"
   ]
  },
  {
   "cell_type": "code",
   "execution_count": null,
   "metadata": {},
   "outputs": [],
   "source": [
    "jmt_path=\"bench_data/jmt.csv\"\n",
    "df=pd.read_csv(jmt_path)\n",
    "input_list=df[\"input\"].to_list()\n",
    "for question in input_list:\n",
    "    #question_template=\"以下は、タスクを説明する指示と、文脈のある入力の組み合わせです。要求を適切に満たす応答を書きなさい。<SEP>指示<SEP>\"\n",
    "    #inp=f\"{question_template}{question}<SEP>応答<SEP>\"\n",
    "    inp=gen_prompt(question)\n",
    "    #inp=f\"質問: {question}回答: \"\n",
    "    print(\"--------------------\")\n",
    "    print(question)\n",
    "    print(\"出力\")\n",
    "    print(pipe(inp)[0][\"generated_text\"][len(inp):])"
   ]
  },
  {
   "cell_type": "code",
   "execution_count": null,
   "metadata": {},
   "outputs": [],
   "source": []
  }
 ],
 "metadata": {
  "kernelspec": {
   "display_name": "ft",
   "language": "python",
   "name": "python3"
  },
  "language_info": {
   "codemirror_mode": {
    "name": "ipython",
    "version": 3
   },
   "file_extension": ".py",
   "mimetype": "text/x-python",
   "name": "python",
   "nbconvert_exporter": "python",
   "pygments_lexer": "ipython3",
   "version": "3.11.8"
  }
 },
 "nbformat": 4,
 "nbformat_minor": 2
}
