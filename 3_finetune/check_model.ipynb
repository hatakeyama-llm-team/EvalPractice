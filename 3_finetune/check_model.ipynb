{
 "cells": [
  {
   "cell_type": "code",
   "execution_count": 1,
   "metadata": {},
   "outputs": [
    {
     "name": "stderr",
     "output_type": "stream",
     "text": [
      "/home/hatakeyama/miniconda3/envs/llmeval/lib/python3.11/site-packages/tqdm/auto.py:21: TqdmWarning: IProgress not found. Please update jupyter and ipywidgets. See https://ipywidgets.readthedocs.io/en/stable/user_install.html\n",
      "  from .autonotebook import tqdm as notebook_tqdm\n"
     ]
    },
    {
     "name": "stdout",
     "output_type": "stream",
     "text": [
      "8\n"
     ]
    },
    {
     "name": "stderr",
     "output_type": "stream",
     "text": [
      "Loading checkpoint shards: 100%|██████████| 2/2 [00:13<00:00,  6.55s/it]\n"
     ]
    }
   ],
   "source": [
    "from transformers import pipeline\n",
    "from peft import PeftModel\n",
    "from transformers import AutoModelForCausalLM, AutoTokenizer, BitsAndBytesConfig\n",
    "import torch\n",
    "import os\n",
    "\n",
    "print(torch.cuda.device_count())\n",
    "#os.environ[\"CUDA_VISIBLE_DEVICES\"] = \"2,3\"\n",
    "\n",
    "#モデル読み込み\n",
    "model_name = \"meta-llama/Llama-2-7b-chat-hf\"\n",
    "\n",
    "model_name = \"tokyotech-llm/Swallow-MS-7b-v0.1\"\n",
    "model_name = \"cyberagent/open-calm-7b\"\n",
    "model_name=\"../model/------llm-models-hf-0503llama-_inst_gousei_lr_5e-6\"\n",
    "model_name=\"../model/------llm-models-hf-2jaA_inst_gousei_lr_1e-5/checkpoint-47\"\n",
    "model_name=\"../model/------llm-models-hf-2jaA_inst_gousei_lr_5e-6\"\n",
    "model_name=\"Local-Novel-LLM-project/Vecteus-v1\"\n",
    "#model_name=\"nvidia/Llama3-ChatQA-1.5-8B\"\n",
    "#model_name=\"../model/------llm-models-hf-1code_inst_gousei_lr_5e-6\"\n",
    "\n",
    "#model_name=\"../X_merge/mergoo_llama_test\"\n",
    "tokenizer = AutoTokenizer.from_pretrained(model_name)\n",
    "model = AutoModelForCausalLM.from_pretrained(model_name, \n",
    "                                            #quantization_config=bnb_config, \n",
    "                                            device_map=\"auto\",\n",
    "                                            )\n",
    "#層の表示\n",
    "#for name, param in model.named_parameters():\n",
    "#    print(name)"
   ]
  },
  {
   "cell_type": "code",
   "execution_count": 2,
   "metadata": {},
   "outputs": [],
   "source": [
    "def perplexity(model, tokenizer, text) -> torch.Tensor:\n",
    "    tokenized_input = tokenizer.encode(\n",
    "        text, add_special_tokens=False, return_tensors=\"pt\"\n",
    "    ).to(model.device)\n",
    "    with torch.inference_mode():\n",
    "        output = model(tokenized_input, labels=tokenized_input)\n",
    "    ppl = torch.exp(output.loss)\n",
    "    return ppl.item()\n",
    "\n"
   ]
  },
  {
   "cell_type": "code",
   "execution_count": 3,
   "metadata": {},
   "outputs": [],
   "source": [
    "pipe=pipeline('text-generation',model=model,tokenizer=tokenizer, \n",
    "              max_new_tokens=300, \n",
    "              repetition_penalty=1.2,\n",
    "              temperature=0.6,\n",
    "              )\n"
   ]
  },
  {
   "cell_type": "code",
   "execution_count": 5,
   "metadata": {},
   "outputs": [
    {
     "name": "stderr",
     "output_type": "stream",
     "text": [
      "Setting `pad_token_id` to `eos_token_id`:2 for open-end generation.\n"
     ]
    },
    {
     "name": "stdout",
     "output_type": "stream",
     "text": [
      "---\n",
      "正解発表！\n",
      "Aの文章が正解です！\n",
      "「ほっさ」とは、達成感や開放感を表す方言的な表現で、主に九州地方で用いられることが多いようですね。他の地域では通じない場合もあるので注意が必要ですが、心情描写に効果的な言葉です。\n"
     ]
    }
   ],
   "source": [
    "question=\"こんにちは\"\n",
    "question=\"元気ですか?\"\n",
    "#question=\"いい天気ですね\"\n",
    "#question=\"明日の天気は?\"\n",
    "#uestion=\"計算してください 1+1はいくつですか｡\"\n",
    "question=\"calculate the folowing quation: 1+1\"\n",
    "#question=\": 1+1はいくつですか\"\n",
    "#question=\"いい天気ですね\"\n",
    "#question=\"フィボナッチ数列を生成するpythonのコードを作成してください\"\n",
    "question=\"Please create a python code that generates the Fibonacci sequence.\"\n",
    "#question=\"1+1はいくつですか\"\n",
    "question=\"ドラえもんの友達はだれですか?\"\n",
    "#question=\"レイリー散乱とはなんですか\"\n",
    "question=\"hello!\"\n",
    "#question=\"今の天気は晴れです｡この結果をjsonで出力してください｡ \"\n",
    "\n",
    "question_template=\"以下は、タスクを説明する指示と、文脈のある入力の組み合わせです。要求を適切に満たす応答を書きなさい。<SEP>指示<SEP>\"\n",
    "inp=f\"{question_template}{question}<SEP>応答<SEP>\"\n",
    "\n",
    "inp=\"\"\"次の質疑の回答を1-5点で評価してください\n",
    "Q\n",
    "以下の中学受験国語/演習ので、「ほっさ」という表現を含む文章を日本語で作成してください。 質問：「ほっさ」という表現が使われる文章を日本語で作成してください。\n",
    "\n",
    "A\n",
    "「今朝、山登りに行ったのですが、そこは綺麗な景色が見事でした。少し困難な所もありましたが、一歩先を目指して、頑張りました。やっと山の頂上に着いた時、「ほっさ」と息を胸から放ちました。」\n",
    "評価:\n",
    "\"\"\"\n",
    "\n",
    "#inp=\"this is a pen\"\n",
    "#question_template=\"以下は、タスクを説明する指示と、文脈のある入力の組み合わせです。要求を適切に満たす応答を書きなさい。指示\"\n",
    "#inp=f\"{question_template}{question}応答\"\n",
    "#inp=f\"{question}\\n応答:\"\n",
    "print(pipe(inp)[0][\"generated_text\"][len(inp):])"
   ]
  },
  {
   "cell_type": "code",
   "execution_count": null,
   "metadata": {},
   "outputs": [],
   "source": []
  }
 ],
 "metadata": {
  "kernelspec": {
   "display_name": "ft",
   "language": "python",
   "name": "python3"
  },
  "language_info": {
   "codemirror_mode": {
    "name": "ipython",
    "version": 3
   },
   "file_extension": ".py",
   "mimetype": "text/x-python",
   "name": "python",
   "nbconvert_exporter": "python",
   "pygments_lexer": "ipython3",
   "version": "3.11.8"
  }
 },
 "nbformat": 4,
 "nbformat_minor": 2
}
