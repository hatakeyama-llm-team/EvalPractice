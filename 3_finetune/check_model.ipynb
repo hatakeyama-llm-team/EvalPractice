{
 "cells": [
  {
   "cell_type": "code",
   "execution_count": 1,
   "metadata": {},
   "outputs": [
    {
     "name": "stderr",
     "output_type": "stream",
     "text": [
      "/home/hatakeyama/miniconda3/envs/llmeval2/lib/python3.11/site-packages/tqdm/auto.py:21: TqdmWarning: IProgress not found. Please update jupyter and ipywidgets. See https://ipywidgets.readthedocs.io/en/stable/user_install.html\n",
      "  from .autonotebook import tqdm as notebook_tqdm\n",
      "You set `add_prefix_space`. The tokenizer needs to be converted from the slow tokenizers\n",
      "/home/hatakeyama/miniconda3/envs/llmeval2/lib/python3.11/site-packages/transformers/convert_slow_tokenizer.py:560: UserWarning: The sentencepiece tokenizer that you are converting to a fast tokenizer uses the byte fallback option which is not implemented in the fast tokenizers. In practice this means that the fast version of the tokenizer can produce unknown tokens whereas the sentencepiece version would have converted these unknown tokens into a sequence of byte tokens matching the original piece of text.\n",
      "  warnings.warn(\n"
     ]
    }
   ],
   "source": [
    "from transformers import pipeline\n",
    "from peft import PeftModel\n",
    "from transformers import AutoModelForCausalLM, AutoTokenizer, BitsAndBytesConfig\n",
    "import torch\n",
    "import os\n",
    "\n",
    "#print(torch.cuda.device_count())\n",
    "#os.environ[\"CUDA_VISIBLE_DEVICES\"] = \"2,3\"\n",
    "\n",
    "#モデル読み込み\n",
    "model_name = \"meta-llama/Llama-2-7b-chat-hf\"\n",
    "\n",
    "model_name = \"tokyotech-llm/Swallow-MS-7b-v0.1\"\n",
    "model_name = \"cyberagent/open-calm-7b\"\n",
    "\n",
    "model_name=\"Local-Novel-LLM-project/Vecteus-v1\"\n",
    "#model_name=\"nvidia/Llama3-ChatQA-1.5-8B\"\n",
    "\n",
    "model_name=\"../model/------llm-models-hf-2ja1_part_inst_all_lr_1e-5\"\n",
    "model_name=\"../model/------llm-models-hf-2ja1_part_inst_all_lr_1e-5\"\n",
    "model_name=\"../X_merge/merged_models/0507test\"\n",
    "#model_name=\"../X_merge/merged_models/mergoo_llama_test\"\n",
    "\n",
    "model_path=\"../model/---X_merge-merged_models-0507test_inst_all_lr_1e-5\"\n",
    "tokenizer = AutoTokenizer.from_pretrained(model_name)\n"
   ]
  },
  {
   "cell_type": "code",
   "execution_count": 6,
   "metadata": {},
   "outputs": [
    {
     "name": "stdout",
     "output_type": "stream",
     "text": [
      "[5092, 272, 3994, 327, 2] ['▁###', '▁', '指示', ':']\n",
      "[5092, 272, 3994, 327, 337, 2] ['▁###', '▁', '指示', ':', '▁「']\n",
      "[5092, 272, 3994, 327, 8722, 2] ['▁###', '▁', '指示', ':', '▁ああ']\n",
      "[5092, 272, 3994, 327, 272, 55841, 2] ['▁###', '▁', '指示', ':', '▁', 'aaa']\n",
      "[272, 279, 5092, 272, 3994, 327, 272, 55841, 2] ['▁', '1', '▁###', '▁', '指示', ':', '▁', 'aaa']\n",
      "[4543, 5092, 272, 3994, 327, 272, 55841, 2] ['▁あ', '▁###', '▁', '指示', ':', '▁', 'aaa']\n",
      "[272, 285, 5092, 272, 3994, 327, 272, 55841, 2] ['▁', '」', '▁###', '▁', '指示', ':', '▁', 'aaa']\n"
     ]
    }
   ],
   "source": [
    "t_list=[\n",
    "\"\\n\\n### 応答:\\n\",\n",
    "\"\\n\\n### 応答:\\n「\",\n",
    "\"\\n\\n### 応答:\\nああ\",\n",
    "\"\\n\\n### 応答:\\naaa\",\n",
    "\"1\\n\\n### 応答:\\naaa\",\n",
    "\"あ\\n\\n### 応答:\\naaa\",\n",
    "\"」\\n\\n### 応答:\\naaa\",\n",
    "]\n",
    "t_list=[\n",
    "\"\\n\\n### 指示:\\n\",\n",
    "\"\\n\\n### 指示:\\n「\",\n",
    "\"\\n\\n### 指示:\\nああ\",\n",
    "\"\\n\\n### 指示:\\naaa\",\n",
    "\"1\\n\\n### 指示:\\naaa\",\n",
    "\"あ\\n\\n### 指示:\\naaa\",\n",
    "\"」\\n\\n### 指示:\\naaa\",\n",
    "]\n",
    "for t in t_list:\n",
    "    print(tokenizer.encode(t),tokenizer.tokenize(t))\n"
   ]
  },
  {
   "cell_type": "code",
   "execution_count": 7,
   "metadata": {},
   "outputs": [
    {
     "data": {
      "text/plain": [
       "[272, 285, 5092, 272, 3994, 327, 272, 55841, 2]"
      ]
     },
     "execution_count": 7,
     "metadata": {},
     "output_type": "execute_result"
    }
   ],
   "source": [
    "tokenizer.encode(t)"
   ]
  },
  {
   "cell_type": "code",
   "execution_count": null,
   "metadata": {},
   "outputs": [],
   "source": [
    "model = AutoModelForCausalLM.from_pretrained(model_name, \n",
    "                                            #quantization_config=bnb_config, \n",
    "                                            device_map=\"auto\",\n",
    "                                            )\n"
   ]
  },
  {
   "cell_type": "code",
   "execution_count": null,
   "metadata": {},
   "outputs": [],
   "source": [
    "model.load_adapter(model_path)\n",
    "#from mergoo.models.modeling_llama import LlamaForCausalLM\n",
    "\n",
    "#model_name=\"../X_merge/merged_models/mergoo_llama_test\"\n",
    "#model=LlamaForCausalLM.from_pretrained(model_name,device_map=\"auto\")"
   ]
  },
  {
   "cell_type": "code",
   "execution_count": null,
   "metadata": {},
   "outputs": [],
   "source": [
    "model"
   ]
  },
  {
   "cell_type": "code",
   "execution_count": null,
   "metadata": {},
   "outputs": [],
   "source": [
    "#層の表示\n",
    "for name, param in model.named_parameters():\n",
    "    print(name)\n",
    "    if \"gate\" in name:\n",
    "        print(\"***\",name)"
   ]
  },
  {
   "cell_type": "code",
   "execution_count": null,
   "metadata": {},
   "outputs": [],
   "source": [
    "def perplexity(model, tokenizer, text) -> torch.Tensor:\n",
    "    tokenized_input = tokenizer.encode(\n",
    "        text, add_special_tokens=False, return_tensors=\"pt\"\n",
    "    ).to(model.device)\n",
    "    with torch.inference_mode():\n",
    "        output = model(tokenized_input, labels=tokenized_input)\n",
    "    ppl = torch.exp(output.loss)\n",
    "    return ppl.item()\n",
    "\n"
   ]
  },
  {
   "cell_type": "code",
   "execution_count": null,
   "metadata": {},
   "outputs": [],
   "source": []
  },
  {
   "cell_type": "code",
   "execution_count": null,
   "metadata": {},
   "outputs": [],
   "source": [
    "pipe=pipeline('text-generation',model=model,tokenizer=tokenizer, \n",
    "              max_new_tokens=50, \n",
    "              repetition_penalty=1.2,\n",
    "              temperature=0.6,\n",
    "              )\n"
   ]
  },
  {
   "cell_type": "code",
   "execution_count": null,
   "metadata": {},
   "outputs": [],
   "source": [
    "questions=[\n",
    "\"こんにちは\",\n",
    "\"元気ですか?\",\n",
    "\"いい天気ですね\",\n",
    "\"明日の天気は?\",\n",
    "\"計算してください 1+1はいくつですか｡\",\n",
    "#\"フィボナッチ数列を生成するpythonのコードを作成してください\",\n",
    "\"ドラえもんの友達はだれですか?\",\n",
    "\"レイリー散乱とはなんですか\",\n",
    "\"hello!\",\n",
    "\"今の天気は晴れです｡この結果をjsonで出力してください｡ \",\n",
    "\"純粋理性批判はたぬきに理解できますか?\",\n",
    "]\n",
    "\n",
    "for question in questions:\n",
    "    question_template=\"以下は、タスクを説明する指示と、文脈のある入力の組み合わせです。要求を適切に満たす応答を書きなさい。<SEP>指示<SEP>\"\n",
    "    inp=f\"{question_template}{question}<SEP>応答<SEP>\"\n",
    "    print(\"--------------------\")\n",
    "    print(question)\n",
    "    print(pipe(inp)[0][\"generated_text\"][len(inp):])"
   ]
  },
  {
   "cell_type": "code",
   "execution_count": null,
   "metadata": {},
   "outputs": [],
   "source": [
    "pipe(\"こんにちは\")"
   ]
  },
  {
   "cell_type": "code",
   "execution_count": null,
   "metadata": {},
   "outputs": [],
   "source": []
  }
 ],
 "metadata": {
  "kernelspec": {
   "display_name": "ft",
   "language": "python",
   "name": "python3"
  },
  "language_info": {
   "codemirror_mode": {
    "name": "ipython",
    "version": 3
   },
   "file_extension": ".py",
   "mimetype": "text/x-python",
   "name": "python",
   "nbconvert_exporter": "python",
   "pygments_lexer": "ipython3",
   "version": "3.11.9"
  }
 },
 "nbformat": 4,
 "nbformat_minor": 2
}
