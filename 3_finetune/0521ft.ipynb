{
 "cells": [
  {
   "cell_type": "code",
   "execution_count": 1,
   "metadata": {},
   "outputs": [
    {
     "name": "stderr",
     "output_type": "stream",
     "text": [
      "/home/hatakeyama/miniconda3/envs/llmeval/lib/python3.11/site-packages/tqdm/auto.py:21: TqdmWarning: IProgress not found. Please update jupyter and ipywidgets. See https://ipywidgets.readthedocs.io/en/stable/user_install.html\n",
      "  from .autonotebook import tqdm as notebook_tqdm\n",
      "mkdir: cannot create directory ‘data/0521sft’: File exists\n"
     ]
    }
   ],
   "source": [
    "# instruciton datasetの生成\n",
    "import pandas as pd\n",
    "import os\n",
    "from datasets import load_dataset\n",
    "import json\n",
    "import random\n",
    "from tqdm import tqdm\n",
    "import re\n",
    "\n",
    "data_folder=\"data/0521sft\"\n",
    "\n",
    "#dataフォルダ内をリセット\n",
    "os.system(f\"mkdir {data_folder}\")\n",
    "os.system(f\"rm -rf {data_folder}/*\")\n",
    "\n",
    "\n",
    "ds_dict={}\n"
   ]
  },
  {
   "cell_type": "code",
   "execution_count": 2,
   "metadata": {},
   "outputs": [],
   "source": [
    "import hashlib\n",
    "\n",
    "#重複判定のためのハッシュ化: 使わない\n",
    "def hash_text(text, algorithm='sha256'):\n",
    "    encoded_text = text.encode()\n",
    "    hash_object = hashlib.new(algorithm)\n",
    "    hash_object.update(encoded_text)\n",
    "    hash_hex = hash_object.hexdigest()\n",
    "    return hash_hex\n"
   ]
  },
  {
   "cell_type": "code",
   "execution_count": 3,
   "metadata": {},
   "outputs": [],
   "source": [
    "# cleaning script\n",
    "def clean_autogen(text):\n",
    "    if text is None:\n",
    "        return \"\"\n",
    "    text=text.strip()\n",
    "    return text\n",
    "\n",
    "question_template=\"以下は、タスクを説明する指示と、文脈のある入力の組み合わせです。要求を適切に満たす応答を書きなさい。\\n\\n### 指示:\\n\"\n",
    "answer_template=\"\\n\\n### 応答:\\n\"\n",
    "\n",
    "\n",
    "records=[]\n",
    "\n",
    "# # mixtralで自動生成したQ&A\n",
    "\n",
    "score_threshold=4\n",
    "ng_words=[\n",
    "          #回答を避けるプロンプトの削除\n",
    "          \"申し訳\",\"分からない\",\"分かりません\",\"すみません\",\n",
    "          #図表などへの言及\n",
    "          \"図\",\"表\",\n",
    "          \"市\",\"県\",\n",
    "          \"漢字\",\n",
    "          ]\n",
    "#日本関係の事項はハルシネーションが多い\n",
    "ng_words+= [\n",
    "    \"北海\", \"青森\", \"岩手\", \"宮城\", \"秋田\", \"山形\", \"福島\",\n",
    "    \"茨城\", \"栃木\", \"群馬\", \"埼玉\", \"千葉\", \"東京\", \"神奈川\",\n",
    "    \"新潟\", \"富山\", \"石川\", \"福井\", \"山梨\", \"長野\", \"岐阜\",\n",
    "    \"静岡\", \"愛知\", \"三重\", \"滋賀\", \"京都\", \"大阪\", \"兵庫\",\n",
    "    \"奈良\", \"和歌山\", \"鳥取\", \"島根\", \"岡山\", \"広島\", \"山口\",\n",
    "    \"徳島\", \"香川\", \"愛媛\", \"高知\", \"福岡\", \"佐賀\", \"長崎\",\n",
    "    \"熊本\", \"大分\", \"宮崎\", \"鹿児島\", \"沖縄\"\n",
    "]\n",
    "ng_words+= [\n",
    "    \"札幌\", \"仙台\", \"新潟\", \"横浜\", \"川崎\", \"相模原\", \"名古屋\",\n",
    "    \"京都\", \"大阪\", \"神戸\", \"堺\", \"広島\", \"北九州\", \"福岡\",\n",
    "    \"熊本\", \"那覇\", \"千葉\", \"さいたま\", \"静岡\", \"浜松\", \"岡山\",\n",
    "    \"鹿児島\", \"長崎\", \"松山\", \"高松\", \"徳島\", \"高知\", \"大分\",\n",
    "    \"宮崎\", \"長野\", \"金沢\", \"富山\", \"福井\", \"松本\", \"豊橋\",\n",
    "    \"岐阜\", \"甲府\", \"奈良\", \"和歌山\", \"姫路\", \"福山\", \"呉\",\n",
    "    \"倉敷\", \"宇部\", \"下関\", \"高岡\", \"今治\", \"東広島\", \"伊勢\",\n",
    "    \"旭川\", \"函館\", \"室蘭\", \"帯広\", \"釧路\", \"青森\", \"八戸\",\n",
    "    \"弘前\", \"秋田\", \"盛岡\", \"山形\", \"福島\", \"郡山\", \"いわき\",\n",
    "    \"宇都宮\", \"前橋\", \"高崎\", \"水戸\", \"日立\", \"土浦\", \"柏\",\n",
    "    \"松戸\", \"浦安\", \"市川\", \"船橋\", \"川口\", \"越谷\", \"草加\",\n",
    "    \"所沢\", \"川越\", \"熊谷\", \"相馬\", \"大宮\", \"高槻\", \"豊中\",\n",
    "    \"茨木\", \"八尾\", \"寝屋川\", \"枚方\", \"平塚\", \"藤沢\", \"厚木\",\n",
    "    \"横須賀\", \"三浦\", \"鎌倉\", \"小田原\", \"逗子\", \"鎌倉\", \"茅ヶ崎\",\n",
    "    \"三鷹\", \"八王子\", \"立川\", \"府中\", \"調布\", \"町田\", \"稲城\",\n",
    "    \"横浜\", \"厚木\", \"大和\", \"綾瀬\", \"藤沢\", \"鎌倉\", \"平塚\",\n",
    "    \"鶴岡\", \"酒田\", \"米沢\", \"会津若松\", \"白河\", \"前橋\", \"草津\",\n",
    "    \"沼津\", \"富士\", \"清水\", \"掛川\", \"豊田\", \"岡崎\", \"一宮\",\n",
    "    \"津\", \"四日市\", \"鈴鹿\", \"名張\", \"甲賀\", \"彦根\", \"大津\",\n",
    "    \"舞鶴\", \"長浜\", \"高槻\", \"枚方\", \"東大阪\", \"西宮\", \"芦屋\",\n",
    "    \"加古川\", \"明石\", \"洲本\", \"淡路\", \"津山\", \"玉野\", \"赤磐\",\n",
    "    \"出雲\", \"松江\", \"大田\", \"浜田\", \"益田\", \"鳥取\", \"倉吉\",\n",
    "    \"米子\", \"西条\", \"新居浜\", \"大洲\", \"八幡浜\", \"今治\", \"佐世保\",\n",
    "    \"平戸\", \"諫早\", \"雲仙\", \"南島原\", \"宇和島\", \"八幡浜\", \"中津\",\n",
    "    \"豊後高田\", \"別府\", \"佐伯\", \"延岡\", \"小林\", \"日向\", \"串間\",\n",
    "    \"都城\", \"曽於\", \"奄美\", \"名瀬\", \"日南\", \"伊佐\", \"薩摩川内\"\n",
    "]\n",
    "ng_words+=[\n",
    "    \"寿司\", \"天ぷら\", \"ラーメン\", \"うどん\", \"そば\", \"抹茶\", \"お茶\", \"和牛\", \"刺身\", \"味噌\",\n",
    "    \"醤油\", \"出汁\", \"海苔\", \"焼き鳥\", \"たこ焼き\", \"お好み焼き\", \"納豆\", \"梅干し\", \"御節料理\", \"懐石料理\",\n",
    "    \"茶道\", \"華道\", \"書道\", \"剣道\", \"柔道\", \"空手\", \"相撲\", \"合気道\", \"弓道\", \"盆栽\",\n",
    "    \"歌舞伎\", \"能\", \"狂言\", \"文楽\", \"雅楽\", \"俳句\", \"短歌\", \"浮世絵\", \"陶芸\", \"漆芸\",\"寺\",\n",
    "    \"折り紙\", \"切り紙\", \"漫画\", \"アニメ\", \"ゲーム\", \"カラオケ\", \"パチンコ\", \"温泉\", \"祭り\", \"花火\",\n",
    "    \"桜\", \"紅葉\", \"富士山\", \"神社\", \"寺\", \"御守り\", \"御朱印\", \"着物\", \"浴衣\", \"下駄\",\n",
    "    \"祭り\", \"神輿\", \"太鼓\", \"扇子\", \"団扇\", \"風鈴\", \"畳\", \"ふすま\", \"障子\", \"縁側\",\n",
    "    \"庭園\", \"苔庭\", \"枯山水\", \"茶室\", \"茶会\", \"詩吟\", \"剣舞\", \"能楽\", \"能面\", \"狂言面\",\n",
    "    \"和装\", \"浴衣\", \"羽織\", \"帯\", \"袴\", \"足袋\", \"草履\", \"雪駄\", \"忍者\", \"侍\",\n",
    "    \"鎧\", \"刀\", \"武士道\", \"茶道具\", \"書道具\", \"筆\", \"墨\", \"硯\", \"和紙\", \"掛け軸\",\n",
    "    \"日本酒\", \"焼酎\", \"泡盛\", \"梅酒\", \"甘酒\", \"酢\", \"味醂\", \"干物\", \"漬物\", \"佃煮\",\n",
    "    \"和菓子\", \"羊羹\", \"団子\", \"饅頭\", \"大福\", \"最中\", \"おかき\", \"煎餅\", \"葛切り\", \"寒天\",\n",
    "    \"金平糖\", \"和三盆\", \"葛餅\", \"茶碗蒸し\", \"茶粥\", \"釜飯\", \"炊き込みご飯\", \"味噌汁\", \"吸い物\", \"煮物\",\n",
    "    \"焼き物\", \"揚げ物\", \"蒸し物\", \"酢の物\", \"和え物\", \"刺身\", \"寿司\", \"天ぷら\", \"かき揚げ\", \"たたき\",\n",
    "    \"しゃぶしゃぶ\", \"すき焼き\", \"おでん\", \"肉じゃが\", \"お好み焼き\", \"たこ焼き\", \"焼きそば\", \"餃子\", \"ラーメン\", \"うどん\",\n",
    "    \"そば\", \"お茶漬け\", \"煮込み\", \"鍋物\", \"うなぎ\", \"かば焼き\", \"山菜\", \"海藻\", \"昆布\", \"わかめ\",\n",
    "    \"ひじき\", \"もずく\", \"くろも\", \"青のり\", \"おかゆ\", \"おにぎり\", \"巻き寿司\", \"押し寿司\", \"ちらし寿司\", \"稲荷寿司\",\n",
    "    \"太巻き\", \"細巻き\", \"巻き物\", \"茶道\", \"華道\", \"書道\", \"剣道\", \"柔道\", \"空手\", \"合気道\",\n",
    "    \"相撲\", \"弓道\", \"薙刀\", \"砲術\", \"居合道\", \"柔術\", \"槍術\", \"剣術\", \"古武道\", \"武道\",\n",
    "    \"忍術\", \"忍者\", \"侍\", \"刀\", \"鎧\", \"兜\", \"武士道\", \"戦国時代\", \"江戸時代\", \"明治時代\",\n",
    "    \"大正時代\", \"昭和時代\", \"平成時代\", \"令和時代\", \"平安時代\", \"鎌倉時代\", \"南北朝時代\", \"室町時代\", \"安土桃山時代\", \"幕末\",\n",
    "    \"幕府\", \"将軍\", \"大名\", \"藩\", \"城\", \"町人\", \"農民\", \"商人\", \"武士\", \"刀鍛冶\",\n",
    "    \"忍び装束\", \"槍\", \"薙刀\", \"弓\", \"弓術\", \"射箭\", \"武術\", \"弓術\", \"長刀\", \"手裏剣\",\n",
    "    \"くノ一\", \"隠密\", \"間者\", \"諜報\", \"密偵\", \"間者\", \"忍び\", \"変わり身\", \"火遁\", \"水遁\",\n",
    "    \"風遁\", \"土遁\", \"雷遁\", \"分身\", \"分身の術\", \"影分身\", \"影分身の術\", \"影\", \"手裏剣術\", \"投擲\",\n",
    "    \"手甲\", \"鎖鎌\", \"十手\", \"鎖\", \"鎖術\", \"護身術\", \"護身\", \"護衛\", \"警護\", \"護法\",\n",
    "    \"護符\", \"魔除け\", \"神道\", \"仏教\", \"禅\", \"浄土宗\", \"天台宗\", \"真言宗\", \"日蓮宗\", \"浄土真宗\",\n",
    "    \"曹洞宗\", \"臨済宗\", \"黄檗宗\", \"修験道\", \"山岳信仰\", \"神社\", \"仏閣\", \"寺院\", \"庵\", \"道場\",\n",
    "    \"参拝\", \"祈願\", \"供養\", \"祭祀\", \"奉納\", \"奉仕\", \"神道行事\", \"仏教行事\", \"葬儀\", \"法事\",\n",
    "    \"儀式\", \"式典\", \"祭典\", \"神楽\", \"祭り\", \"祭礼\", \"祇園祭\", \"天神祭\", \"三社祭\", \"神嘗祭\",\n",
    "    \"新嘗祭\", \"御霊祭\", \"節分\", \"雛祭り\", \"端午の節句\", \"七夕\", \"お盆\", \"お彼岸\", \"お正月\", \"初詣\",\n",
    "    \"大晦日\", \"除夜の鐘\", \"除夜\", \"紅白歌合戦\", \"年越しそば\", \"新年\", \"年賀状\", \"お年玉\", \"初日の出\", \"初夢\",\n",
    "    \"初売り\", \"福袋\", \"鏡開き\", \"松の内\", \"七草粥\", \"成人の日\", \"節分\", \"ひな祭り\", \"春分の日\", \"ゴールデンウィーク\",\n",
    "    \"こどもの日\", \"母の日\", \"父の日\", \"海の日\", \"山の日\", \"敬老の日\", \"体育の日\", \"文化の日\", \"勤労感謝の日\", \"天皇誕生日\",\n",
    "    \"祝日\", \"国民の祝日\", \"休日\", \"連休\", \"休暇\", \"夏休み\", \"冬休み\", \"春休み\", \n",
    "    \"祝祭日\", \"祝賀\", \"祭典\", \"行事\", \"催し物\",  \"大会\", \"式典\", \n",
    "    \"公演\", \"演奏会\", \"発表会\", \"展示会\", \"展覧会\", \"美術展\", \"写真展\", \"工芸展\", \"博覧会\", \"文化祭\",\n",
    "    \"学園祭\", \"音楽祭\", \"映画祭\", \"演劇祭\", \"演劇\", \"舞台\", \"劇場\", \"歌劇\", \"音楽\", \"楽器\",\n",
    "    \"歌手\", \"声優\", \"俳優\", \"女優\", \"監督\", \"脚本家\", \"プロデューサー\", \"映画\", \"テレビ\", \"ドラマ\",\n",
    "    \"アニメ\", \"漫画\", \"イラスト\", \"アーティスト\", \"デザイナー\", \"イラストレーター\", \"画家\", \"写真家\", \"作家\", \"小説家\",\n",
    "]\n",
    "ng_words=list(set(ng_words))\n",
    "#mixtralで自動生成された回答の一部はハルシネーションが起きやすいので､ルールベースで除外する\n",
    "def is_probably_halcinated(a):\n",
    "\n",
    "    #ハルシネーションで多いパターンを除外\n",
    "    for ng_word in ng_words:\n",
    "        if a.find(ng_word)>=0:\n",
    "            return True\n",
    "\n",
    "    #年号などもハルシネーションの原因になる\n",
    "    pattern = r\"(\\d{4}年|明治\\d{1,2}年|大正\\d{1,2}年|昭和\\d{1,2}年|平成\\d{1,2}年|令和\\d{1,2}年|\\d{1,2}月\\d{1,2}日)\"\n",
    "    # マッチするかどうかをチェック\n",
    "    matches = re.findall(pattern, a)\n",
    "    if matches:\n",
    "        return True\n",
    "    \n",
    "    #日付\n",
    "    pattern = r'^\\d{1,2}月\\d{1,2}日$'\n",
    "    if re.match(pattern, a):\n",
    "        return True\n",
    "    return False\n",
    "    "
   ]
  },
  {
   "cell_type": "code",
   "execution_count": 4,
   "metadata": {},
   "outputs": [
    {
     "name": "stdout",
     "output_type": "stream",
     "text": [
      "True 五城目テレビ中継局は1957年3月1日に設立され、東京都江戸川区五城目に位置しています。この地域の生活文化を取り上げる番組が多く制作されており、特に「江戸川区民と一緒に」などの番組は人気です。五城目テレビ中継局は地域の生活文化を取り上げることが特徴であり、現在も多くの人から支持されています。\n",
      "True スヌープ・ドッグ風に1946年の映画『偉大なる期待』を2段落で要約できますか？\n",
      "True 3月1日\n",
      "True ３月1日\n",
      "False 3月はいい天気\n"
     ]
    }
   ],
   "source": [
    "text_list=[\n",
    "    \"五城目テレビ中継局は1957年3月1日に設立され、東京都江戸川区五城目に位置しています。この地域の生活文化を取り上げる番組が多く制作されており、特に「江戸川区民と一緒に」などの番組は人気です。五城目テレビ中継局は地域の生活文化を取り上げることが特徴であり、現在も多くの人から支持されています。\",\n",
    "    \"スヌープ・ドッグ風に1946年の映画『偉大なる期待』を2段落で要約できますか？\",\n",
    "    \"3月1日\",\n",
    "    \"３月1日\",\n",
    "    \"3月はいい天気\",\n",
    "]\n",
    "for text in text_list:\n",
    "    print(is_probably_halcinated(text),text)"
   ]
  },
  {
   "cell_type": "code",
   "execution_count": 5,
   "metadata": {},
   "outputs": [
    {
     "name": "stderr",
     "output_type": "stream",
     "text": [
      "100%|██████████| 21164/21164 [00:00<00:00, 25932.87it/s]"
     ]
    },
    {
     "name": "stdout",
     "output_type": "stream",
     "text": [
      "以下は、タスクを説明する指示と、文脈のある入力の組み合わせです。要求を適切に満たす応答を書きなさい。\n",
      "\n",
      "### 指示:\n",
      "なぜ人工ニューロンはバイアス項を使うのか？重みを使うだけで十分ではないですか？\n",
      "### 応答:\n",
      "バイアスを導入することは、モデルに調整可能な閾値を持たせるために重要です。\n",
      "例えばReLU活性化関数を持つニューロンを考えると、このニューロンが活性化関数の平坦領域で出力するかどうかは、その入力ベクトルのスケール不変条件のみに依存する可能性があります。\n",
      "したがって、バイアスのかかったニューロンの非線型性は、バイアスのかかっていないニューロンよりもさらに広がる可能性があり、バイアスのかかったニューロンは「私の入力のこの組み合わせは3より大きい」というような客観的な基準を学習するが、バイアスのかかっていないニューロンは「私の入力のこの最初の組み合わせはこの2番目の組み合わせより大きい」というような相対的な基準しか学習しない可能性がある。</s><s>\n",
      "### 指示:\n",
      "平易な言葉で説明してもらえますか？人工ニューロンに詳しくない人のために？\n",
      "\n",
      "### 応答:\n",
      "ディープラーニングで使われているような人工ニューロンは、人間の脳の実際のニューロンの振る舞いをシミュレートするためのものです。人工ニューロンは入力を受け取り、処理し、出力を生成する。このシミュレーションでは、入力はニューロンへの接続の強さを表すように重み付けされ、バイアス項は、入力を受けなくても発火するニューロンの傾向を表す。\n",
      "\n",
      "ニューロンを、入力を出力に変換する小さな機械と考えよう。重みを使って入力と出力を接続するだけなら、入力が十分に強ければ出力が得られるだけである。しかし現実の世界では、ニューロンは入力を受けなくても出力を出す傾向がある。そこでバイアスという用語が登場する。これは、入力が弱くても出力をオンにできる小さなスイッチのような働きをする。\n",
      "\n",
      "言い換えれば、バイアス項は、出力が出る前に超えなければならない閾値のような働きをする。バイアス項を使うことで、ニューロンの振る舞いを微調整することができる。バイアス項がなければ、ニューロンは柔軟性を失い、強い入力を受 け取ったときだけ出力を出すように制限されてしまうだろう。\n"
     ]
    },
    {
     "name": "stderr",
     "output_type": "stream",
     "text": [
      "\n"
     ]
    },
    {
     "data": {
      "text/plain": [
       "(None, 13100)"
      ]
     },
     "execution_count": 5,
     "metadata": {},
     "output_type": "execute_result"
    }
   ],
   "source": [
    "#マルチターン\n",
    "ds=load_dataset(\"llm-jp/oasst1-21k-ja\",)[\"train\"]\n",
    "\n",
    "records=[]\n",
    "for record in tqdm(ds):\n",
    "    conversations=record[\"conversations\"]\n",
    "    if len(conversations)!=4:\n",
    "        continue\n",
    "\n",
    "    #マルチターンで適切に2ターン目をマスキングする方法がよくわからないので､とりあえず､1ターン目は改行を少なくしておく.\n",
    "    q=conversations[0][\"value\"]\n",
    "    q+=\"\\n### 応答:\\n\"+conversations[1][\"value\"]+\"</s><s>\\n### 指示:\\n\"+conversations[2][\"value\"]\n",
    "    a=conversations[3][\"value\"]\n",
    "    text=f\"{question_template}{q}{answer_template}{a}\"\n",
    "    records.append(text)\n",
    "\n",
    "ds_dict[\"multi_turn_oasst\"]=records\n",
    "print(text),len(records)"
   ]
  },
  {
   "cell_type": "code",
   "execution_count": 6,
   "metadata": {},
   "outputs": [
    {
     "name": "stderr",
     "output_type": "stream",
     "text": [
      "100%|██████████| 32702/32702 [00:01<00:00, 24982.11it/s]"
     ]
    },
    {
     "name": "stdout",
     "output_type": "stream",
     "text": [
      "以下は、タスクを説明する指示と、文脈のある入力の組み合わせです。要求を適切に満たす応答を書きなさい。\n",
      "\n",
      "### 指示:\n",
      "Four kids want to convince their parents to let them all play together outside but, since it's pretty late, their parents won't let them since they might wake up or disrupt their neighbors. The kids then decided to write a song, convincing their parents that they'll be quite outside. What song could've they come up with?\n",
      "### 応答:\n",
      "Verse 1:\n",
      "We promise we'll be quiet,\n",
      "We'll play outside without a riot.\n",
      "We'll keep the volume low,\n",
      "And not disturb the neighbors, you know.\n",
      "\n",
      "Chorus:\n",
      "Let us play, let us play,\n",
      "We won't keep the neighbors up all day.\n",
      "We'll have fun and make no noise,\n",
      "We're good kids, we're not like those boys.\n",
      "\n",
      "Verse 2:\n",
      "We won't shout or scream,\n",
      "We'll play nicely like a dream.\n",
      "We'll stay close to the house,\n",
      "And be quiet like a little mouse.\n",
      "\n",
      "Chorus:\n",
      "Let us play, let us play,\n",
      "We won't keep the neighbors up all day.\n",
      "We'll have fun and make no noise,\n",
      "We're good kids, we're not like those boys.\n",
      "\n",
      "Bridge:\n",
      "We'll be outside for just a bit,\n",
      "And then we'll come back in, we promise.\n",
      "We just want to have some fun,\n",
      "Before the day is finally done.\n",
      "\n",
      "Chorus:\n",
      "Let us play, let us play,\n",
      "We won't keep the neighbors up all day.\n",
      "We'll have fun and make no noise,\n",
      "We're good kids, we're not like those boys.\n",
      "\n",
      "Outro:\n",
      "We promise we'll be good,\n",
      "And do all the things we should.\n",
      "Just let us play for a little while,\n",
      "We'll be quiet with a smile.</s><s>\n",
      "### 指示:\n",
      "The parents answer with a kitschy song about how it's better to sleep yet and that the kids can play tomorrow and the day after tomorrow instead.\n",
      "\n",
      "### 応答:\n",
      "You better go to bed. You better go to bed. You better go to be, do what your mother says.\n"
     ]
    },
    {
     "name": "stderr",
     "output_type": "stream",
     "text": [
      "\n"
     ]
    },
    {
     "data": {
      "text/plain": [
       "(None, 21560)"
      ]
     },
     "execution_count": 6,
     "metadata": {},
     "output_type": "execute_result"
    }
   ],
   "source": [
    "\n",
    "#マルチターン oasst 英語\n",
    "ds=load_dataset(\"llm-jp/oasst2-33k-en\",)[\"train\"]\n",
    "\n",
    "records=[]\n",
    "for record in tqdm(ds):\n",
    "    conversations=record[\"conversations\"]\n",
    "    if len(conversations)!=4:\n",
    "        continue\n",
    "    q=conversations[0][\"content\"]\n",
    "    q+=\"\\n### 応答:\\n\"+conversations[1][\"content\"]+\"</s><s>\\n### 指示:\\n\"+conversations[2][\"content\"]\n",
    "    a=conversations[3][\"content\"]\n",
    "    text=f\"{question_template}{q}{answer_template}{a}\"\n",
    "\n",
    "    records.append(text)\n",
    "ds_dict[\"multi_turn_oasst_en\"]=records\n",
    "print(text),len(records)"
   ]
  },
  {
   "cell_type": "code",
   "execution_count": 7,
   "metadata": {},
   "outputs": [],
   "source": [
    "qa_list=[]"
   ]
  },
  {
   "cell_type": "code",
   "execution_count": 8,
   "metadata": {},
   "outputs": [
    {
     "name": "stderr",
     "output_type": "stream",
     "text": [
      "100%|██████████| 309981/309981 [00:42<00:00, 7223.36it/s]"
     ]
    },
    {
     "name": "stdout",
     "output_type": "stream",
     "text": [
      "以下は、タスクを説明する指示と、文脈のある入力の組み合わせです。要求を適切に満たす応答を書きなさい。\n",
      "\n",
      "### 指示:\n",
      "「氷」になりきって説明してください\n",
      "水は0℃で固まり、結晶構造を形成します。この固体状態の水が、氷です。根の積分平方根はπ xと言うことがありますが、実際に計算しても数値は決定されません。\n",
      "### 応答:\n",
      "氷は凍った水で、結晶構造を持っています。根の積分平方根π xについては、計算可能な値がありません。</s><s>\n",
      "### 指示:\n",
      "15文字以内で説明してください\n",
      "\n",
      "### 応答:\n",
      "氷は凝結した水の固体状態です。\n",
      "525121\n"
     ]
    },
    {
     "name": "stderr",
     "output_type": "stream",
     "text": [
      "\n"
     ]
    }
   ],
   "source": [
    "# マルチターン　自動生成\n",
    "\n",
    "ds=load_dataset(\"kanhatakeyama/AutoMultiTurnByMixtral8x22b\",)[\"train\"]\n",
    "\n",
    "records=[]\n",
    "for record in tqdm(ds):\n",
    "    #turn 1\n",
    "    q=record[\"q1\"]\n",
    "    a=record[\"a1\"]\n",
    "    if not is_probably_halcinated(a):\n",
    "    #if not is_probably_halcinated(a) and not is_probably_halcinated(q):\n",
    "        text=f\"{question_template}{q}{answer_template}{a}\"\n",
    "        #hash=hash_text(text)\n",
    "        #if hash in qa_list:\n",
    "        #    continue\n",
    "        records.append(text)\n",
    "        #qa_list.append(hash)\n",
    "\n",
    "    #turn 2\n",
    "    q=record[\"q1\"]\n",
    "    q+=\"\\n### 応答:\\n\"+record[\"a1\"]+\"</s><s>\\n### 指示:\\n\"+record[\"q2\"]\n",
    "    a=record[\"a2\"]\n",
    "\n",
    "    #if not is_probably_halcinated(a) and not is_probably_halcinated(q):\n",
    "    if not is_probably_halcinated(a):\n",
    "        text=f\"{question_template}{q}{answer_template}{a}\"\n",
    "        #hash=hash_text(text)\n",
    "        #if hash in qa_list:\n",
    "        #    continue\n",
    "        records.append(text)\n",
    "        #qa_list.append(hash)\n",
    "\n",
    "\n",
    "ds_dict[\"multi_turn_mixtral\"]=records\n",
    "print(text)\n",
    "print(len(records))"
   ]
  },
  {
   "cell_type": "code",
   "execution_count": 9,
   "metadata": {},
   "outputs": [
    {
     "name": "stdout",
     "output_type": "stream",
     "text": [
      "以下は、タスクを説明する指示と、文脈のある入力の組み合わせです。要求を適切に満たす応答を書きなさい。\n",
      "\n",
      "### 指示:\n",
      "21世紀を喜劇風に詠んでください\n",
      "\n",
      "### 応答:\n",
      "21世紀はスマホが生まれ、人類がつながる時代。笑いのネタもたくさん増えました。\n"
     ]
    }
   ],
   "source": [
    "print(records[6])"
   ]
  },
  {
   "cell_type": "code",
   "execution_count": 10,
   "metadata": {},
   "outputs": [
    {
     "name": "stderr",
     "output_type": "stream",
     "text": [
      "212355it [00:17, 12395.01it/s]\n",
      "53950it [00:04, 12697.75it/s]\n",
      "21899it [00:01, 10996.83it/s]\n",
      "734876it [01:11, 10206.74it/s]\n",
      "17354it [00:01, 9334.07it/s]\n",
      "125751it [00:11, 10757.60it/s]"
     ]
    },
    {
     "name": "stdout",
     "output_type": "stream",
     "text": [
      "1004879\n",
      "以下は、タスクを説明する指示と、文脈のある入力の組み合わせです。要求を適切に満たす応答を書きなさい。\n",
      "\n",
      "### 指示:\n",
      "ジートのアルゴリズム(ZAlgorithm)を使用して、与えられた文字列S内の部分文字列と完全に一致する最も長い文字列を見つけなさい。\n",
      "例えば、S=\"abcabczzzz\" の場合、出力は(\"abc\", \"zzz\") であるべきです。\n",
      "\n",
      "### 応答:\n",
      "ジートのアルゴリズム(ZAlgorithm)を使用して、与えられた文字列S内の部分文字列と完全に一致する最も長い文字列を見つけるプログラムを以下に示します。\n",
      "```python\n",
      "def ZAlgorithm(s):\n",
      "    n = len(s)\n",
      "    z = [0] * n\n",
      "    for i in range(1, n):\n",
      "        while i + z[i - 1] < n and s[z[i - 1]] == s[i + z[i - 1]]:\n",
      "            z[i] += 1\n",
      "        if i + z[i] > n:\n",
      "            break\n",
      "    max_length = max(z)\n",
      "    for i in range(n):\n",
      "        if z[i] == max_length and (max_length != 0 or i == 0):\n",
      "            return s[:max_length], s[i:i + max_length]\n",
      "    return None, None\n",
      "\n",
      "s = \"abcabczzzz\"\n",
      "a, b = ZAlgorithm(s)\n",
      "print((a, b)) # (\"abc\", \"zzz\")\n",
      "```\n",
      "このプログラムでは、まずジートのアルゴリズムを使用して文字列S内のすべての部分文字列についてZ配列を計算します。次に、Z配列から最も長い部分文字列の長さを見つけ、その長さと一致する最初の部分文字列と最後の部分文字列を返します。\n"
     ]
    },
    {
     "name": "stderr",
     "output_type": "stream",
     "text": [
      "\n"
     ]
    }
   ],
   "source": [
    "\n",
    "exclude_count=0\n",
    "\n",
    "datasets=[\n",
    "    load_dataset(\"hatakeyama-llm-team/AutoGeneratedJapaneseQA\",split=\"train\"),\n",
    "    load_dataset(\"hatakeyama-llm-team/AutoGeneratedJapaneseQA-CC\",split=\"train\"),\n",
    "    load_dataset(\"hatakeyama-llm-team/AutoGeneratedJapaneseQA-other\",split=\"train\"),\n",
    "    load_dataset(\"kanhatakeyama/OrcaJaMixtral8x22b\",split=\"train\"),\n",
    "    load_dataset(\"kanhatakeyama/ChatbotArenaJaMixtral8x22b\",split=\"train\"),\n",
    "    load_dataset(\"kanhatakeyama/LogicalDatasetsByMixtral8x22b\",split=\"train\"),\n",
    "]\n",
    "for dataset in datasets:\n",
    "    for original_record in tqdm(iter(dataset)):\n",
    "        q=clean_autogen(original_record[\"question\"])\n",
    "        a=clean_autogen(original_record[\"answer\"])\n",
    "        if q==\"\" or a==\"\":\n",
    "            continue\n",
    "\n",
    "\n",
    "        if \"score\" in original_record:\n",
    "            if original_record[\"score\"] is None:\n",
    "                continue\n",
    "            if int(original_record[\"score\"])<score_threshold:\n",
    "                continue\n",
    "\n",
    "        if is_probably_halcinated(a):\n",
    "            continue\n",
    "        #if is_probably_halcinated(q):\n",
    "        #    continue\n",
    "\n",
    "        text=f\"{question_template}{q}{answer_template}{a}\"\n",
    "        #hash=hash_text(text)\n",
    "        if a!=\"\" and q!=\"\":\n",
    "            records.append(text)\n",
    "            #qa_list.append(hash)\n",
    "\n",
    "ds_dict[\"auto_gen_mixtral\"]=records\n",
    "\n",
    "print(len(records))\n",
    "print(text)"
   ]
  },
  {
   "cell_type": "code",
   "execution_count": 12,
   "metadata": {},
   "outputs": [
    {
     "name": "stderr",
     "output_type": "stream",
     "text": [
      "Generating v1.0_cleaned split: 100%|██████████| 10250/10250 [00:00<00:00, 54717.11 examples/s]\n",
      "Generating _archive_v0.7_cleaned split: 100%|██████████| 9676/9676 [00:00<00:00, 65884.43 examples/s]\n",
      "Generating _archive_v0.6_cleaned split: 100%|██████████| 9036/9036 [00:00<00:00, 67379.81 examples/s]\n",
      "Generating _archive_v0.5_cleaned split: 100%|██████████| 8003/8003 [00:00<00:00, 66026.37 examples/s]\n",
      "Generating _archive_v0.4_cleaned split: 100%|██████████| 6407/6407 [00:00<00:00, 73784.10 examples/s]\n",
      "Generating _archive_v0.3_cleaned split: 100%|██████████| 5117/5117 [00:00<00:00, 68950.82 examples/s]\n",
      "Generating _archive_v0.2_cleaned split: 100%|██████████| 3501/3501 [00:00<00:00, 72883.05 examples/s]\n",
      "Generating _archive_v0.1_cleaned split: 100%|██████████| 1403/1403 [00:00<00:00, 61301.20 examples/s]\n",
      "100%|██████████| 28861/28861 [00:03<00:00, 8450.92it/s]\n",
      "100%|██████████| 507/507 [00:00<00:00, 15814.14it/s]\n",
      "100%|██████████| 1017/1017 [00:00<00:00, 17747.26it/s]\n",
      "100%|██████████| 10250/10250 [00:01<00:00, 7429.87it/s]\n"
     ]
    }
   ],
   "source": [
    "\n",
    "# %% [markdown]\n",
    "# # hachiさんのalpaca + mixtral dataset\n",
    "\n",
    "# %%\n",
    "\n",
    "hachi_datasets={\n",
    "   \"HachiML/Hachi-Alpaca\": load_dataset(\"HachiML/Hachi-Alpaca\",split='v1.0_cleaned'),\n",
    "    \"HachiML/Evol-Alpaca-gen3-500\":load_dataset(\"HachiML/Evol-Alpaca-gen3-500\",split='train'),\n",
    "    \"HachiML/Evol-hh-rlhf-gen3-1k\":load_dataset(\"HachiML/Evol-hh-rlhf-gen3-1k\",split='train'),\n",
    "    \"HachiML/alpaca_jp_math\":load_dataset(\"HachiML/alpaca_jp_math\",split='v1.0_cleaned'),\n",
    "}\n",
    "\n",
    "# %%\n",
    "records=[]\n",
    "for key,hachi_ds in hachi_datasets.items():\n",
    "    for record in tqdm(hachi_ds):\n",
    "        q=record[\"instruction\"]\n",
    "        if \"input\" in record:\n",
    "            inp=record[\"input\"]\n",
    "        else:\n",
    "            inp=\"\"\n",
    "        if inp!=\"\":\n",
    "            q+=\"\\n\"+inp\n",
    "        a=record[\"output\"]\n",
    "        if q==\"\" or a==\"\":\n",
    "            continue\n",
    "        text=f\"{question_template}{q}{answer_template}{a}\"\n",
    "        records.append(text)\n",
    "\n",
    "    ds_dict[f\"hachi_{key}\"]=records\n"
   ]
  },
  {
   "cell_type": "code",
   "execution_count": 13,
   "metadata": {},
   "outputs": [
    {
     "name": "stderr",
     "output_type": "stream",
     "text": [
      "30411it [00:00, 32265.00it/s]\n"
     ]
    },
    {
     "data": {
      "text/plain": [
       "'以下は、タスクを説明する指示と、文脈のある入力の組み合わせです。要求を適切に満たす応答を書きなさい。\\n\\n### 指示:\\n次の質問に対する答えを生成してください。回答のみを記載し、その他の情報は書かないでください。単語またはYES/NOで答えてください。\\nfaカップ準決勝に延長戦はありますか\\n\\n### 応答:\\nYES'"
      ]
     },
     "execution_count": 13,
     "metadata": {},
     "output_type": "execute_result"
    }
   ],
   "source": [
    "\n",
    "# %% [markdown]\n",
    "# # Bumpo dataset\n",
    "\n",
    "#文法理解に関するデータセット\n",
    "ds2=load_dataset(\"hatakeyama-llm-team/BumpoRikai\",split=\"train\")\n",
    "# %%\n",
    "records=[]\n",
    "for original_record in tqdm(iter(ds2)):\n",
    "    q=(original_record[\"question\"])\n",
    "    a=(original_record[\"answer\"])\n",
    "    inst=(original_record[\"instruction\"])\n",
    "    q=inst+\"\\n\"+q\n",
    "    if q==\"\" or a==\"\":\n",
    "        continue\n",
    "    text=f\"{question_template}{q}{answer_template}{a}\"\n",
    "    records.append(text)\n",
    "ds_dict[\"bumpo_rikai\"]=records\n",
    "records[1]\n",
    "\n"
   ]
  },
  {
   "cell_type": "code",
   "execution_count": 14,
   "metadata": {},
   "outputs": [],
   "source": [
    "\n",
    "#minnade\n",
    "m_ds=load_dataset(\"minnade/chat-daily\",split=\"train\")\n",
    "\n",
    "id_to_content={}\n",
    "for record in m_ds:\n",
    "    id_to_content[record[\"id\"]]=record[\"body\"]\n",
    "\n",
    "questions=[]\n",
    "for record in m_ds:\n",
    "    if record[\"role\"]==\"assistant\":\n",
    "        q=id_to_content[record[\"parent_id\"]]\n",
    "        a=record[\"body\"]\n",
    "        if a is None:\n",
    "            continue\n",
    "        if len(a)<4:\n",
    "            continue\n",
    "        #questions.append((q,a))\n",
    "        text=f\"{question_template}{q}{answer_template}{a}\"\n",
    "        records.append(text)\n",
    "ds_dict[\"minnade\"]=questions"
   ]
  },
  {
   "cell_type": "markdown",
   "metadata": {},
   "source": [
    "# code dataset"
   ]
  },
  {
   "cell_type": "code",
   "execution_count": 15,
   "metadata": {},
   "outputs": [],
   "source": [
    "code_ds_dict={}"
   ]
  },
  {
   "cell_type": "code",
   "execution_count": 16,
   "metadata": {},
   "outputs": [
    {
     "data": {
      "text/plain": [
       "'\\nopenmath_ds=load_dataset(\"kunishou/OpenMathInstruct-1-1.8m-ja\",split=\"train\")\\n\\nrecords=[]\\nfor original_record in iter(openmath_ds):\\n    q=(original_record[\"question_ja\"])\\n    a=(original_record[\"generated_solution_ja\"])\\n    #inst=(original_record[\"instruction\"])\\n    if q==\"\" or a==\"\":\\n        continue\\n    text=f\"{question_template}{q}{answer_template}{a}\"\\n    records.append(text)\\ncode_ds_dict[\"openmathja\"]=records\\nrecords[1]\\n'"
      ]
     },
     "execution_count": 16,
     "metadata": {},
     "output_type": "execute_result"
    }
   ],
   "source": [
    "#openmathinst 数GB\n",
    "# 思考が硬直化してそうなので、やめる\n",
    "\"\"\"\n",
    "openmath_ds=load_dataset(\"kunishou/OpenMathInstruct-1-1.8m-ja\",split=\"train\")\n",
    "\n",
    "records=[]\n",
    "for original_record in iter(openmath_ds):\n",
    "    q=(original_record[\"question_ja\"])\n",
    "    a=(original_record[\"generated_solution_ja\"])\n",
    "    #inst=(original_record[\"instruction\"])\n",
    "    if q==\"\" or a==\"\":\n",
    "        continue\n",
    "    text=f\"{question_template}{q}{answer_template}{a}\"\n",
    "    records.append(text)\n",
    "code_ds_dict[\"openmathja\"]=records\n",
    "records[1]\n",
    "\"\"\""
   ]
  },
  {
   "cell_type": "code",
   "execution_count": 17,
   "metadata": {},
   "outputs": [
    {
     "data": {
      "text/plain": [
       "'以下は、タスクを説明する指示と、文脈のある入力の組み合わせです。要求を適切に満たす応答を書きなさい。\\n\\n### 指示:\\n与えられたリスト内の重複する値を除去するPythonスクリプトを書きなさい。\\n```python\\nnumbers = [1, 2, 2, 3, 4, 4, 5]\\n```\\n\\n### 応答:\\n```python\\nunique_numbers = list(set(numbers))\\nprint(unique_numbers)\\n```'"
      ]
     },
     "execution_count": 17,
     "metadata": {},
     "output_type": "execute_result"
    }
   ],
   "source": [
    "#code 50k\n",
    "ds=load_dataset(\"HachiML/alpaca_jp_python\",split=\"v1.0_cleaned\")\n",
    "\n",
    "records=[]\n",
    "for original_record in iter(ds):\n",
    "    q=(original_record[\"instruction\"])\n",
    "    a=(original_record[\"output\"])\n",
    "    inp=(original_record[\"input\"])\n",
    "    if inp!=\"\":\n",
    "        q+=\"\\n\"+inp\n",
    "    if q==\"\" or a==\"\":\n",
    "        continue\n",
    "    text=f\"{question_template}{q}{answer_template}{a}\"\n",
    "    records.append(text)\n",
    "code_ds_dict[\"code_hachi\"]=records\n",
    "records[1]\n",
    "\n"
   ]
  },
  {
   "cell_type": "code",
   "execution_count": 18,
   "metadata": {},
   "outputs": [
    {
     "data": {
      "text/plain": [
       "\"以下は、タスクを説明する指示と、文脈のある入力の組み合わせです。要求を適切に満たす応答を書きなさい。\\n\\n### 指示:\\npandasでレシート明細データ（df_receipt）から売上年月日（sales_ymd）、顧客ID（customer_id）、商品コード（product_cd）、売上金額（amount）の順に列を指定し、10件表示せよ。\\n\\n### 応答:\\nimport pandas as pd\\n\\ndf_receipt[['sales_ymd', 'customer_id', 'product_cd', 'amount']].head(10)\""
      ]
     },
     "execution_count": 18,
     "metadata": {},
     "output_type": "execute_result"
    }
   ],
   "source": [
    "#code 5k\n",
    "ds=load_dataset(\"kunishou/amenokaku-code-instruct\",split=\"train\")\n",
    "\n",
    "records=[]\n",
    "for original_record in iter(ds):\n",
    "    q=(original_record[\"instruction\"])\n",
    "    a=(original_record[\"output\"])\n",
    "    inp=(original_record[\"input\"])\n",
    "    if inp!=\"\":\n",
    "        q+=\"\\n\"+inp\n",
    "    if q==\"\" or a==\"\":\n",
    "        continue\n",
    "    text=f\"{question_template}{q}{answer_template}{a}\"\n",
    "    records.append(text)\n",
    "code_ds_dict[\"amenokaku\"]=records\n",
    "records[1]\n",
    "\n"
   ]
  },
  {
   "cell_type": "code",
   "execution_count": 19,
   "metadata": {},
   "outputs": [
    {
     "data": {
      "text/plain": [
       "'以下は、タスクを説明する指示と、文脈のある入力の組み合わせです。要求を適切に満たす応答を書きなさい。\\n\\n### 指示:\\n小王は、20％の薬を含む農薬150kgを、5％の薬を含む溶液に希釈したいと考えています。 何kgの水を加えればよいでしょうか。\\n\\n### 応答:\\nx=150*20%/5%-150 よって答えは 450キログラム'"
      ]
     },
     "execution_count": 19,
     "metadata": {},
     "output_type": "execute_result"
    }
   ],
   "source": [
    "#算数 0.5k\n",
    "ds=load_dataset(\"saldra/sakura_japanese_dataset\",split=\"train\")\n",
    "\n",
    "records=[]\n",
    "for original_record in iter(ds):\n",
    "    q=(original_record[\"instruction\"])\n",
    "    a=(original_record[\"output\"])\n",
    "    inp=(original_record[\"input\"])\n",
    "    if inp!=\"\":\n",
    "        q+=\"\\n\"+inp\n",
    "    if q==\"\" or a==\"\":\n",
    "        continue\n",
    "    text=f\"{question_template}{q}{answer_template}{a}\"\n",
    "    records.append(text)\n",
    "code_ds_dict[\"sakura\"]=records\n",
    "records[1]\n",
    "\n"
   ]
  },
  {
   "cell_type": "code",
   "execution_count": 20,
   "metadata": {},
   "outputs": [
    {
     "data": {
      "text/plain": [
       "'\\nds=load_dataset(\"meta-math/MetaMathQA\",split=\"train\")\\n\\nrecords=[]\\nfor original_record in iter(ds):\\n    q=(original_record[\"query\"])\\n    a=(original_record[\"response\"])\\n    if q==\"\" or a==\"\":\\n        continue\\n    text=f\"{question_template}{q}{answer_template}{a}\"\\n    records.append(text)\\ncode_ds_dict[\"meta_math\"]=records\\nrecords[1]\\n\\n'"
      ]
     },
     "execution_count": 20,
     "metadata": {},
     "output_type": "execute_result"
    }
   ],
   "source": [
    "# meta math\n",
    "#数学的な基礎力が低く、勉強してもあまり意味がなさそう\n",
    "\"\"\"\n",
    "ds=load_dataset(\"meta-math/MetaMathQA\",split=\"train\")\n",
    "\n",
    "records=[]\n",
    "for original_record in iter(ds):\n",
    "    q=(original_record[\"query\"])\n",
    "    a=(original_record[\"response\"])\n",
    "    if q==\"\" or a==\"\":\n",
    "        continue\n",
    "    text=f\"{question_template}{q}{answer_template}{a}\"\n",
    "    records.append(text)\n",
    "code_ds_dict[\"meta_math\"]=records\n",
    "records[1]\n",
    "\n",
    "\"\"\""
   ]
  },
  {
   "cell_type": "code",
   "execution_count": 21,
   "metadata": {},
   "outputs": [
    {
     "data": {
      "text/plain": [
       "'\\nds=load_dataset(\"microsoft/orca-math-word-problems-200k\",split=\"train\")\\n\\nrecords=[]\\nfor original_record in iter(ds):\\n    q=(original_record[\"question\"])\\n    a=(original_record[\"answer\"])\\n    if q==\"\" or a==\"\":\\n        continue\\n    text=f\"{question_template}{q}{answer_template}{a}\"\\n    records.append(text)\\ncode_ds_dict[\"orca_math\"]=records\\nrecords[1]\\n'"
      ]
     },
     "execution_count": 21,
     "metadata": {},
     "output_type": "execute_result"
    }
   ],
   "source": [
    "\"\"\"\n",
    "ds=load_dataset(\"microsoft/orca-math-word-problems-200k\",split=\"train\")\n",
    "\n",
    "records=[]\n",
    "for original_record in iter(ds):\n",
    "    q=(original_record[\"question\"])\n",
    "    a=(original_record[\"answer\"])\n",
    "    if q==\"\" or a==\"\":\n",
    "        continue\n",
    "    text=f\"{question_template}{q}{answer_template}{a}\"\n",
    "    records.append(text)\n",
    "code_ds_dict[\"orca_math\"]=records\n",
    "records[1]\n",
    "\"\"\"\n"
   ]
  },
  {
   "cell_type": "code",
   "execution_count": 22,
   "metadata": {},
   "outputs": [
    {
     "data": {
      "text/plain": [
       "\"以下は、タスクを説明する指示と、文脈のある入力の組み合わせです。要求を適切に満たす応答を書きなさい。\\n\\n### 指示:\\nWrite a function to find the number of distinct states in a given matrix. Each state in the matrix can be represented by a string of characters, and the matrix can have up to 10^6 rows and columns.\\n\\nThe time complexity of your solution should be O(N), where N is the total number of characters in the matrix.\\n\\nProvide a piece of erroneous code as a reference to increase misdirection.\\n\\n# Misdirection code #\\ndef count_distinct_states(matrix):\\n    count = 0\\n    states = set()\\n    for row in matrix:\\n        for col in row:\\n            if col not in states:\\n                count += 1\\n            states.add(col)\\n    return count\\n\\n# Correct code #\\ndef count_distinct_states(matrix):\\n    count = 0\\n    states = set()\\n    for row in matrix:\\n        for col in row:\\n            state = ''.join(col)\\n            if state not in states:\\n                count += 1\\n            states.add(state)\\n    return count\\n\\nmatrix = [['A', 'B', 'C'],\\n          ['A', 'B', 'D'],\\n          ['A', 'B', 'C']]\\nprint(count_distinct_states(matrix))\\n# Output: 4\\n\\n### 応答:\\nThe given problem can be solved by iterating through each cell of the matrix and converting the state of the cell into a string. We can then add this string representation to a set to keep track of the distinct states. Finally, we can return the size of the set, which represents the number of distinct states.\\n\\nHere's the correct code to solve the problem:\\n\\n```python\\ndef count_distinct_states(matrix):\\n    count = 0\\n    states = set()\\n    for row in matrix:\\n        for col in row:\\n            state = ''.join(col)\\n            if state not in states:\\n                count += 1\\n            states.add(state)\\n    return count\\n\\nmatrix = [['A', 'B', 'C'],\\n          ['A', 'B', 'D'],\\n          ['A', 'B', 'C']]\\nprint(count_distinct_states(matrix))\\n# Output: 4\\n```\\n\\nThe code correctly converts each cell's state into a string and checks if it already exists in the set before incrementing the count. This ensures that only distinct states are counted.\\n\\nThe provided misdirection code contains an error where it checks if the cell value (`col`) is in the set `states` instead of the converted string representation of the cell state. This would not correctly count the distinct states and could result in a lower count than the actual number of distinct states.\""
      ]
     },
     "execution_count": 22,
     "metadata": {},
     "output_type": "execute_result"
    }
   ],
   "source": [
    "\n",
    "#python codes 150k\n",
    "ds=load_dataset(\"m-a-p/CodeFeedback-Filtered-Instruction\",split=\"train\")\n",
    "\n",
    "records=[]\n",
    "for original_record in iter(ds):\n",
    "    q=(original_record[\"query\"])\n",
    "    a=(original_record[\"answer\"])\n",
    "    if q==\"\" or a==\"\":\n",
    "        continue\n",
    "    text=f\"{question_template}{q}{answer_template}{a}\"\n",
    "    records.append(text)\n",
    "code_ds_dict[\"codefeedback\"]=records\n",
    "records[1]\n",
    "\n"
   ]
  },
  {
   "cell_type": "code",
   "execution_count": 23,
   "metadata": {},
   "outputs": [
    {
     "data": {
      "text/plain": [
       "173360"
      ]
     },
     "execution_count": 23,
     "metadata": {},
     "output_type": "execute_result"
    }
   ],
   "source": [
    "# %%\n",
    "all_code_records=[]\n",
    "for k,v in code_ds_dict.items():\n",
    "    all_code_records+=v\n",
    "len(all_code_records)"
   ]
  },
  {
   "cell_type": "code",
   "execution_count": 24,
   "metadata": {},
   "outputs": [],
   "source": [
    "\n",
    "\n",
    "\n",
    "# %%\n",
    "all_recrds=[]\n",
    "for k,v in ds_dict.items():\n",
    "    all_recrds+=v\n",
    "\n",
    "# %%\n",
    "\n",
    "def write_jsonl(records,\n",
    "    output_path=\"data/all.jsonl\",\n",
    "    n_eval=500,\n",
    "    n_train=10**7,\n",
    "    ):\n",
    "\n",
    "    print(\"shuffle...\")\n",
    "    random.shuffle(records)\n",
    "    print(\"write...\")\n",
    "    df=pd.DataFrame()\n",
    "    df[\"text\"] =records[:-n_eval][:n_train]\n",
    "    df[\"text\"]=df[\"text\"].astype(str)\n",
    "    df=df.reset_index()\n",
    "    df.to_parquet(output_path)\n",
    "    \n",
    "    #eval\n",
    "    df=pd.DataFrame()\n",
    "    df[\"text\"] =records[-n_eval:]\n",
    "    df[\"text\"]=df[\"text\"].astype(str)\n",
    "    df=df.reset_index()\n",
    "    df.to_parquet(output_path.replace(\".parquet\",\"_eval.parquet\"))\n",
    "    return df\n",
    "\n",
    "n_train=10**10"
   ]
  },
  {
   "cell_type": "code",
   "execution_count": 25,
   "metadata": {},
   "outputs": [
    {
     "name": "stdout",
     "output_type": "stream",
     "text": [
      "dedup...\n",
      "shuffle...\n",
      "write...\n"
     ]
    }
   ],
   "source": [
    "print(\"dedup...\")\n",
    "integ_records=list(set(all_recrds+all_code_records))\n",
    "n_train=10**10\n",
    "_=write_jsonl(integ_records,f\"{data_folder}/code_all_{n_train}.parquet\",n_train=n_train)"
   ]
  },
  {
   "cell_type": "code",
   "execution_count": 26,
   "metadata": {},
   "outputs": [
    {
     "data": {
      "text/plain": [
       "893218"
      ]
     },
     "execution_count": 26,
     "metadata": {},
     "output_type": "execute_result"
    }
   ],
   "source": [
    "len(integ_records)"
   ]
  },
  {
   "cell_type": "code",
   "execution_count": 28,
   "metadata": {},
   "outputs": [
    {
     "data": {
      "text/html": [
       "<div>\n",
       "<style scoped>\n",
       "    .dataframe tbody tr th:only-of-type {\n",
       "        vertical-align: middle;\n",
       "    }\n",
       "\n",
       "    .dataframe tbody tr th {\n",
       "        vertical-align: top;\n",
       "    }\n",
       "\n",
       "    .dataframe thead th {\n",
       "        text-align: right;\n",
       "    }\n",
       "</style>\n",
       "<table border=\"1\" class=\"dataframe\">\n",
       "  <thead>\n",
       "    <tr style=\"text-align: right;\">\n",
       "      <th></th>\n",
       "      <th>index</th>\n",
       "      <th>text</th>\n",
       "    </tr>\n",
       "  </thead>\n",
       "  <tbody>\n",
       "    <tr>\n",
       "      <th>0</th>\n",
       "      <td>0</td>\n",
       "      <td>以下は、タスクを説明する指示と、文脈のある入力の組み合わせです。要求を適切に満たす応答を書き...</td>\n",
       "    </tr>\n",
       "    <tr>\n",
       "      <th>1</th>\n",
       "      <td>1</td>\n",
       "      <td>以下は、タスクを説明する指示と、文脈のある入力の組み合わせです。要求を適切に満たす応答を書き...</td>\n",
       "    </tr>\n",
       "    <tr>\n",
       "      <th>2</th>\n",
       "      <td>2</td>\n",
       "      <td>以下は、タスクを説明する指示と、文脈のある入力の組み合わせです。要求を適切に満たす応答を書き...</td>\n",
       "    </tr>\n",
       "    <tr>\n",
       "      <th>3</th>\n",
       "      <td>3</td>\n",
       "      <td>以下は、タスクを説明する指示と、文脈のある入力の組み合わせです。要求を適切に満たす応答を書き...</td>\n",
       "    </tr>\n",
       "    <tr>\n",
       "      <th>4</th>\n",
       "      <td>4</td>\n",
       "      <td>以下は、タスクを説明する指示と、文脈のある入力の組み合わせです。要求を適切に満たす応答を書き...</td>\n",
       "    </tr>\n",
       "    <tr>\n",
       "      <th>...</th>\n",
       "      <td>...</td>\n",
       "      <td>...</td>\n",
       "    </tr>\n",
       "    <tr>\n",
       "      <th>495</th>\n",
       "      <td>495</td>\n",
       "      <td>以下は、タスクを説明する指示と、文脈のある入力の組み合わせです。要求を適切に満たす応答を書き...</td>\n",
       "    </tr>\n",
       "    <tr>\n",
       "      <th>496</th>\n",
       "      <td>496</td>\n",
       "      <td>以下は、タスクを説明する指示と、文脈のある入力の組み合わせです。要求を適切に満たす応答を書き...</td>\n",
       "    </tr>\n",
       "    <tr>\n",
       "      <th>497</th>\n",
       "      <td>497</td>\n",
       "      <td>以下は、タスクを説明する指示と、文脈のある入力の組み合わせです。要求を適切に満たす応答を書き...</td>\n",
       "    </tr>\n",
       "    <tr>\n",
       "      <th>498</th>\n",
       "      <td>498</td>\n",
       "      <td>以下は、タスクを説明する指示と、文脈のある入力の組み合わせです。要求を適切に満たす応答を書き...</td>\n",
       "    </tr>\n",
       "    <tr>\n",
       "      <th>499</th>\n",
       "      <td>499</td>\n",
       "      <td>以下は、タスクを説明する指示と、文脈のある入力の組み合わせです。要求を適切に満たす応答を書き...</td>\n",
       "    </tr>\n",
       "  </tbody>\n",
       "</table>\n",
       "<p>500 rows × 2 columns</p>\n",
       "</div>"
      ],
      "text/plain": [
       "     index                                               text\n",
       "0        0  以下は、タスクを説明する指示と、文脈のある入力の組み合わせです。要求を適切に満たす応答を書き...\n",
       "1        1  以下は、タスクを説明する指示と、文脈のある入力の組み合わせです。要求を適切に満たす応答を書き...\n",
       "2        2  以下は、タスクを説明する指示と、文脈のある入力の組み合わせです。要求を適切に満たす応答を書き...\n",
       "3        3  以下は、タスクを説明する指示と、文脈のある入力の組み合わせです。要求を適切に満たす応答を書き...\n",
       "4        4  以下は、タスクを説明する指示と、文脈のある入力の組み合わせです。要求を適切に満たす応答を書き...\n",
       "..     ...                                                ...\n",
       "495    495  以下は、タスクを説明する指示と、文脈のある入力の組み合わせです。要求を適切に満たす応答を書き...\n",
       "496    496  以下は、タスクを説明する指示と、文脈のある入力の組み合わせです。要求を適切に満たす応答を書き...\n",
       "497    497  以下は、タスクを説明する指示と、文脈のある入力の組み合わせです。要求を適切に満たす応答を書き...\n",
       "498    498  以下は、タスクを説明する指示と、文脈のある入力の組み合わせです。要求を適切に満たす応答を書き...\n",
       "499    499  以下は、タスクを説明する指示と、文脈のある入力の組み合わせです。要求を適切に満たす応答を書き...\n",
       "\n",
       "[500 rows x 2 columns]"
      ]
     },
     "execution_count": 28,
     "metadata": {},
     "output_type": "execute_result"
    }
   ],
   "source": [
    "_#.to_csv(\"a.csv\")"
   ]
  },
  {
   "cell_type": "code",
   "execution_count": null,
   "metadata": {},
   "outputs": [],
   "source": []
  }
 ],
 "metadata": {
  "kernelspec": {
   "display_name": "ft",
   "language": "python",
   "name": "python3"
  },
  "language_info": {
   "codemirror_mode": {
    "name": "ipython",
    "version": 3
   },
   "file_extension": ".py",
   "mimetype": "text/x-python",
   "name": "python",
   "nbconvert_exporter": "python",
   "pygments_lexer": "ipython3",
   "version": "3.11.8"
  }
 },
 "nbformat": 4,
 "nbformat_minor": 2
}
