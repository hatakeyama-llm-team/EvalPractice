{
 "cells": [
  {
   "cell_type": "code",
   "execution_count": 1,
   "metadata": {},
   "outputs": [],
   "source": [
    "import yaml\n",
    "from datetime import datetime\n",
    "#うまくyamlを作れなかったので、やめる"
   ]
  },
  {
   "cell_type": "code",
   "execution_count": 2,
   "metadata": {},
   "outputs": [
    {
     "data": {
      "text/plain": [
       "{'use_wandb_artifacts': False,\n",
       " 'artifacts_path': '',\n",
       " 'pretrained_model_name_or_path': 'kanhatakeyama/0516tanuki_lr5e5_epoch1',\n",
       " 'use_fast': True}"
      ]
     },
     "execution_count": 2,
     "metadata": {},
     "output_type": "execute_result"
    }
   ],
   "source": [
    "config_path=\"configs/config.yaml\"\n",
    "template_config_path=\"configs/config_template.yaml\"\n",
    "with open(template_config_path, 'r') as f:\n",
    "    config = yaml.safe_load(f)\n",
    "\n",
    "config[\"tokenizer\"]"
   ]
  },
  {
   "cell_type": "code",
   "execution_count": 3,
   "metadata": {},
   "outputs": [],
   "source": [
    "project_name=\"run_test\"\n",
    "datetime_str = datetime.now().strftime(\"%Y-%m-%d_%H-%M-%S\")\n",
    "model_name=\"/home/hatakeyama/python/EvalPractice/model/0523ft_all_-home-hatakeyama-python-llm-models-hf-epoch3_step300_inst_0523ft_all-code_all_10000000000-parquet_lr_5e-5/checkpoint-1600\"\n",
    "run_name=f\"weblab-geniac1/{project_name}_{datetime_str}\"\n",
    "\n",
    "config[\"wandb\"][\"run_name\"] = run_name\n",
    "config[\"model\"][\"pretrained_model_name_or_path\"] = model_name\n",
    "config[\"tokenizer\"][\"pretrained_model_name_or_path\"] = model_name\n",
    "\n",
    "def escape_yaml_value(value):\n",
    "    if isinstance(value, str):\n",
    "        return repr(value)\n",
    "    elif isinstance(value, (list, tuple)):\n",
    "        return repr(tuple(value))\n",
    "    else:\n",
    "        return value\n",
    "\n",
    "config=escape_yaml_value(config)\n",
    "#config = escape_and_quote_strings_in_dict(config)\n",
    "with open(config_path, 'w') as f:\n",
    "    yaml.dump(config, f, default_flow_style=False,allow_unicode=True)"
   ]
  },
  {
   "cell_type": "code",
   "execution_count": null,
   "metadata": {},
   "outputs": [],
   "source": []
  },
  {
   "cell_type": "code",
   "execution_count": null,
   "metadata": {},
   "outputs": [],
   "source": []
  }
 ],
 "metadata": {
  "kernelspec": {
   "display_name": "llmeval",
   "language": "python",
   "name": "python3"
  },
  "language_info": {
   "codemirror_mode": {
    "name": "ipython",
    "version": 3
   },
   "file_extension": ".py",
   "mimetype": "text/x-python",
   "name": "python",
   "nbconvert_exporter": "python",
   "pygments_lexer": "ipython3",
   "version": "3.11.8"
  }
 },
 "nbformat": 4,
 "nbformat_minor": 2
}
