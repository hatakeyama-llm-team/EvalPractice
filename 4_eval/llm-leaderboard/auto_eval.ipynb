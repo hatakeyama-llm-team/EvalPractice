{
 "cells": [
  {
   "cell_type": "code",
   "execution_count": 13,
   "metadata": {},
   "outputs": [],
   "source": [
    "import yaml\n",
    "import glob\n",
    "import datetime\n",
    "# YAMLファイルを読み込む\n",
    "with open('configs/config_eval.yaml', 'r') as file:\n",
    "    data = yaml.safe_load(file)"
   ]
  },
  {
   "cell_type": "code",
   "execution_count": 11,
   "metadata": {},
   "outputs": [
    {
     "data": {
      "text/plain": [
       "['../../data/model/test']"
      ]
     },
     "execution_count": 11,
     "metadata": {},
     "output_type": "execute_result"
    }
   ],
   "source": [
    "model_path_list=glob.glob(\"../../data/model/*\")\n",
    "model_path_list"
   ]
  },
  {
   "cell_type": "code",
   "execution_count": 17,
   "metadata": {},
   "outputs": [],
   "source": [
    "model_path=model_path_list[0]\n",
    "model_name=model_path.split(\"/\")[-1]\n",
    "run_name=datetime.datetime.now().strftime('%Y%m%d_%H%M%S')+model_name\n",
    "data[\"wandb\"][\"run_name\"]=run_name\n",
    "data[\"model\"][\"pretrained_model_name_or_path\"]=model_path\n",
    "data[\"tokenizer\"][\"pretrained_model_name_or_path\"]=model_path\n",
    "data[\"metainfo\"][\"basemodel_name\"]=model_name\n",
    "\n",
    "# YAMLファイルに書き込む\n",
    "with open('configs/config_eval_.yaml', 'w') as file:\n",
    "    yaml.dump(data, file,)"
   ]
  },
  {
   "cell_type": "code",
   "execution_count": null,
   "metadata": {},
   "outputs": [],
   "source": []
  }
 ],
 "metadata": {
  "kernelspec": {
   "display_name": "ft",
   "language": "python",
   "name": "python3"
  },
  "language_info": {
   "codemirror_mode": {
    "name": "ipython",
    "version": 3
   },
   "file_extension": ".py",
   "mimetype": "text/x-python",
   "name": "python",
   "nbconvert_exporter": "python",
   "pygments_lexer": "ipython3",
   "version": "3.11.5"
  }
 },
 "nbformat": 4,
 "nbformat_minor": 2
}
